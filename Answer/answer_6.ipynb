{
 "cells": [
  {
   "cell_type": "code",
   "execution_count": 1,
   "metadata": {},
   "outputs": [],
   "source": [
    "import numpy as np\n",
    "import pandas as pd"
   ]
  },
  {
   "cell_type": "code",
   "execution_count": 2,
   "metadata": {},
   "outputs": [
    {
     "data": {
      "text/html": [
       "<div>\n",
       "<style scoped>\n",
       "    .dataframe tbody tr th:only-of-type {\n",
       "        vertical-align: middle;\n",
       "    }\n",
       "\n",
       "    .dataframe tbody tr th {\n",
       "        vertical-align: top;\n",
       "    }\n",
       "\n",
       "    .dataframe thead th {\n",
       "        text-align: right;\n",
       "    }\n",
       "</style>\n",
       "<table border=\"1\" class=\"dataframe\">\n",
       "  <thead>\n",
       "    <tr style=\"text-align: right;\">\n",
       "      <th></th>\n",
       "      <th>ids</th>\n",
       "      <th>ages</th>\n",
       "      <th>orders</th>\n",
       "      <th>purchases</th>\n",
       "      <th>bookmarks</th>\n",
       "      <th>replies</th>\n",
       "      <th>ratings</th>\n",
       "      <th>period</th>\n",
       "    </tr>\n",
       "  </thead>\n",
       "  <tbody>\n",
       "    <tr>\n",
       "      <td>0</td>\n",
       "      <td>47009</td>\n",
       "      <td>42</td>\n",
       "      <td>95</td>\n",
       "      <td>3509917.0</td>\n",
       "      <td>9</td>\n",
       "      <td>14</td>\n",
       "      <td>26</td>\n",
       "      <td>26</td>\n",
       "    </tr>\n",
       "    <tr>\n",
       "      <td>1</td>\n",
       "      <td>74838</td>\n",
       "      <td>41</td>\n",
       "      <td>10</td>\n",
       "      <td>673392.0</td>\n",
       "      <td>10</td>\n",
       "      <td>24</td>\n",
       "      <td>72</td>\n",
       "      <td>40</td>\n",
       "    </tr>\n",
       "    <tr>\n",
       "      <td>2</td>\n",
       "      <td>34976</td>\n",
       "      <td>20</td>\n",
       "      <td>23</td>\n",
       "      <td>1943940.0</td>\n",
       "      <td>6</td>\n",
       "      <td>20</td>\n",
       "      <td>51</td>\n",
       "      <td>19</td>\n",
       "    </tr>\n",
       "    <tr>\n",
       "      <td>3</td>\n",
       "      <td>34959</td>\n",
       "      <td>37</td>\n",
       "      <td>46</td>\n",
       "      <td>1981730.0</td>\n",
       "      <td>0</td>\n",
       "      <td>26</td>\n",
       "      <td>52</td>\n",
       "      <td>19</td>\n",
       "    </tr>\n",
       "    <tr>\n",
       "      <td>4</td>\n",
       "      <td>36710</td>\n",
       "      <td>36</td>\n",
       "      <td>93</td>\n",
       "      <td>386907.0</td>\n",
       "      <td>10</td>\n",
       "      <td>30</td>\n",
       "      <td>59</td>\n",
       "      <td>20</td>\n",
       "    </tr>\n",
       "  </tbody>\n",
       "</table>\n",
       "</div>"
      ],
      "text/plain": [
       "     ids  ages  orders  purchases  bookmarks  replies  ratings  period\n",
       "0  47009    42      95  3509917.0          9       14       26      26\n",
       "1  74838    41      10   673392.0         10       24       72      40\n",
       "2  34976    20      23  1943940.0          6       20       51      19\n",
       "3  34959    37      46  1981730.0          0       26       52      19\n",
       "4  36710    36      93   386907.0         10       30       59      20"
      ]
     },
     "execution_count": 2,
     "metadata": {},
     "output_type": "execute_result"
    }
   ],
   "source": [
    "df = pd.read_csv(\"../Dataset/VberEats.csv\")\n",
    "df.head()"
   ]
  },
  {
   "cell_type": "code",
   "execution_count": 3,
   "metadata": {},
   "outputs": [
    {
     "data": {
      "text/plain": [
       "ids            int64\n",
       "ages           int64\n",
       "orders         int64\n",
       "purchases    float64\n",
       "bookmarks      int64\n",
       "replies        int64\n",
       "ratings        int64\n",
       "period         int64\n",
       "dtype: object"
      ]
     },
     "execution_count": 3,
     "metadata": {},
     "output_type": "execute_result"
    }
   ],
   "source": [
    "df.dtypes"
   ]
  },
  {
   "cell_type": "code",
   "execution_count": 4,
   "metadata": {},
   "outputs": [
    {
     "data": {
      "text/plain": [
       "(18951, 8)"
      ]
     },
     "execution_count": 4,
     "metadata": {},
     "output_type": "execute_result"
    }
   ],
   "source": [
    "df.shape"
   ]
  },
  {
   "cell_type": "code",
   "execution_count": 5,
   "metadata": {},
   "outputs": [
    {
     "data": {
      "text/plain": [
       "(203, 8)"
      ]
     },
     "execution_count": 5,
     "metadata": {},
     "output_type": "execute_result"
    }
   ],
   "source": [
    "test_set = df.loc[df['purchases'].isna()]\n",
    "test_set.shape"
   ]
  },
  {
   "cell_type": "code",
   "execution_count": 6,
   "metadata": {},
   "outputs": [
    {
     "data": {
      "text/html": [
       "<div>\n",
       "<style scoped>\n",
       "    .dataframe tbody tr th:only-of-type {\n",
       "        vertical-align: middle;\n",
       "    }\n",
       "\n",
       "    .dataframe tbody tr th {\n",
       "        vertical-align: top;\n",
       "    }\n",
       "\n",
       "    .dataframe thead th {\n",
       "        text-align: right;\n",
       "    }\n",
       "</style>\n",
       "<table border=\"1\" class=\"dataframe\">\n",
       "  <thead>\n",
       "    <tr style=\"text-align: right;\">\n",
       "      <th></th>\n",
       "      <th>ids</th>\n",
       "      <th>ages</th>\n",
       "      <th>orders</th>\n",
       "      <th>purchases</th>\n",
       "      <th>bookmarks</th>\n",
       "      <th>replies</th>\n",
       "      <th>ratings</th>\n",
       "      <th>period</th>\n",
       "    </tr>\n",
       "  </thead>\n",
       "  <tbody>\n",
       "    <tr>\n",
       "      <td>111</td>\n",
       "      <td>17967</td>\n",
       "      <td>20</td>\n",
       "      <td>10</td>\n",
       "      <td>NaN</td>\n",
       "      <td>5</td>\n",
       "      <td>29</td>\n",
       "      <td>113</td>\n",
       "      <td>10</td>\n",
       "    </tr>\n",
       "    <tr>\n",
       "      <td>323</td>\n",
       "      <td>68198</td>\n",
       "      <td>44</td>\n",
       "      <td>2</td>\n",
       "      <td>NaN</td>\n",
       "      <td>7</td>\n",
       "      <td>12</td>\n",
       "      <td>12</td>\n",
       "      <td>36</td>\n",
       "    </tr>\n",
       "    <tr>\n",
       "      <td>470</td>\n",
       "      <td>2336</td>\n",
       "      <td>30</td>\n",
       "      <td>1</td>\n",
       "      <td>NaN</td>\n",
       "      <td>9</td>\n",
       "      <td>26</td>\n",
       "      <td>96</td>\n",
       "      <td>2</td>\n",
       "    </tr>\n",
       "    <tr>\n",
       "      <td>550</td>\n",
       "      <td>55012</td>\n",
       "      <td>33</td>\n",
       "      <td>54</td>\n",
       "      <td>NaN</td>\n",
       "      <td>8</td>\n",
       "      <td>25</td>\n",
       "      <td>99</td>\n",
       "      <td>30</td>\n",
       "    </tr>\n",
       "    <tr>\n",
       "      <td>809</td>\n",
       "      <td>16217</td>\n",
       "      <td>25</td>\n",
       "      <td>51</td>\n",
       "      <td>NaN</td>\n",
       "      <td>11</td>\n",
       "      <td>9</td>\n",
       "      <td>12</td>\n",
       "      <td>9</td>\n",
       "    </tr>\n",
       "  </tbody>\n",
       "</table>\n",
       "</div>"
      ],
      "text/plain": [
       "       ids  ages  orders  purchases  bookmarks  replies  ratings  period\n",
       "111  17967    20      10        NaN          5       29      113      10\n",
       "323  68198    44       2        NaN          7       12       12      36\n",
       "470   2336    30       1        NaN          9       26       96       2\n",
       "550  55012    33      54        NaN          8       25       99      30\n",
       "809  16217    25      51        NaN         11        9       12       9"
      ]
     },
     "execution_count": 6,
     "metadata": {},
     "output_type": "execute_result"
    }
   ],
   "source": [
    "test_set.head()"
   ]
  },
  {
   "cell_type": "code",
   "execution_count": 7,
   "metadata": {},
   "outputs": [
    {
     "data": {
      "text/plain": [
       "(18748, 8)"
      ]
     },
     "execution_count": 7,
     "metadata": {},
     "output_type": "execute_result"
    }
   ],
   "source": [
    "train_set = df.loc[df['purchases'].isna()==False]\n",
    "train_set.shape"
   ]
  },
  {
   "cell_type": "code",
   "execution_count": 8,
   "metadata": {},
   "outputs": [
    {
     "data": {
      "text/html": [
       "<div>\n",
       "<style scoped>\n",
       "    .dataframe tbody tr th:only-of-type {\n",
       "        vertical-align: middle;\n",
       "    }\n",
       "\n",
       "    .dataframe tbody tr th {\n",
       "        vertical-align: top;\n",
       "    }\n",
       "\n",
       "    .dataframe thead th {\n",
       "        text-align: right;\n",
       "    }\n",
       "</style>\n",
       "<table border=\"1\" class=\"dataframe\">\n",
       "  <thead>\n",
       "    <tr style=\"text-align: right;\">\n",
       "      <th></th>\n",
       "      <th>ids</th>\n",
       "      <th>ages</th>\n",
       "      <th>orders</th>\n",
       "      <th>purchases</th>\n",
       "      <th>bookmarks</th>\n",
       "      <th>replies</th>\n",
       "      <th>ratings</th>\n",
       "      <th>period</th>\n",
       "    </tr>\n",
       "  </thead>\n",
       "  <tbody>\n",
       "    <tr>\n",
       "      <td>0</td>\n",
       "      <td>47009</td>\n",
       "      <td>42</td>\n",
       "      <td>95</td>\n",
       "      <td>3509917.0</td>\n",
       "      <td>9</td>\n",
       "      <td>14</td>\n",
       "      <td>26</td>\n",
       "      <td>26</td>\n",
       "    </tr>\n",
       "    <tr>\n",
       "      <td>1</td>\n",
       "      <td>74838</td>\n",
       "      <td>41</td>\n",
       "      <td>10</td>\n",
       "      <td>673392.0</td>\n",
       "      <td>10</td>\n",
       "      <td>24</td>\n",
       "      <td>72</td>\n",
       "      <td>40</td>\n",
       "    </tr>\n",
       "    <tr>\n",
       "      <td>2</td>\n",
       "      <td>34976</td>\n",
       "      <td>20</td>\n",
       "      <td>23</td>\n",
       "      <td>1943940.0</td>\n",
       "      <td>6</td>\n",
       "      <td>20</td>\n",
       "      <td>51</td>\n",
       "      <td>19</td>\n",
       "    </tr>\n",
       "    <tr>\n",
       "      <td>3</td>\n",
       "      <td>34959</td>\n",
       "      <td>37</td>\n",
       "      <td>46</td>\n",
       "      <td>1981730.0</td>\n",
       "      <td>0</td>\n",
       "      <td>26</td>\n",
       "      <td>52</td>\n",
       "      <td>19</td>\n",
       "    </tr>\n",
       "    <tr>\n",
       "      <td>4</td>\n",
       "      <td>36710</td>\n",
       "      <td>36</td>\n",
       "      <td>93</td>\n",
       "      <td>386907.0</td>\n",
       "      <td>10</td>\n",
       "      <td>30</td>\n",
       "      <td>59</td>\n",
       "      <td>20</td>\n",
       "    </tr>\n",
       "  </tbody>\n",
       "</table>\n",
       "</div>"
      ],
      "text/plain": [
       "     ids  ages  orders  purchases  bookmarks  replies  ratings  period\n",
       "0  47009    42      95  3509917.0          9       14       26      26\n",
       "1  74838    41      10   673392.0         10       24       72      40\n",
       "2  34976    20      23  1943940.0          6       20       51      19\n",
       "3  34959    37      46  1981730.0          0       26       52      19\n",
       "4  36710    36      93   386907.0         10       30       59      20"
      ]
     },
     "execution_count": 8,
     "metadata": {},
     "output_type": "execute_result"
    }
   ],
   "source": [
    "train_set.head()"
   ]
  },
  {
   "cell_type": "code",
   "execution_count": 9,
   "metadata": {},
   "outputs": [
    {
     "data": {
      "text/plain": [
       "Index(['ids', 'ages', 'orders', 'purchases', 'bookmarks', 'replies', 'ratings',\n",
       "       'period'],\n",
       "      dtype='object')"
      ]
     },
     "execution_count": 9,
     "metadata": {},
     "output_type": "execute_result"
    }
   ],
   "source": [
    "df.columns"
   ]
  },
  {
   "cell_type": "code",
   "execution_count": 10,
   "metadata": {},
   "outputs": [],
   "source": [
    "col = ['ages', 'orders','bookmarks', 'replies', 'ratings',\n",
    "       'period']\n"
   ]
  },
  {
   "cell_type": "code",
   "execution_count": 11,
   "metadata": {},
   "outputs": [],
   "source": [
    "from sklearn.tree import DecisionTreeRegressor\n",
    "from sklearn.preprocessing import MinMaxScaler\n",
    "random_state=229"
   ]
  },
  {
   "cell_type": "code",
   "execution_count": 12,
   "metadata": {},
   "outputs": [],
   "source": [
    "scaler=MinMaxScaler().fit(train_set[col])"
   ]
  },
  {
   "cell_type": "code",
   "execution_count": 13,
   "metadata": {},
   "outputs": [
    {
     "name": "stderr",
     "output_type": "stream",
     "text": [
      "C:\\Users\\syoun\\Anaconda3\\lib\\site-packages\\ipykernel_launcher.py:1: SettingWithCopyWarning: \n",
      "A value is trying to be set on a copy of a slice from a DataFrame.\n",
      "Try using .loc[row_indexer,col_indexer] = value instead\n",
      "\n",
      "See the caveats in the documentation: http://pandas.pydata.org/pandas-docs/stable/user_guide/indexing.html#returning-a-view-versus-a-copy\n",
      "  \"\"\"Entry point for launching an IPython kernel.\n",
      "C:\\Users\\syoun\\Anaconda3\\lib\\site-packages\\pandas\\core\\indexing.py:494: SettingWithCopyWarning: \n",
      "A value is trying to be set on a copy of a slice from a DataFrame.\n",
      "Try using .loc[row_indexer,col_indexer] = value instead\n",
      "\n",
      "See the caveats in the documentation: http://pandas.pydata.org/pandas-docs/stable/user_guide/indexing.html#returning-a-view-versus-a-copy\n",
      "  self.obj[item] = s\n"
     ]
    },
    {
     "data": {
      "text/html": [
       "<div>\n",
       "<style scoped>\n",
       "    .dataframe tbody tr th:only-of-type {\n",
       "        vertical-align: middle;\n",
       "    }\n",
       "\n",
       "    .dataframe tbody tr th {\n",
       "        vertical-align: top;\n",
       "    }\n",
       "\n",
       "    .dataframe thead th {\n",
       "        text-align: right;\n",
       "    }\n",
       "</style>\n",
       "<table border=\"1\" class=\"dataframe\">\n",
       "  <thead>\n",
       "    <tr style=\"text-align: right;\">\n",
       "      <th></th>\n",
       "      <th>ids</th>\n",
       "      <th>ages</th>\n",
       "      <th>orders</th>\n",
       "      <th>purchases</th>\n",
       "      <th>bookmarks</th>\n",
       "      <th>replies</th>\n",
       "      <th>ratings</th>\n",
       "      <th>period</th>\n",
       "    </tr>\n",
       "  </thead>\n",
       "  <tbody>\n",
       "    <tr>\n",
       "      <td>0</td>\n",
       "      <td>47009</td>\n",
       "      <td>0.666667</td>\n",
       "      <td>0.959184</td>\n",
       "      <td>3509917.0</td>\n",
       "      <td>0.750000</td>\n",
       "      <td>0.358974</td>\n",
       "      <td>0.124402</td>\n",
       "      <td>0.641026</td>\n",
       "    </tr>\n",
       "    <tr>\n",
       "      <td>1</td>\n",
       "      <td>74838</td>\n",
       "      <td>0.638889</td>\n",
       "      <td>0.091837</td>\n",
       "      <td>673392.0</td>\n",
       "      <td>0.833333</td>\n",
       "      <td>0.615385</td>\n",
       "      <td>0.344498</td>\n",
       "      <td>1.000000</td>\n",
       "    </tr>\n",
       "    <tr>\n",
       "      <td>2</td>\n",
       "      <td>34976</td>\n",
       "      <td>0.055556</td>\n",
       "      <td>0.224490</td>\n",
       "      <td>1943940.0</td>\n",
       "      <td>0.500000</td>\n",
       "      <td>0.512821</td>\n",
       "      <td>0.244019</td>\n",
       "      <td>0.461538</td>\n",
       "    </tr>\n",
       "    <tr>\n",
       "      <td>3</td>\n",
       "      <td>34959</td>\n",
       "      <td>0.527778</td>\n",
       "      <td>0.459184</td>\n",
       "      <td>1981730.0</td>\n",
       "      <td>0.000000</td>\n",
       "      <td>0.666667</td>\n",
       "      <td>0.248804</td>\n",
       "      <td>0.461538</td>\n",
       "    </tr>\n",
       "    <tr>\n",
       "      <td>4</td>\n",
       "      <td>36710</td>\n",
       "      <td>0.500000</td>\n",
       "      <td>0.938776</td>\n",
       "      <td>386907.0</td>\n",
       "      <td>0.833333</td>\n",
       "      <td>0.769231</td>\n",
       "      <td>0.282297</td>\n",
       "      <td>0.487179</td>\n",
       "    </tr>\n",
       "  </tbody>\n",
       "</table>\n",
       "</div>"
      ],
      "text/plain": [
       "     ids      ages    orders  purchases  bookmarks   replies   ratings  \\\n",
       "0  47009  0.666667  0.959184  3509917.0   0.750000  0.358974  0.124402   \n",
       "1  74838  0.638889  0.091837   673392.0   0.833333  0.615385  0.344498   \n",
       "2  34976  0.055556  0.224490  1943940.0   0.500000  0.512821  0.244019   \n",
       "3  34959  0.527778  0.459184  1981730.0   0.000000  0.666667  0.248804   \n",
       "4  36710  0.500000  0.938776   386907.0   0.833333  0.769231  0.282297   \n",
       "\n",
       "     period  \n",
       "0  0.641026  \n",
       "1  1.000000  \n",
       "2  0.461538  \n",
       "3  0.461538  \n",
       "4  0.487179  "
      ]
     },
     "execution_count": 13,
     "metadata": {},
     "output_type": "execute_result"
    }
   ],
   "source": [
    "train_set[col]=scaler.transform(train_set[col])\n",
    "train_set.head()"
   ]
  },
  {
   "cell_type": "code",
   "execution_count": 14,
   "metadata": {},
   "outputs": [
    {
     "name": "stderr",
     "output_type": "stream",
     "text": [
      "C:\\Users\\syoun\\Anaconda3\\lib\\site-packages\\ipykernel_launcher.py:1: SettingWithCopyWarning: \n",
      "A value is trying to be set on a copy of a slice from a DataFrame.\n",
      "Try using .loc[row_indexer,col_indexer] = value instead\n",
      "\n",
      "See the caveats in the documentation: http://pandas.pydata.org/pandas-docs/stable/user_guide/indexing.html#returning-a-view-versus-a-copy\n",
      "  \"\"\"Entry point for launching an IPython kernel.\n",
      "C:\\Users\\syoun\\Anaconda3\\lib\\site-packages\\pandas\\core\\indexing.py:494: SettingWithCopyWarning: \n",
      "A value is trying to be set on a copy of a slice from a DataFrame.\n",
      "Try using .loc[row_indexer,col_indexer] = value instead\n",
      "\n",
      "See the caveats in the documentation: http://pandas.pydata.org/pandas-docs/stable/user_guide/indexing.html#returning-a-view-versus-a-copy\n",
      "  self.obj[item] = s\n"
     ]
    },
    {
     "data": {
      "text/html": [
       "<div>\n",
       "<style scoped>\n",
       "    .dataframe tbody tr th:only-of-type {\n",
       "        vertical-align: middle;\n",
       "    }\n",
       "\n",
       "    .dataframe tbody tr th {\n",
       "        vertical-align: top;\n",
       "    }\n",
       "\n",
       "    .dataframe thead th {\n",
       "        text-align: right;\n",
       "    }\n",
       "</style>\n",
       "<table border=\"1\" class=\"dataframe\">\n",
       "  <thead>\n",
       "    <tr style=\"text-align: right;\">\n",
       "      <th></th>\n",
       "      <th>ids</th>\n",
       "      <th>ages</th>\n",
       "      <th>orders</th>\n",
       "      <th>purchases</th>\n",
       "      <th>bookmarks</th>\n",
       "      <th>replies</th>\n",
       "      <th>ratings</th>\n",
       "      <th>period</th>\n",
       "    </tr>\n",
       "  </thead>\n",
       "  <tbody>\n",
       "    <tr>\n",
       "      <td>111</td>\n",
       "      <td>17967</td>\n",
       "      <td>0.055556</td>\n",
       "      <td>0.091837</td>\n",
       "      <td>NaN</td>\n",
       "      <td>0.416667</td>\n",
       "      <td>0.743590</td>\n",
       "      <td>0.540670</td>\n",
       "      <td>0.230769</td>\n",
       "    </tr>\n",
       "    <tr>\n",
       "      <td>323</td>\n",
       "      <td>68198</td>\n",
       "      <td>0.722222</td>\n",
       "      <td>0.010204</td>\n",
       "      <td>NaN</td>\n",
       "      <td>0.583333</td>\n",
       "      <td>0.307692</td>\n",
       "      <td>0.057416</td>\n",
       "      <td>0.897436</td>\n",
       "    </tr>\n",
       "    <tr>\n",
       "      <td>470</td>\n",
       "      <td>2336</td>\n",
       "      <td>0.333333</td>\n",
       "      <td>0.000000</td>\n",
       "      <td>NaN</td>\n",
       "      <td>0.750000</td>\n",
       "      <td>0.666667</td>\n",
       "      <td>0.459330</td>\n",
       "      <td>0.025641</td>\n",
       "    </tr>\n",
       "    <tr>\n",
       "      <td>550</td>\n",
       "      <td>55012</td>\n",
       "      <td>0.416667</td>\n",
       "      <td>0.540816</td>\n",
       "      <td>NaN</td>\n",
       "      <td>0.666667</td>\n",
       "      <td>0.641026</td>\n",
       "      <td>0.473684</td>\n",
       "      <td>0.743590</td>\n",
       "    </tr>\n",
       "    <tr>\n",
       "      <td>809</td>\n",
       "      <td>16217</td>\n",
       "      <td>0.194444</td>\n",
       "      <td>0.510204</td>\n",
       "      <td>NaN</td>\n",
       "      <td>0.916667</td>\n",
       "      <td>0.230769</td>\n",
       "      <td>0.057416</td>\n",
       "      <td>0.205128</td>\n",
       "    </tr>\n",
       "  </tbody>\n",
       "</table>\n",
       "</div>"
      ],
      "text/plain": [
       "       ids      ages    orders  purchases  bookmarks   replies   ratings  \\\n",
       "111  17967  0.055556  0.091837        NaN   0.416667  0.743590  0.540670   \n",
       "323  68198  0.722222  0.010204        NaN   0.583333  0.307692  0.057416   \n",
       "470   2336  0.333333  0.000000        NaN   0.750000  0.666667  0.459330   \n",
       "550  55012  0.416667  0.540816        NaN   0.666667  0.641026  0.473684   \n",
       "809  16217  0.194444  0.510204        NaN   0.916667  0.230769  0.057416   \n",
       "\n",
       "       period  \n",
       "111  0.230769  \n",
       "323  0.897436  \n",
       "470  0.025641  \n",
       "550  0.743590  \n",
       "809  0.205128  "
      ]
     },
     "execution_count": 14,
     "metadata": {},
     "output_type": "execute_result"
    }
   ],
   "source": [
    "test_set[col]=scaler.transform(test_set[col])\n",
    "test_set.head()"
   ]
  },
  {
   "cell_type": "code",
   "execution_count": 15,
   "metadata": {},
   "outputs": [],
   "source": [
    "model = DecisionTreeRegressor(random_state=random_state)"
   ]
  },
  {
   "cell_type": "code",
   "execution_count": 16,
   "metadata": {},
   "outputs": [
    {
     "data": {
      "text/plain": [
       "DecisionTreeRegressor(criterion='mse', max_depth=None, max_features=None,\n",
       "                      max_leaf_nodes=None, min_impurity_decrease=0.0,\n",
       "                      min_impurity_split=None, min_samples_leaf=1,\n",
       "                      min_samples_split=2, min_weight_fraction_leaf=0.0,\n",
       "                      presort=False, random_state=229, splitter='best')"
      ]
     },
     "execution_count": 16,
     "metadata": {},
     "output_type": "execute_result"
    }
   ],
   "source": [
    "model.fit(train_set[col], train_set['purchases'])"
   ]
  },
  {
   "cell_type": "code",
   "execution_count": 19,
   "metadata": {},
   "outputs": [],
   "source": [
    "pred_y = model.predict(test_set[col])"
   ]
  },
  {
   "cell_type": "code",
   "execution_count": 21,
   "metadata": {},
   "outputs": [],
   "source": [
    "df.loc[df['purchases'].isna(), 'purchases'] = pred_y"
   ]
  },
  {
   "cell_type": "code",
   "execution_count": 22,
   "metadata": {},
   "outputs": [
    {
     "data": {
      "text/html": [
       "<div>\n",
       "<style scoped>\n",
       "    .dataframe tbody tr th:only-of-type {\n",
       "        vertical-align: middle;\n",
       "    }\n",
       "\n",
       "    .dataframe tbody tr th {\n",
       "        vertical-align: top;\n",
       "    }\n",
       "\n",
       "    .dataframe thead th {\n",
       "        text-align: right;\n",
       "    }\n",
       "</style>\n",
       "<table border=\"1\" class=\"dataframe\">\n",
       "  <thead>\n",
       "    <tr style=\"text-align: right;\">\n",
       "      <th></th>\n",
       "      <th>ids</th>\n",
       "      <th>ages</th>\n",
       "      <th>orders</th>\n",
       "      <th>purchases</th>\n",
       "      <th>bookmarks</th>\n",
       "      <th>replies</th>\n",
       "      <th>ratings</th>\n",
       "      <th>period</th>\n",
       "    </tr>\n",
       "  </thead>\n",
       "  <tbody>\n",
       "  </tbody>\n",
       "</table>\n",
       "</div>"
      ],
      "text/plain": [
       "Empty DataFrame\n",
       "Columns: [ids, ages, orders, purchases, bookmarks, replies, ratings, period]\n",
       "Index: []"
      ]
     },
     "execution_count": 22,
     "metadata": {},
     "output_type": "execute_result"
    }
   ],
   "source": [
    "df.loc[df['purchases'].isna()]"
   ]
  },
  {
   "cell_type": "code",
   "execution_count": 23,
   "metadata": {},
   "outputs": [
    {
     "data": {
      "text/plain": [
       "2666251.4393435703"
      ]
     },
     "execution_count": 23,
     "metadata": {},
     "output_type": "execute_result"
    }
   ],
   "source": [
    "df['purchases'].mean()"
   ]
  },
  {
   "cell_type": "code",
   "execution_count": 24,
   "metadata": {},
   "outputs": [
    {
     "data": {
      "text/plain": [
       "(4738, 8)"
      ]
     },
     "execution_count": 24,
     "metadata": {},
     "output_type": "execute_result"
    }
   ],
   "source": [
    "df_sub1 = df.sample(frac=0.25, random_state=random_state)\n",
    "df_sub1.shape"
   ]
  },
  {
   "cell_type": "code",
   "execution_count": 25,
   "metadata": {},
   "outputs": [
    {
     "data": {
      "text/plain": [
       "(18951, 8)"
      ]
     },
     "execution_count": 25,
     "metadata": {},
     "output_type": "execute_result"
    }
   ],
   "source": [
    "df.shape"
   ]
  },
  {
   "cell_type": "code",
   "execution_count": 26,
   "metadata": {},
   "outputs": [
    {
     "data": {
      "text/plain": [
       "4737.75"
      ]
     },
     "execution_count": 26,
     "metadata": {},
     "output_type": "execute_result"
    }
   ],
   "source": [
    "18951*0.25"
   ]
  },
  {
   "cell_type": "code",
   "execution_count": 28,
   "metadata": {},
   "outputs": [
    {
     "data": {
      "text/html": [
       "<div>\n",
       "<style scoped>\n",
       "    .dataframe tbody tr th:only-of-type {\n",
       "        vertical-align: middle;\n",
       "    }\n",
       "\n",
       "    .dataframe tbody tr th {\n",
       "        vertical-align: top;\n",
       "    }\n",
       "\n",
       "    .dataframe thead th {\n",
       "        text-align: right;\n",
       "    }\n",
       "</style>\n",
       "<table border=\"1\" class=\"dataframe\">\n",
       "  <thead>\n",
       "    <tr style=\"text-align: right;\">\n",
       "      <th></th>\n",
       "      <th>ids</th>\n",
       "      <th>ages</th>\n",
       "      <th>orders</th>\n",
       "      <th>purchases</th>\n",
       "      <th>bookmarks</th>\n",
       "      <th>replies</th>\n",
       "      <th>ratings</th>\n",
       "      <th>period</th>\n",
       "      <th>age_cls</th>\n",
       "    </tr>\n",
       "  </thead>\n",
       "  <tbody>\n",
       "    <tr>\n",
       "      <td>6424</td>\n",
       "      <td>6941</td>\n",
       "      <td>33</td>\n",
       "      <td>57</td>\n",
       "      <td>204381.0</td>\n",
       "      <td>5</td>\n",
       "      <td>8</td>\n",
       "      <td>21</td>\n",
       "      <td>4</td>\n",
       "      <td>3</td>\n",
       "    </tr>\n",
       "    <tr>\n",
       "      <td>14181</td>\n",
       "      <td>43255</td>\n",
       "      <td>40</td>\n",
       "      <td>5</td>\n",
       "      <td>34325.0</td>\n",
       "      <td>6</td>\n",
       "      <td>25</td>\n",
       "      <td>75</td>\n",
       "      <td>24</td>\n",
       "      <td>4</td>\n",
       "    </tr>\n",
       "    <tr>\n",
       "      <td>8550</td>\n",
       "      <td>37222</td>\n",
       "      <td>31</td>\n",
       "      <td>88</td>\n",
       "      <td>6708403.0</td>\n",
       "      <td>3</td>\n",
       "      <td>18</td>\n",
       "      <td>67</td>\n",
       "      <td>20</td>\n",
       "      <td>3</td>\n",
       "    </tr>\n",
       "    <tr>\n",
       "      <td>3876</td>\n",
       "      <td>13537</td>\n",
       "      <td>43</td>\n",
       "      <td>32</td>\n",
       "      <td>1975157.0</td>\n",
       "      <td>0</td>\n",
       "      <td>11</td>\n",
       "      <td>15</td>\n",
       "      <td>8</td>\n",
       "      <td>4</td>\n",
       "    </tr>\n",
       "    <tr>\n",
       "      <td>12120</td>\n",
       "      <td>69188</td>\n",
       "      <td>34</td>\n",
       "      <td>64</td>\n",
       "      <td>11142283.0</td>\n",
       "      <td>9</td>\n",
       "      <td>11</td>\n",
       "      <td>32</td>\n",
       "      <td>38</td>\n",
       "      <td>3</td>\n",
       "    </tr>\n",
       "  </tbody>\n",
       "</table>\n",
       "</div>"
      ],
      "text/plain": [
       "         ids  ages  orders   purchases  bookmarks  replies  ratings  period  \\\n",
       "6424    6941    33      57    204381.0          5        8       21       4   \n",
       "14181  43255    40       5     34325.0          6       25       75      24   \n",
       "8550   37222    31      88   6708403.0          3       18       67      20   \n",
       "3876   13537    43      32   1975157.0          0       11       15       8   \n",
       "12120  69188    34      64  11142283.0          9       11       32      38   \n",
       "\n",
       "       age_cls  \n",
       "6424         3  \n",
       "14181        4  \n",
       "8550         3  \n",
       "3876         4  \n",
       "12120        3  "
      ]
     },
     "execution_count": 28,
     "metadata": {},
     "output_type": "execute_result"
    }
   ],
   "source": [
    "df_sub1['age_cls']=df['ages']//10\n",
    "df_sub1.head()"
   ]
  },
  {
   "cell_type": "code",
   "execution_count": 29,
   "metadata": {},
   "outputs": [
    {
     "data": {
      "text/plain": [
       "Index(['ids', 'ages', 'orders', 'purchases', 'bookmarks', 'replies', 'ratings',\n",
       "       'period', 'age_cls'],\n",
       "      dtype='object')"
      ]
     },
     "execution_count": 29,
     "metadata": {},
     "output_type": "execute_result"
    }
   ],
   "source": [
    "df_sub1.columns"
   ]
  },
  {
   "cell_type": "code",
   "execution_count": 30,
   "metadata": {},
   "outputs": [],
   "source": [
    "col = ['ages', 'orders', 'bookmarks', 'replies', 'ratings',\n",
    "       'period']"
   ]
  },
  {
   "cell_type": "code",
   "execution_count": 31,
   "metadata": {},
   "outputs": [],
   "source": [
    "from sklearn.preprocessing import MinMaxScaler\n",
    "from sklearn.cluster import KMeans\n",
    "from sklearn.metrics import silhouette_score\n",
    "random_state=229"
   ]
  },
  {
   "cell_type": "code",
   "execution_count": 32,
   "metadata": {},
   "outputs": [],
   "source": [
    "scaler = MinMaxScaler().fit(df_sub1[col])\n",
    "df_sub1[col]=scaler.transform(df_sub1[col])"
   ]
  },
  {
   "cell_type": "code",
   "execution_count": 33,
   "metadata": {},
   "outputs": [
    {
     "data": {
      "text/html": [
       "<div>\n",
       "<style scoped>\n",
       "    .dataframe tbody tr th:only-of-type {\n",
       "        vertical-align: middle;\n",
       "    }\n",
       "\n",
       "    .dataframe tbody tr th {\n",
       "        vertical-align: top;\n",
       "    }\n",
       "\n",
       "    .dataframe thead th {\n",
       "        text-align: right;\n",
       "    }\n",
       "</style>\n",
       "<table border=\"1\" class=\"dataframe\">\n",
       "  <thead>\n",
       "    <tr style=\"text-align: right;\">\n",
       "      <th></th>\n",
       "      <th>ids</th>\n",
       "      <th>ages</th>\n",
       "      <th>orders</th>\n",
       "      <th>purchases</th>\n",
       "      <th>bookmarks</th>\n",
       "      <th>replies</th>\n",
       "      <th>ratings</th>\n",
       "      <th>period</th>\n",
       "      <th>age_cls</th>\n",
       "    </tr>\n",
       "  </thead>\n",
       "  <tbody>\n",
       "    <tr>\n",
       "      <td>6424</td>\n",
       "      <td>6941</td>\n",
       "      <td>0.416667</td>\n",
       "      <td>0.571429</td>\n",
       "      <td>204381.0</td>\n",
       "      <td>0.416667</td>\n",
       "      <td>0.205128</td>\n",
       "      <td>0.100962</td>\n",
       "      <td>0.076923</td>\n",
       "      <td>3</td>\n",
       "    </tr>\n",
       "    <tr>\n",
       "      <td>14181</td>\n",
       "      <td>43255</td>\n",
       "      <td>0.611111</td>\n",
       "      <td>0.040816</td>\n",
       "      <td>34325.0</td>\n",
       "      <td>0.500000</td>\n",
       "      <td>0.641026</td>\n",
       "      <td>0.360577</td>\n",
       "      <td>0.589744</td>\n",
       "      <td>4</td>\n",
       "    </tr>\n",
       "    <tr>\n",
       "      <td>8550</td>\n",
       "      <td>37222</td>\n",
       "      <td>0.361111</td>\n",
       "      <td>0.887755</td>\n",
       "      <td>6708403.0</td>\n",
       "      <td>0.250000</td>\n",
       "      <td>0.461538</td>\n",
       "      <td>0.322115</td>\n",
       "      <td>0.487179</td>\n",
       "      <td>3</td>\n",
       "    </tr>\n",
       "    <tr>\n",
       "      <td>3876</td>\n",
       "      <td>13537</td>\n",
       "      <td>0.694444</td>\n",
       "      <td>0.316327</td>\n",
       "      <td>1975157.0</td>\n",
       "      <td>0.000000</td>\n",
       "      <td>0.282051</td>\n",
       "      <td>0.072115</td>\n",
       "      <td>0.179487</td>\n",
       "      <td>4</td>\n",
       "    </tr>\n",
       "    <tr>\n",
       "      <td>12120</td>\n",
       "      <td>69188</td>\n",
       "      <td>0.444444</td>\n",
       "      <td>0.642857</td>\n",
       "      <td>11142283.0</td>\n",
       "      <td>0.750000</td>\n",
       "      <td>0.282051</td>\n",
       "      <td>0.153846</td>\n",
       "      <td>0.948718</td>\n",
       "      <td>3</td>\n",
       "    </tr>\n",
       "  </tbody>\n",
       "</table>\n",
       "</div>"
      ],
      "text/plain": [
       "         ids      ages    orders   purchases  bookmarks   replies   ratings  \\\n",
       "6424    6941  0.416667  0.571429    204381.0   0.416667  0.205128  0.100962   \n",
       "14181  43255  0.611111  0.040816     34325.0   0.500000  0.641026  0.360577   \n",
       "8550   37222  0.361111  0.887755   6708403.0   0.250000  0.461538  0.322115   \n",
       "3876   13537  0.694444  0.316327   1975157.0   0.000000  0.282051  0.072115   \n",
       "12120  69188  0.444444  0.642857  11142283.0   0.750000  0.282051  0.153846   \n",
       "\n",
       "         period  age_cls  \n",
       "6424   0.076923        3  \n",
       "14181  0.589744        4  \n",
       "8550   0.487179        3  \n",
       "3876   0.179487        4  \n",
       "12120  0.948718        3  "
      ]
     },
     "execution_count": 33,
     "metadata": {},
     "output_type": "execute_result"
    }
   ],
   "source": [
    "df_sub1.head()"
   ]
  },
  {
   "cell_type": "code",
   "execution_count": 34,
   "metadata": {},
   "outputs": [
    {
     "name": "stdout",
     "output_type": "stream",
     "text": [
      "2 0.16180321227538863\n",
      "3 0.14967939166430252\n",
      "4 0.15079580349497418\n",
      "5 0.1493027174089563\n"
     ]
    }
   ],
   "source": [
    "for k in range(2, 6):\n",
    "    model = KMeans(n_clusters=k, random_state=random_state).fit(df_sub1[col])\n",
    "    score = silhouette_score(df_sub1[col], model.labels_)\n",
    "    print(k, score)"
   ]
  },
  {
   "cell_type": "code",
   "execution_count": 35,
   "metadata": {},
   "outputs": [
    {
     "data": {
      "text/html": [
       "<div>\n",
       "<style scoped>\n",
       "    .dataframe tbody tr th:only-of-type {\n",
       "        vertical-align: middle;\n",
       "    }\n",
       "\n",
       "    .dataframe tbody tr th {\n",
       "        vertical-align: top;\n",
       "    }\n",
       "\n",
       "    .dataframe thead th {\n",
       "        text-align: right;\n",
       "    }\n",
       "</style>\n",
       "<table border=\"1\" class=\"dataframe\">\n",
       "  <thead>\n",
       "    <tr style=\"text-align: right;\">\n",
       "      <th></th>\n",
       "      <th>ids</th>\n",
       "      <th>ages</th>\n",
       "      <th>orders</th>\n",
       "      <th>purchases</th>\n",
       "      <th>bookmarks</th>\n",
       "      <th>replies</th>\n",
       "      <th>ratings</th>\n",
       "      <th>period</th>\n",
       "      <th>age_cls</th>\n",
       "      <th>label</th>\n",
       "    </tr>\n",
       "  </thead>\n",
       "  <tbody>\n",
       "    <tr>\n",
       "      <td>6424</td>\n",
       "      <td>6941</td>\n",
       "      <td>0.416667</td>\n",
       "      <td>0.571429</td>\n",
       "      <td>204381.0</td>\n",
       "      <td>0.416667</td>\n",
       "      <td>0.205128</td>\n",
       "      <td>0.100962</td>\n",
       "      <td>0.076923</td>\n",
       "      <td>3</td>\n",
       "      <td>1</td>\n",
       "    </tr>\n",
       "    <tr>\n",
       "      <td>14181</td>\n",
       "      <td>43255</td>\n",
       "      <td>0.611111</td>\n",
       "      <td>0.040816</td>\n",
       "      <td>34325.0</td>\n",
       "      <td>0.500000</td>\n",
       "      <td>0.641026</td>\n",
       "      <td>0.360577</td>\n",
       "      <td>0.589744</td>\n",
       "      <td>4</td>\n",
       "      <td>0</td>\n",
       "    </tr>\n",
       "    <tr>\n",
       "      <td>8550</td>\n",
       "      <td>37222</td>\n",
       "      <td>0.361111</td>\n",
       "      <td>0.887755</td>\n",
       "      <td>6708403.0</td>\n",
       "      <td>0.250000</td>\n",
       "      <td>0.461538</td>\n",
       "      <td>0.322115</td>\n",
       "      <td>0.487179</td>\n",
       "      <td>3</td>\n",
       "      <td>0</td>\n",
       "    </tr>\n",
       "    <tr>\n",
       "      <td>3876</td>\n",
       "      <td>13537</td>\n",
       "      <td>0.694444</td>\n",
       "      <td>0.316327</td>\n",
       "      <td>1975157.0</td>\n",
       "      <td>0.000000</td>\n",
       "      <td>0.282051</td>\n",
       "      <td>0.072115</td>\n",
       "      <td>0.179487</td>\n",
       "      <td>4</td>\n",
       "      <td>1</td>\n",
       "    </tr>\n",
       "    <tr>\n",
       "      <td>12120</td>\n",
       "      <td>69188</td>\n",
       "      <td>0.444444</td>\n",
       "      <td>0.642857</td>\n",
       "      <td>11142283.0</td>\n",
       "      <td>0.750000</td>\n",
       "      <td>0.282051</td>\n",
       "      <td>0.153846</td>\n",
       "      <td>0.948718</td>\n",
       "      <td>3</td>\n",
       "      <td>1</td>\n",
       "    </tr>\n",
       "  </tbody>\n",
       "</table>\n",
       "</div>"
      ],
      "text/plain": [
       "         ids      ages    orders   purchases  bookmarks   replies   ratings  \\\n",
       "6424    6941  0.416667  0.571429    204381.0   0.416667  0.205128  0.100962   \n",
       "14181  43255  0.611111  0.040816     34325.0   0.500000  0.641026  0.360577   \n",
       "8550   37222  0.361111  0.887755   6708403.0   0.250000  0.461538  0.322115   \n",
       "3876   13537  0.694444  0.316327   1975157.0   0.000000  0.282051  0.072115   \n",
       "12120  69188  0.444444  0.642857  11142283.0   0.750000  0.282051  0.153846   \n",
       "\n",
       "         period  age_cls  label  \n",
       "6424   0.076923        3      1  \n",
       "14181  0.589744        4      0  \n",
       "8550   0.487179        3      0  \n",
       "3876   0.179487        4      1  \n",
       "12120  0.948718        3      1  "
      ]
     },
     "execution_count": 35,
     "metadata": {},
     "output_type": "execute_result"
    }
   ],
   "source": [
    "k = 2\n",
    "model = KMeans(n_clusters=k, random_state=random_state).fit(df_sub1[col])\n",
    "df_sub1['label']= model.labels_\n",
    "df_sub1.head()"
   ]
  },
  {
   "cell_type": "code",
   "execution_count": 41,
   "metadata": {},
   "outputs": [],
   "source": [
    "group= df_sub1.groupby('age_cls')['label']"
   ]
  },
  {
   "cell_type": "code",
   "execution_count": 44,
   "metadata": {},
   "outputs": [
    {
     "name": "stdout",
     "output_type": "stream",
     "text": [
      "0.53\n"
     ]
    }
   ],
   "source": [
    "answer = group.value_counts(normalize=True).max()\n",
    "answer = round(answer, 2)\n",
    "print(answer)"
   ]
  },
  {
   "cell_type": "code",
   "execution_count": 45,
   "metadata": {},
   "outputs": [],
   "source": [
    "from statsmodels.stats.outliers_influence import variance_inflation_factor"
   ]
  },
  {
   "cell_type": "code",
   "execution_count": 54,
   "metadata": {},
   "outputs": [
    {
     "name": "stdout",
     "output_type": "stream",
     "text": [
      "0 3.096205582510852\n",
      "1 2.818769218604191\n",
      "2 7.534162561524372\n",
      "3 5.9332210870176745\n",
      "4 3.143516900669937\n"
     ]
    },
    {
     "data": {
      "text/plain": [
       "[2.818769218604191,\n",
       " 3.096205582510852,\n",
       " 3.143516900669937,\n",
       " 5.9332210870176745,\n",
       " 7.534162561524372]"
      ]
     },
     "execution_count": 54,
     "metadata": {},
     "output_type": "execute_result"
    }
   ],
   "source": [
    "col = ['orders', 'bookmarks', 'replies', 'ratings',\n",
    "       'period']\n",
    "vifs=[]\n",
    "for i in range(0, 5):\n",
    "    vif = variance_inflation_factor(df[col].values, i)\n",
    "    vifs.append(vif)\n",
    "    print(i, vif)\n",
    "vifs.sort()\n",
    "vifs"
   ]
  },
  {
   "cell_type": "code",
   "execution_count": 55,
   "metadata": {},
   "outputs": [],
   "source": [
    "answer = 'replies'"
   ]
  },
  {
   "cell_type": "code",
   "execution_count": 57,
   "metadata": {},
   "outputs": [
    {
     "name": "stdout",
     "output_type": "stream",
     "text": [
      "49.69083425676745\n"
     ]
    },
    {
     "data": {
      "text/html": [
       "<div>\n",
       "<style scoped>\n",
       "    .dataframe tbody tr th:only-of-type {\n",
       "        vertical-align: middle;\n",
       "    }\n",
       "\n",
       "    .dataframe tbody tr th {\n",
       "        vertical-align: top;\n",
       "    }\n",
       "\n",
       "    .dataframe thead th {\n",
       "        text-align: right;\n",
       "    }\n",
       "</style>\n",
       "<table border=\"1\" class=\"dataframe\">\n",
       "  <thead>\n",
       "    <tr style=\"text-align: right;\">\n",
       "      <th></th>\n",
       "      <th>ids</th>\n",
       "      <th>ages</th>\n",
       "      <th>orders</th>\n",
       "      <th>purchases</th>\n",
       "      <th>bookmarks</th>\n",
       "      <th>replies</th>\n",
       "      <th>ratings</th>\n",
       "      <th>period</th>\n",
       "      <th>regular</th>\n",
       "    </tr>\n",
       "  </thead>\n",
       "  <tbody>\n",
       "    <tr>\n",
       "      <td>0</td>\n",
       "      <td>47009</td>\n",
       "      <td>42</td>\n",
       "      <td>95</td>\n",
       "      <td>3509917.0</td>\n",
       "      <td>9</td>\n",
       "      <td>14</td>\n",
       "      <td>26</td>\n",
       "      <td>26</td>\n",
       "      <td>1</td>\n",
       "    </tr>\n",
       "    <tr>\n",
       "      <td>1</td>\n",
       "      <td>74838</td>\n",
       "      <td>41</td>\n",
       "      <td>10</td>\n",
       "      <td>673392.0</td>\n",
       "      <td>10</td>\n",
       "      <td>24</td>\n",
       "      <td>72</td>\n",
       "      <td>40</td>\n",
       "      <td>0</td>\n",
       "    </tr>\n",
       "    <tr>\n",
       "      <td>2</td>\n",
       "      <td>34976</td>\n",
       "      <td>20</td>\n",
       "      <td>23</td>\n",
       "      <td>1943940.0</td>\n",
       "      <td>6</td>\n",
       "      <td>20</td>\n",
       "      <td>51</td>\n",
       "      <td>19</td>\n",
       "      <td>0</td>\n",
       "    </tr>\n",
       "    <tr>\n",
       "      <td>3</td>\n",
       "      <td>34959</td>\n",
       "      <td>37</td>\n",
       "      <td>46</td>\n",
       "      <td>1981730.0</td>\n",
       "      <td>0</td>\n",
       "      <td>26</td>\n",
       "      <td>52</td>\n",
       "      <td>19</td>\n",
       "      <td>0</td>\n",
       "    </tr>\n",
       "    <tr>\n",
       "      <td>4</td>\n",
       "      <td>36710</td>\n",
       "      <td>36</td>\n",
       "      <td>93</td>\n",
       "      <td>386907.0</td>\n",
       "      <td>10</td>\n",
       "      <td>30</td>\n",
       "      <td>59</td>\n",
       "      <td>20</td>\n",
       "      <td>1</td>\n",
       "    </tr>\n",
       "  </tbody>\n",
       "</table>\n",
       "</div>"
      ],
      "text/plain": [
       "     ids  ages  orders  purchases  bookmarks  replies  ratings  period  \\\n",
       "0  47009    42      95  3509917.0          9       14       26      26   \n",
       "1  74838    41      10   673392.0         10       24       72      40   \n",
       "2  34976    20      23  1943940.0          6       20       51      19   \n",
       "3  34959    37      46  1981730.0          0       26       52      19   \n",
       "4  36710    36      93   386907.0         10       30       59      20   \n",
       "\n",
       "   regular  \n",
       "0        1  \n",
       "1        0  \n",
       "2        0  \n",
       "3        0  \n",
       "4        1  "
      ]
     },
     "execution_count": 57,
     "metadata": {},
     "output_type": "execute_result"
    }
   ],
   "source": [
    "df_sub3 = df.copy()\n",
    "mean_=df_sub3['orders'].mean()\n",
    "print(mean_)\n",
    "df_sub3['regular'] = np.where(df_sub3['orders']>mean_, 1, 0)\n",
    "df_sub3.head()"
   ]
  },
  {
   "cell_type": "code",
   "execution_count": 58,
   "metadata": {},
   "outputs": [],
   "source": [
    "from sklearn.naive_bayes import GaussianNB\n",
    "from sklearn.model_selection import train_test_split\n",
    "from sklearn.metrics import recall_score\n",
    "random_state=229"
   ]
  },
  {
   "cell_type": "code",
   "execution_count": 59,
   "metadata": {},
   "outputs": [
    {
     "data": {
      "text/plain": [
       "(3790, 9)"
      ]
     },
     "execution_count": 59,
     "metadata": {},
     "output_type": "execute_result"
    }
   ],
   "source": [
    "train_set, test_set = train_test_split(df_sub3, test_size=0.8)\n",
    "train_set.shape"
   ]
  },
  {
   "cell_type": "code",
   "execution_count": 60,
   "metadata": {},
   "outputs": [
    {
     "data": {
      "text/plain": [
       "(15161, 9)"
      ]
     },
     "execution_count": 60,
     "metadata": {},
     "output_type": "execute_result"
    }
   ],
   "source": [
    "test_set.shape"
   ]
  },
  {
   "cell_type": "code",
   "execution_count": 61,
   "metadata": {},
   "outputs": [
    {
     "data": {
      "text/plain": [
       "15160"
      ]
     },
     "execution_count": 61,
     "metadata": {},
     "output_type": "execute_result"
    }
   ],
   "source": [
    "3790*4"
   ]
  },
  {
   "cell_type": "code",
   "execution_count": 62,
   "metadata": {},
   "outputs": [
    {
     "data": {
      "text/plain": [
       "Index(['ids', 'ages', 'orders', 'purchases', 'bookmarks', 'replies', 'ratings',\n",
       "       'period', 'regular'],\n",
       "      dtype='object')"
      ]
     },
     "execution_count": 62,
     "metadata": {},
     "output_type": "execute_result"
    }
   ],
   "source": [
    "train_set.columns"
   ]
  },
  {
   "cell_type": "code",
   "execution_count": 63,
   "metadata": {},
   "outputs": [],
   "source": [
    "col = ['ages', 'purchases', 'bookmarks', 'replies', 'ratings',\n",
    "       'period']\n",
    "model = GaussianNB().fit(train_set[col], train_set['regular'])"
   ]
  },
  {
   "cell_type": "code",
   "execution_count": 66,
   "metadata": {},
   "outputs": [
    {
     "name": "stdout",
     "output_type": "stream",
     "text": [
      "[0.49690377 0.22170444 0.22910738 ... 0.21686322 0.94834443 0.58300381]\n"
     ]
    }
   ],
   "source": [
    "pred_y = model.predict_proba(test_set[col])[:, 1]\n",
    "print(pred_y)"
   ]
  },
  {
   "cell_type": "code",
   "execution_count": 67,
   "metadata": {},
   "outputs": [
    {
     "name": "stdout",
     "output_type": "stream",
     "text": [
      "0.6329479768786127\n",
      "0.5792170257488176\n",
      "0.5386232264844981\n"
     ]
    }
   ],
   "source": [
    "thresholds = [0.4, 0.5, 0.6]\n",
    "for threshold in thresholds:\n",
    "    score = recall_score(y_true=test_set['regular'], y_pred=(pred_y>threshold))\n",
    "    print(score)"
   ]
  },
  {
   "cell_type": "code",
   "execution_count": 68,
   "metadata": {},
   "outputs": [],
   "source": [
    "answer = 0.6329479768786127\n",
    "answer = round(answer, 1)"
   ]
  },
  {
   "cell_type": "code",
   "execution_count": 69,
   "metadata": {},
   "outputs": [
    {
     "name": "stdout",
     "output_type": "stream",
     "text": [
      "0.6\n"
     ]
    }
   ],
   "source": [
    "print(answer)"
   ]
  },
  {
   "cell_type": "code",
   "execution_count": null,
   "metadata": {},
   "outputs": [],
   "source": []
  }
 ],
 "metadata": {
  "kernelspec": {
   "display_name": "Python 3",
   "language": "python",
   "name": "python3"
  },
  "language_info": {
   "codemirror_mode": {
    "name": "ipython",
    "version": 3
   },
   "file_extension": ".py",
   "mimetype": "text/x-python",
   "name": "python",
   "nbconvert_exporter": "python",
   "pygments_lexer": "ipython3",
   "version": "3.7.4"
  }
 },
 "nbformat": 4,
 "nbformat_minor": 2
}
