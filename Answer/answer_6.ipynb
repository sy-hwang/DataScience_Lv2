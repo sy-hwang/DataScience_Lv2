{
 "cells": [
  {
   "cell_type": "code",
   "execution_count": 156,
   "metadata": {},
   "outputs": [],
   "source": [
    "import numpy as np\n",
    "import pandas as pd"
   ]
  },
  {
   "cell_type": "code",
   "execution_count": 157,
   "metadata": {},
   "outputs": [
    {
     "data": {
      "text/plain": [
       "ids            int64\n",
       "ages           int64\n",
       "orders         int64\n",
       "purchases    float64\n",
       "bookmarks      int64\n",
       "replies        int64\n",
       "ratings        int64\n",
       "period         int64\n",
       "dtype: object"
      ]
     },
     "execution_count": 157,
     "metadata": {},
     "output_type": "execute_result"
    }
   ],
   "source": [
    "df = pd.read_csv(\"../Dataset/VberEats.csv\")\n",
    "df.dtypes"
   ]
  },
  {
   "cell_type": "code",
   "execution_count": 158,
   "metadata": {},
   "outputs": [
    {
     "data": {
      "text/html": [
       "<div>\n",
       "<style scoped>\n",
       "    .dataframe tbody tr th:only-of-type {\n",
       "        vertical-align: middle;\n",
       "    }\n",
       "\n",
       "    .dataframe tbody tr th {\n",
       "        vertical-align: top;\n",
       "    }\n",
       "\n",
       "    .dataframe thead th {\n",
       "        text-align: right;\n",
       "    }\n",
       "</style>\n",
       "<table border=\"1\" class=\"dataframe\">\n",
       "  <thead>\n",
       "    <tr style=\"text-align: right;\">\n",
       "      <th></th>\n",
       "      <th>ids</th>\n",
       "      <th>ages</th>\n",
       "      <th>orders</th>\n",
       "      <th>purchases</th>\n",
       "      <th>bookmarks</th>\n",
       "      <th>replies</th>\n",
       "      <th>ratings</th>\n",
       "      <th>period</th>\n",
       "    </tr>\n",
       "  </thead>\n",
       "  <tbody>\n",
       "    <tr>\n",
       "      <td>0</td>\n",
       "      <td>47009</td>\n",
       "      <td>42</td>\n",
       "      <td>95</td>\n",
       "      <td>3509917.0</td>\n",
       "      <td>9</td>\n",
       "      <td>14</td>\n",
       "      <td>26</td>\n",
       "      <td>26</td>\n",
       "    </tr>\n",
       "    <tr>\n",
       "      <td>1</td>\n",
       "      <td>74838</td>\n",
       "      <td>41</td>\n",
       "      <td>10</td>\n",
       "      <td>673392.0</td>\n",
       "      <td>10</td>\n",
       "      <td>24</td>\n",
       "      <td>72</td>\n",
       "      <td>40</td>\n",
       "    </tr>\n",
       "    <tr>\n",
       "      <td>2</td>\n",
       "      <td>34976</td>\n",
       "      <td>20</td>\n",
       "      <td>23</td>\n",
       "      <td>1943940.0</td>\n",
       "      <td>6</td>\n",
       "      <td>20</td>\n",
       "      <td>51</td>\n",
       "      <td>19</td>\n",
       "    </tr>\n",
       "    <tr>\n",
       "      <td>3</td>\n",
       "      <td>34959</td>\n",
       "      <td>37</td>\n",
       "      <td>46</td>\n",
       "      <td>1981730.0</td>\n",
       "      <td>0</td>\n",
       "      <td>26</td>\n",
       "      <td>52</td>\n",
       "      <td>19</td>\n",
       "    </tr>\n",
       "    <tr>\n",
       "      <td>4</td>\n",
       "      <td>36710</td>\n",
       "      <td>36</td>\n",
       "      <td>93</td>\n",
       "      <td>386907.0</td>\n",
       "      <td>10</td>\n",
       "      <td>30</td>\n",
       "      <td>59</td>\n",
       "      <td>20</td>\n",
       "    </tr>\n",
       "    <tr>\n",
       "      <td>...</td>\n",
       "      <td>...</td>\n",
       "      <td>...</td>\n",
       "      <td>...</td>\n",
       "      <td>...</td>\n",
       "      <td>...</td>\n",
       "      <td>...</td>\n",
       "      <td>...</td>\n",
       "      <td>...</td>\n",
       "    </tr>\n",
       "    <tr>\n",
       "      <td>18946</td>\n",
       "      <td>33105</td>\n",
       "      <td>34</td>\n",
       "      <td>18</td>\n",
       "      <td>1335423.0</td>\n",
       "      <td>11</td>\n",
       "      <td>25</td>\n",
       "      <td>32</td>\n",
       "      <td>18</td>\n",
       "    </tr>\n",
       "    <tr>\n",
       "      <td>18947</td>\n",
       "      <td>38056</td>\n",
       "      <td>51</td>\n",
       "      <td>60</td>\n",
       "      <td>300000.0</td>\n",
       "      <td>9</td>\n",
       "      <td>32</td>\n",
       "      <td>33</td>\n",
       "      <td>21</td>\n",
       "    </tr>\n",
       "    <tr>\n",
       "      <td>18948</td>\n",
       "      <td>59148</td>\n",
       "      <td>51</td>\n",
       "      <td>75</td>\n",
       "      <td>4852735.0</td>\n",
       "      <td>0</td>\n",
       "      <td>32</td>\n",
       "      <td>81</td>\n",
       "      <td>32</td>\n",
       "    </tr>\n",
       "    <tr>\n",
       "      <td>18949</td>\n",
       "      <td>62573</td>\n",
       "      <td>34</td>\n",
       "      <td>63</td>\n",
       "      <td>2372982.0</td>\n",
       "      <td>6</td>\n",
       "      <td>33</td>\n",
       "      <td>71</td>\n",
       "      <td>34</td>\n",
       "    </tr>\n",
       "    <tr>\n",
       "      <td>18950</td>\n",
       "      <td>24173</td>\n",
       "      <td>21</td>\n",
       "      <td>82</td>\n",
       "      <td>300000.0</td>\n",
       "      <td>7</td>\n",
       "      <td>35</td>\n",
       "      <td>65</td>\n",
       "      <td>14</td>\n",
       "    </tr>\n",
       "  </tbody>\n",
       "</table>\n",
       "<p>18951 rows × 8 columns</p>\n",
       "</div>"
      ],
      "text/plain": [
       "         ids  ages  orders  purchases  bookmarks  replies  ratings  period\n",
       "0      47009    42      95  3509917.0          9       14       26      26\n",
       "1      74838    41      10   673392.0         10       24       72      40\n",
       "2      34976    20      23  1943940.0          6       20       51      19\n",
       "3      34959    37      46  1981730.0          0       26       52      19\n",
       "4      36710    36      93   386907.0         10       30       59      20\n",
       "...      ...   ...     ...        ...        ...      ...      ...     ...\n",
       "18946  33105    34      18  1335423.0         11       25       32      18\n",
       "18947  38056    51      60   300000.0          9       32       33      21\n",
       "18948  59148    51      75  4852735.0          0       32       81      32\n",
       "18949  62573    34      63  2372982.0          6       33       71      34\n",
       "18950  24173    21      82   300000.0          7       35       65      14\n",
       "\n",
       "[18951 rows x 8 columns]"
      ]
     },
     "execution_count": 158,
     "metadata": {},
     "output_type": "execute_result"
    }
   ],
   "source": [
    "df"
   ]
  },
  {
   "cell_type": "code",
   "execution_count": 159,
   "metadata": {},
   "outputs": [],
   "source": [
    "#분석을 수행하기 전, 아래의 전처리를 수행하시오."
   ]
  },
  {
   "cell_type": "code",
   "execution_count": 160,
   "metadata": {},
   "outputs": [
    {
     "data": {
      "text/html": [
       "<div>\n",
       "<style scoped>\n",
       "    .dataframe tbody tr th:only-of-type {\n",
       "        vertical-align: middle;\n",
       "    }\n",
       "\n",
       "    .dataframe tbody tr th {\n",
       "        vertical-align: top;\n",
       "    }\n",
       "\n",
       "    .dataframe thead th {\n",
       "        text-align: right;\n",
       "    }\n",
       "</style>\n",
       "<table border=\"1\" class=\"dataframe\">\n",
       "  <thead>\n",
       "    <tr style=\"text-align: right;\">\n",
       "      <th></th>\n",
       "      <th>ids</th>\n",
       "      <th>ages</th>\n",
       "      <th>orders</th>\n",
       "      <th>purchases</th>\n",
       "      <th>bookmarks</th>\n",
       "      <th>replies</th>\n",
       "      <th>ratings</th>\n",
       "      <th>period</th>\n",
       "    </tr>\n",
       "  </thead>\n",
       "  <tbody>\n",
       "    <tr>\n",
       "      <td>111</td>\n",
       "      <td>17967</td>\n",
       "      <td>20</td>\n",
       "      <td>10</td>\n",
       "      <td>NaN</td>\n",
       "      <td>5</td>\n",
       "      <td>29</td>\n",
       "      <td>113</td>\n",
       "      <td>10</td>\n",
       "    </tr>\n",
       "    <tr>\n",
       "      <td>323</td>\n",
       "      <td>68198</td>\n",
       "      <td>44</td>\n",
       "      <td>2</td>\n",
       "      <td>NaN</td>\n",
       "      <td>7</td>\n",
       "      <td>12</td>\n",
       "      <td>12</td>\n",
       "      <td>36</td>\n",
       "    </tr>\n",
       "    <tr>\n",
       "      <td>470</td>\n",
       "      <td>2336</td>\n",
       "      <td>30</td>\n",
       "      <td>1</td>\n",
       "      <td>NaN</td>\n",
       "      <td>9</td>\n",
       "      <td>26</td>\n",
       "      <td>96</td>\n",
       "      <td>2</td>\n",
       "    </tr>\n",
       "    <tr>\n",
       "      <td>550</td>\n",
       "      <td>55012</td>\n",
       "      <td>33</td>\n",
       "      <td>54</td>\n",
       "      <td>NaN</td>\n",
       "      <td>8</td>\n",
       "      <td>25</td>\n",
       "      <td>99</td>\n",
       "      <td>30</td>\n",
       "    </tr>\n",
       "    <tr>\n",
       "      <td>809</td>\n",
       "      <td>16217</td>\n",
       "      <td>25</td>\n",
       "      <td>51</td>\n",
       "      <td>NaN</td>\n",
       "      <td>11</td>\n",
       "      <td>9</td>\n",
       "      <td>12</td>\n",
       "      <td>9</td>\n",
       "    </tr>\n",
       "  </tbody>\n",
       "</table>\n",
       "</div>"
      ],
      "text/plain": [
       "       ids  ages  orders  purchases  bookmarks  replies  ratings  period\n",
       "111  17967    20      10        NaN          5       29      113      10\n",
       "323  68198    44       2        NaN          7       12       12      36\n",
       "470   2336    30       1        NaN          9       26       96       2\n",
       "550  55012    33      54        NaN          8       25       99      30\n",
       "809  16217    25      51        NaN         11        9       12       9"
      ]
     },
     "execution_count": 160,
     "metadata": {},
     "output_type": "execute_result"
    }
   ],
   "source": [
    "test_set = df.loc[df['purchases'].isna()]\n",
    "test_set.head()"
   ]
  },
  {
   "cell_type": "code",
   "execution_count": 161,
   "metadata": {},
   "outputs": [
    {
     "data": {
      "text/html": [
       "<div>\n",
       "<style scoped>\n",
       "    .dataframe tbody tr th:only-of-type {\n",
       "        vertical-align: middle;\n",
       "    }\n",
       "\n",
       "    .dataframe tbody tr th {\n",
       "        vertical-align: top;\n",
       "    }\n",
       "\n",
       "    .dataframe thead th {\n",
       "        text-align: right;\n",
       "    }\n",
       "</style>\n",
       "<table border=\"1\" class=\"dataframe\">\n",
       "  <thead>\n",
       "    <tr style=\"text-align: right;\">\n",
       "      <th></th>\n",
       "      <th>ids</th>\n",
       "      <th>ages</th>\n",
       "      <th>orders</th>\n",
       "      <th>purchases</th>\n",
       "      <th>bookmarks</th>\n",
       "      <th>replies</th>\n",
       "      <th>ratings</th>\n",
       "      <th>period</th>\n",
       "    </tr>\n",
       "  </thead>\n",
       "  <tbody>\n",
       "    <tr>\n",
       "      <td>0</td>\n",
       "      <td>47009</td>\n",
       "      <td>42</td>\n",
       "      <td>95</td>\n",
       "      <td>3509917.0</td>\n",
       "      <td>9</td>\n",
       "      <td>14</td>\n",
       "      <td>26</td>\n",
       "      <td>26</td>\n",
       "    </tr>\n",
       "    <tr>\n",
       "      <td>1</td>\n",
       "      <td>74838</td>\n",
       "      <td>41</td>\n",
       "      <td>10</td>\n",
       "      <td>673392.0</td>\n",
       "      <td>10</td>\n",
       "      <td>24</td>\n",
       "      <td>72</td>\n",
       "      <td>40</td>\n",
       "    </tr>\n",
       "    <tr>\n",
       "      <td>2</td>\n",
       "      <td>34976</td>\n",
       "      <td>20</td>\n",
       "      <td>23</td>\n",
       "      <td>1943940.0</td>\n",
       "      <td>6</td>\n",
       "      <td>20</td>\n",
       "      <td>51</td>\n",
       "      <td>19</td>\n",
       "    </tr>\n",
       "    <tr>\n",
       "      <td>3</td>\n",
       "      <td>34959</td>\n",
       "      <td>37</td>\n",
       "      <td>46</td>\n",
       "      <td>1981730.0</td>\n",
       "      <td>0</td>\n",
       "      <td>26</td>\n",
       "      <td>52</td>\n",
       "      <td>19</td>\n",
       "    </tr>\n",
       "    <tr>\n",
       "      <td>4</td>\n",
       "      <td>36710</td>\n",
       "      <td>36</td>\n",
       "      <td>93</td>\n",
       "      <td>386907.0</td>\n",
       "      <td>10</td>\n",
       "      <td>30</td>\n",
       "      <td>59</td>\n",
       "      <td>20</td>\n",
       "    </tr>\n",
       "  </tbody>\n",
       "</table>\n",
       "</div>"
      ],
      "text/plain": [
       "     ids  ages  orders  purchases  bookmarks  replies  ratings  period\n",
       "0  47009    42      95  3509917.0          9       14       26      26\n",
       "1  74838    41      10   673392.0         10       24       72      40\n",
       "2  34976    20      23  1943940.0          6       20       51      19\n",
       "3  34959    37      46  1981730.0          0       26       52      19\n",
       "4  36710    36      93   386907.0         10       30       59      20"
      ]
     },
     "execution_count": 161,
     "metadata": {},
     "output_type": "execute_result"
    }
   ],
   "source": [
    "train_set = df.loc[df['purchases'].isna()==False]\n",
    "train_set.head()"
   ]
  },
  {
   "cell_type": "code",
   "execution_count": 162,
   "metadata": {},
   "outputs": [
    {
     "data": {
      "text/plain": [
       "(203, 8)"
      ]
     },
     "execution_count": 162,
     "metadata": {},
     "output_type": "execute_result"
    }
   ],
   "source": [
    "test_set.shape"
   ]
  },
  {
   "cell_type": "code",
   "execution_count": 163,
   "metadata": {},
   "outputs": [],
   "source": [
    "from sklearn.tree import DecisionTreeRegressor\n",
    "from sklearn.preprocessing import MinMaxScaler\n",
    "random_state=229"
   ]
  },
  {
   "cell_type": "code",
   "execution_count": 164,
   "metadata": {},
   "outputs": [
    {
     "data": {
      "text/plain": [
       "Index(['ids', 'ages', 'orders', 'purchases', 'bookmarks', 'replies', 'ratings',\n",
       "       'period'],\n",
       "      dtype='object')"
      ]
     },
     "execution_count": 164,
     "metadata": {},
     "output_type": "execute_result"
    }
   ],
   "source": [
    "df.columns"
   ]
  },
  {
   "cell_type": "code",
   "execution_count": 165,
   "metadata": {},
   "outputs": [],
   "source": [
    "col = ['ages', 'orders', 'bookmarks', 'replies', 'ratings', 'period']\n",
    "scaler = MinMaxScaler()\n",
    "scaler = scaler.fit(train_set[col])"
   ]
  },
  {
   "cell_type": "code",
   "execution_count": 166,
   "metadata": {},
   "outputs": [
    {
     "data": {
      "text/plain": [
       "array([[0.66666667, 0.95918367, 0.75      , 0.35897436, 0.12440191,\n",
       "        0.64102564],\n",
       "       [0.63888889, 0.09183673, 0.83333333, 0.61538462, 0.34449761,\n",
       "        1.        ],\n",
       "       [0.05555556, 0.2244898 , 0.5       , 0.51282051, 0.24401914,\n",
       "        0.46153846],\n",
       "       ...,\n",
       "       [0.91666667, 0.75510204, 0.        , 0.82051282, 0.38755981,\n",
       "        0.79487179],\n",
       "       [0.44444444, 0.63265306, 0.5       , 0.84615385, 0.33971292,\n",
       "        0.84615385],\n",
       "       [0.08333333, 0.82653061, 0.58333333, 0.8974359 , 0.31100478,\n",
       "        0.33333333]])"
      ]
     },
     "execution_count": 166,
     "metadata": {},
     "output_type": "execute_result"
    }
   ],
   "source": [
    "scaler.transform(train_set[col])"
   ]
  },
  {
   "cell_type": "code",
   "execution_count": 167,
   "metadata": {},
   "outputs": [
    {
     "data": {
      "text/html": [
       "<div>\n",
       "<style scoped>\n",
       "    .dataframe tbody tr th:only-of-type {\n",
       "        vertical-align: middle;\n",
       "    }\n",
       "\n",
       "    .dataframe tbody tr th {\n",
       "        vertical-align: top;\n",
       "    }\n",
       "\n",
       "    .dataframe thead th {\n",
       "        text-align: right;\n",
       "    }\n",
       "</style>\n",
       "<table border=\"1\" class=\"dataframe\">\n",
       "  <thead>\n",
       "    <tr style=\"text-align: right;\">\n",
       "      <th></th>\n",
       "      <th>ids</th>\n",
       "      <th>ages</th>\n",
       "      <th>orders</th>\n",
       "      <th>purchases</th>\n",
       "      <th>bookmarks</th>\n",
       "      <th>replies</th>\n",
       "      <th>ratings</th>\n",
       "      <th>period</th>\n",
       "    </tr>\n",
       "  </thead>\n",
       "  <tbody>\n",
       "    <tr>\n",
       "      <td>0</td>\n",
       "      <td>47009</td>\n",
       "      <td>0.666667</td>\n",
       "      <td>0.959184</td>\n",
       "      <td>3509917.0</td>\n",
       "      <td>0.750000</td>\n",
       "      <td>0.358974</td>\n",
       "      <td>0.124402</td>\n",
       "      <td>0.641026</td>\n",
       "    </tr>\n",
       "    <tr>\n",
       "      <td>1</td>\n",
       "      <td>74838</td>\n",
       "      <td>0.638889</td>\n",
       "      <td>0.091837</td>\n",
       "      <td>673392.0</td>\n",
       "      <td>0.833333</td>\n",
       "      <td>0.615385</td>\n",
       "      <td>0.344498</td>\n",
       "      <td>1.000000</td>\n",
       "    </tr>\n",
       "    <tr>\n",
       "      <td>2</td>\n",
       "      <td>34976</td>\n",
       "      <td>0.055556</td>\n",
       "      <td>0.224490</td>\n",
       "      <td>1943940.0</td>\n",
       "      <td>0.500000</td>\n",
       "      <td>0.512821</td>\n",
       "      <td>0.244019</td>\n",
       "      <td>0.461538</td>\n",
       "    </tr>\n",
       "    <tr>\n",
       "      <td>3</td>\n",
       "      <td>34959</td>\n",
       "      <td>0.527778</td>\n",
       "      <td>0.459184</td>\n",
       "      <td>1981730.0</td>\n",
       "      <td>0.000000</td>\n",
       "      <td>0.666667</td>\n",
       "      <td>0.248804</td>\n",
       "      <td>0.461538</td>\n",
       "    </tr>\n",
       "    <tr>\n",
       "      <td>4</td>\n",
       "      <td>36710</td>\n",
       "      <td>0.500000</td>\n",
       "      <td>0.938776</td>\n",
       "      <td>386907.0</td>\n",
       "      <td>0.833333</td>\n",
       "      <td>0.769231</td>\n",
       "      <td>0.282297</td>\n",
       "      <td>0.487179</td>\n",
       "    </tr>\n",
       "  </tbody>\n",
       "</table>\n",
       "</div>"
      ],
      "text/plain": [
       "     ids      ages    orders  purchases  bookmarks   replies   ratings  \\\n",
       "0  47009  0.666667  0.959184  3509917.0   0.750000  0.358974  0.124402   \n",
       "1  74838  0.638889  0.091837   673392.0   0.833333  0.615385  0.344498   \n",
       "2  34976  0.055556  0.224490  1943940.0   0.500000  0.512821  0.244019   \n",
       "3  34959  0.527778  0.459184  1981730.0   0.000000  0.666667  0.248804   \n",
       "4  36710  0.500000  0.938776   386907.0   0.833333  0.769231  0.282297   \n",
       "\n",
       "     period  \n",
       "0  0.641026  \n",
       "1  1.000000  \n",
       "2  0.461538  \n",
       "3  0.461538  \n",
       "4  0.487179  "
      ]
     },
     "execution_count": 167,
     "metadata": {},
     "output_type": "execute_result"
    }
   ],
   "source": [
    "train_scaled = train_set.copy()\n",
    "train_scaled[col] = scaler.transform(train_set[col])\n",
    "train_scaled.head()"
   ]
  },
  {
   "cell_type": "code",
   "execution_count": 168,
   "metadata": {},
   "outputs": [
    {
     "data": {
      "text/html": [
       "<div>\n",
       "<style scoped>\n",
       "    .dataframe tbody tr th:only-of-type {\n",
       "        vertical-align: middle;\n",
       "    }\n",
       "\n",
       "    .dataframe tbody tr th {\n",
       "        vertical-align: top;\n",
       "    }\n",
       "\n",
       "    .dataframe thead th {\n",
       "        text-align: right;\n",
       "    }\n",
       "</style>\n",
       "<table border=\"1\" class=\"dataframe\">\n",
       "  <thead>\n",
       "    <tr style=\"text-align: right;\">\n",
       "      <th></th>\n",
       "      <th>ids</th>\n",
       "      <th>ages</th>\n",
       "      <th>orders</th>\n",
       "      <th>purchases</th>\n",
       "      <th>bookmarks</th>\n",
       "      <th>replies</th>\n",
       "      <th>ratings</th>\n",
       "      <th>period</th>\n",
       "    </tr>\n",
       "  </thead>\n",
       "  <tbody>\n",
       "    <tr>\n",
       "      <td>111</td>\n",
       "      <td>17967</td>\n",
       "      <td>0.055556</td>\n",
       "      <td>0.091837</td>\n",
       "      <td>NaN</td>\n",
       "      <td>0.416667</td>\n",
       "      <td>0.743590</td>\n",
       "      <td>0.540670</td>\n",
       "      <td>0.230769</td>\n",
       "    </tr>\n",
       "    <tr>\n",
       "      <td>323</td>\n",
       "      <td>68198</td>\n",
       "      <td>0.722222</td>\n",
       "      <td>0.010204</td>\n",
       "      <td>NaN</td>\n",
       "      <td>0.583333</td>\n",
       "      <td>0.307692</td>\n",
       "      <td>0.057416</td>\n",
       "      <td>0.897436</td>\n",
       "    </tr>\n",
       "    <tr>\n",
       "      <td>470</td>\n",
       "      <td>2336</td>\n",
       "      <td>0.333333</td>\n",
       "      <td>0.000000</td>\n",
       "      <td>NaN</td>\n",
       "      <td>0.750000</td>\n",
       "      <td>0.666667</td>\n",
       "      <td>0.459330</td>\n",
       "      <td>0.025641</td>\n",
       "    </tr>\n",
       "    <tr>\n",
       "      <td>550</td>\n",
       "      <td>55012</td>\n",
       "      <td>0.416667</td>\n",
       "      <td>0.540816</td>\n",
       "      <td>NaN</td>\n",
       "      <td>0.666667</td>\n",
       "      <td>0.641026</td>\n",
       "      <td>0.473684</td>\n",
       "      <td>0.743590</td>\n",
       "    </tr>\n",
       "    <tr>\n",
       "      <td>809</td>\n",
       "      <td>16217</td>\n",
       "      <td>0.194444</td>\n",
       "      <td>0.510204</td>\n",
       "      <td>NaN</td>\n",
       "      <td>0.916667</td>\n",
       "      <td>0.230769</td>\n",
       "      <td>0.057416</td>\n",
       "      <td>0.205128</td>\n",
       "    </tr>\n",
       "  </tbody>\n",
       "</table>\n",
       "</div>"
      ],
      "text/plain": [
       "       ids      ages    orders  purchases  bookmarks   replies   ratings  \\\n",
       "111  17967  0.055556  0.091837        NaN   0.416667  0.743590  0.540670   \n",
       "323  68198  0.722222  0.010204        NaN   0.583333  0.307692  0.057416   \n",
       "470   2336  0.333333  0.000000        NaN   0.750000  0.666667  0.459330   \n",
       "550  55012  0.416667  0.540816        NaN   0.666667  0.641026  0.473684   \n",
       "809  16217  0.194444  0.510204        NaN   0.916667  0.230769  0.057416   \n",
       "\n",
       "       period  \n",
       "111  0.230769  \n",
       "323  0.897436  \n",
       "470  0.025641  \n",
       "550  0.743590  \n",
       "809  0.205128  "
      ]
     },
     "execution_count": 168,
     "metadata": {},
     "output_type": "execute_result"
    }
   ],
   "source": [
    "test_scaled = test_set.copy()\n",
    "test_scaled[col] = scaler.transform(test_set[col])\n",
    "test_scaled.head()"
   ]
  },
  {
   "cell_type": "code",
   "execution_count": 169,
   "metadata": {},
   "outputs": [],
   "source": [
    "X_col = ['ages', 'orders', 'bookmarks', 'replies', 'ratings', 'period']"
   ]
  },
  {
   "cell_type": "code",
   "execution_count": 170,
   "metadata": {},
   "outputs": [
    {
     "data": {
      "text/plain": [
       "DecisionTreeRegressor(criterion='mse', max_depth=None, max_features=None,\n",
       "                      max_leaf_nodes=None, min_impurity_decrease=0.0,\n",
       "                      min_impurity_split=None, min_samples_leaf=1,\n",
       "                      min_samples_split=2, min_weight_fraction_leaf=0.0,\n",
       "                      presort=False, random_state=229, splitter='best')"
      ]
     },
     "execution_count": 170,
     "metadata": {},
     "output_type": "execute_result"
    }
   ],
   "source": [
    "model = DecisionTreeRegressor(random_state=random_state)\n",
    "model.fit(train_scaled[X_col], train_scaled['purchases'])"
   ]
  },
  {
   "cell_type": "code",
   "execution_count": 171,
   "metadata": {},
   "outputs": [
    {
     "data": {
      "text/plain": [
       "2029804.0738916255"
      ]
     },
     "execution_count": 171,
     "metadata": {},
     "output_type": "execute_result"
    }
   ],
   "source": [
    "pred = model.predict(test_scaled[X_col])\n",
    "pred.mean()"
   ]
  },
  {
   "cell_type": "code",
   "execution_count": 172,
   "metadata": {},
   "outputs": [
    {
     "data": {
      "text/plain": [
       "412050227.0"
      ]
     },
     "execution_count": 172,
     "metadata": {},
     "output_type": "execute_result"
    }
   ],
   "source": [
    "pred.sum()"
   ]
  },
  {
   "cell_type": "code",
   "execution_count": 173,
   "metadata": {},
   "outputs": [
    {
     "data": {
      "text/plain": [
       "50116080800.0"
      ]
     },
     "execution_count": 173,
     "metadata": {},
     "output_type": "execute_result"
    }
   ],
   "source": [
    "train_scaled['purchases'].sum()"
   ]
  },
  {
   "cell_type": "code",
   "execution_count": 174,
   "metadata": {},
   "outputs": [],
   "source": [
    "s =pred.sum()+train_scaled['purchases'].sum()"
   ]
  },
  {
   "cell_type": "code",
   "execution_count": 175,
   "metadata": {},
   "outputs": [
    {
     "data": {
      "text/plain": [
       "2666251.4393435703"
      ]
     },
     "execution_count": 175,
     "metadata": {},
     "output_type": "execute_result"
    }
   ],
   "source": [
    "s/18951 "
   ]
  },
  {
   "cell_type": "code",
   "execution_count": 176,
   "metadata": {},
   "outputs": [
    {
     "name": "stderr",
     "output_type": "stream",
     "text": [
      "C:\\Users\\syoun\\Anaconda3\\lib\\site-packages\\ipykernel_launcher.py:1: SettingWithCopyWarning: \n",
      "A value is trying to be set on a copy of a slice from a DataFrame.\n",
      "Try using .loc[row_indexer,col_indexer] = value instead\n",
      "\n",
      "See the caveats in the documentation: http://pandas.pydata.org/pandas-docs/stable/user_guide/indexing.html#returning-a-view-versus-a-copy\n",
      "  \"\"\"Entry point for launching an IPython kernel.\n"
     ]
    },
    {
     "data": {
      "text/html": [
       "<div>\n",
       "<style scoped>\n",
       "    .dataframe tbody tr th:only-of-type {\n",
       "        vertical-align: middle;\n",
       "    }\n",
       "\n",
       "    .dataframe tbody tr th {\n",
       "        vertical-align: top;\n",
       "    }\n",
       "\n",
       "    .dataframe thead th {\n",
       "        text-align: right;\n",
       "    }\n",
       "</style>\n",
       "<table border=\"1\" class=\"dataframe\">\n",
       "  <thead>\n",
       "    <tr style=\"text-align: right;\">\n",
       "      <th></th>\n",
       "      <th>ids</th>\n",
       "      <th>ages</th>\n",
       "      <th>orders</th>\n",
       "      <th>purchases</th>\n",
       "      <th>bookmarks</th>\n",
       "      <th>replies</th>\n",
       "      <th>ratings</th>\n",
       "      <th>period</th>\n",
       "    </tr>\n",
       "  </thead>\n",
       "  <tbody>\n",
       "    <tr>\n",
       "      <td>111</td>\n",
       "      <td>17967</td>\n",
       "      <td>20</td>\n",
       "      <td>10</td>\n",
       "      <td>585454.0</td>\n",
       "      <td>5</td>\n",
       "      <td>29</td>\n",
       "      <td>113</td>\n",
       "      <td>10</td>\n",
       "    </tr>\n",
       "    <tr>\n",
       "      <td>323</td>\n",
       "      <td>68198</td>\n",
       "      <td>44</td>\n",
       "      <td>2</td>\n",
       "      <td>340177.0</td>\n",
       "      <td>7</td>\n",
       "      <td>12</td>\n",
       "      <td>12</td>\n",
       "      <td>36</td>\n",
       "    </tr>\n",
       "    <tr>\n",
       "      <td>470</td>\n",
       "      <td>2336</td>\n",
       "      <td>30</td>\n",
       "      <td>1</td>\n",
       "      <td>58860.0</td>\n",
       "      <td>9</td>\n",
       "      <td>26</td>\n",
       "      <td>96</td>\n",
       "      <td>2</td>\n",
       "    </tr>\n",
       "    <tr>\n",
       "      <td>550</td>\n",
       "      <td>55012</td>\n",
       "      <td>33</td>\n",
       "      <td>54</td>\n",
       "      <td>335503.0</td>\n",
       "      <td>8</td>\n",
       "      <td>25</td>\n",
       "      <td>99</td>\n",
       "      <td>30</td>\n",
       "    </tr>\n",
       "    <tr>\n",
       "      <td>809</td>\n",
       "      <td>16217</td>\n",
       "      <td>25</td>\n",
       "      <td>51</td>\n",
       "      <td>4179609.0</td>\n",
       "      <td>11</td>\n",
       "      <td>9</td>\n",
       "      <td>12</td>\n",
       "      <td>9</td>\n",
       "    </tr>\n",
       "    <tr>\n",
       "      <td>...</td>\n",
       "      <td>...</td>\n",
       "      <td>...</td>\n",
       "      <td>...</td>\n",
       "      <td>...</td>\n",
       "      <td>...</td>\n",
       "      <td>...</td>\n",
       "      <td>...</td>\n",
       "      <td>...</td>\n",
       "    </tr>\n",
       "    <tr>\n",
       "      <td>18655</td>\n",
       "      <td>70234</td>\n",
       "      <td>50</td>\n",
       "      <td>2</td>\n",
       "      <td>180262.0</td>\n",
       "      <td>9</td>\n",
       "      <td>37</td>\n",
       "      <td>61</td>\n",
       "      <td>11</td>\n",
       "    </tr>\n",
       "    <tr>\n",
       "      <td>18817</td>\n",
       "      <td>42185</td>\n",
       "      <td>20</td>\n",
       "      <td>1</td>\n",
       "      <td>39086.0</td>\n",
       "      <td>2</td>\n",
       "      <td>30</td>\n",
       "      <td>94</td>\n",
       "      <td>23</td>\n",
       "    </tr>\n",
       "    <tr>\n",
       "      <td>18858</td>\n",
       "      <td>60779</td>\n",
       "      <td>19</td>\n",
       "      <td>55</td>\n",
       "      <td>527865.0</td>\n",
       "      <td>1</td>\n",
       "      <td>2</td>\n",
       "      <td>4</td>\n",
       "      <td>33</td>\n",
       "    </tr>\n",
       "    <tr>\n",
       "      <td>18872</td>\n",
       "      <td>50619</td>\n",
       "      <td>21</td>\n",
       "      <td>10</td>\n",
       "      <td>520444.0</td>\n",
       "      <td>1</td>\n",
       "      <td>28</td>\n",
       "      <td>105</td>\n",
       "      <td>27</td>\n",
       "    </tr>\n",
       "    <tr>\n",
       "      <td>18904</td>\n",
       "      <td>17662</td>\n",
       "      <td>26</td>\n",
       "      <td>76</td>\n",
       "      <td>4575187.0</td>\n",
       "      <td>8</td>\n",
       "      <td>25</td>\n",
       "      <td>45</td>\n",
       "      <td>10</td>\n",
       "    </tr>\n",
       "  </tbody>\n",
       "</table>\n",
       "<p>203 rows × 8 columns</p>\n",
       "</div>"
      ],
      "text/plain": [
       "         ids  ages  orders  purchases  bookmarks  replies  ratings  period\n",
       "111    17967    20      10   585454.0          5       29      113      10\n",
       "323    68198    44       2   340177.0          7       12       12      36\n",
       "470     2336    30       1    58860.0          9       26       96       2\n",
       "550    55012    33      54   335503.0          8       25       99      30\n",
       "809    16217    25      51  4179609.0         11        9       12       9\n",
       "...      ...   ...     ...        ...        ...      ...      ...     ...\n",
       "18655  70234    50       2   180262.0          9       37       61      11\n",
       "18817  42185    20       1    39086.0          2       30       94      23\n",
       "18858  60779    19      55   527865.0          1        2        4      33\n",
       "18872  50619    21      10   520444.0          1       28      105      27\n",
       "18904  17662    26      76  4575187.0          8       25       45      10\n",
       "\n",
       "[203 rows x 8 columns]"
      ]
     },
     "execution_count": 176,
     "metadata": {},
     "output_type": "execute_result"
    }
   ],
   "source": [
    "test_set['purchases'] = pred\n",
    "test_set"
   ]
  },
  {
   "cell_type": "code",
   "execution_count": 177,
   "metadata": {},
   "outputs": [],
   "source": [
    "customer = train_set.append(test_set)\n",
    "############이렇게 붙이면 원본 데이터가 손상된다!!!!"
   ]
  },
  {
   "cell_type": "code",
   "execution_count": 212,
   "metadata": {},
   "outputs": [],
   "source": [
    "customer = df.copy()\n",
    "customer.loc[customer['purchases'].isna(), 'purchases'] = pred"
   ]
  },
  {
   "cell_type": "code",
   "execution_count": 66,
   "metadata": {},
   "outputs": [
    {
     "data": {
      "text/html": [
       "<div>\n",
       "<style scoped>\n",
       "    .dataframe tbody tr th:only-of-type {\n",
       "        vertical-align: middle;\n",
       "    }\n",
       "\n",
       "    .dataframe tbody tr th {\n",
       "        vertical-align: top;\n",
       "    }\n",
       "\n",
       "    .dataframe thead th {\n",
       "        text-align: right;\n",
       "    }\n",
       "</style>\n",
       "<table border=\"1\" class=\"dataframe\">\n",
       "  <thead>\n",
       "    <tr style=\"text-align: right;\">\n",
       "      <th></th>\n",
       "      <th>ids</th>\n",
       "      <th>ages</th>\n",
       "      <th>orders</th>\n",
       "      <th>purchases</th>\n",
       "      <th>bookmarks</th>\n",
       "      <th>replies</th>\n",
       "      <th>ratings</th>\n",
       "      <th>period</th>\n",
       "    </tr>\n",
       "  </thead>\n",
       "  <tbody>\n",
       "    <tr>\n",
       "      <td>0</td>\n",
       "      <td>47009</td>\n",
       "      <td>42</td>\n",
       "      <td>95</td>\n",
       "      <td>3509917.0</td>\n",
       "      <td>9</td>\n",
       "      <td>14</td>\n",
       "      <td>26</td>\n",
       "      <td>26</td>\n",
       "    </tr>\n",
       "    <tr>\n",
       "      <td>1</td>\n",
       "      <td>74838</td>\n",
       "      <td>41</td>\n",
       "      <td>10</td>\n",
       "      <td>673392.0</td>\n",
       "      <td>10</td>\n",
       "      <td>24</td>\n",
       "      <td>72</td>\n",
       "      <td>40</td>\n",
       "    </tr>\n",
       "    <tr>\n",
       "      <td>2</td>\n",
       "      <td>34976</td>\n",
       "      <td>20</td>\n",
       "      <td>23</td>\n",
       "      <td>1943940.0</td>\n",
       "      <td>6</td>\n",
       "      <td>20</td>\n",
       "      <td>51</td>\n",
       "      <td>19</td>\n",
       "    </tr>\n",
       "    <tr>\n",
       "      <td>3</td>\n",
       "      <td>34959</td>\n",
       "      <td>37</td>\n",
       "      <td>46</td>\n",
       "      <td>1981730.0</td>\n",
       "      <td>0</td>\n",
       "      <td>26</td>\n",
       "      <td>52</td>\n",
       "      <td>19</td>\n",
       "    </tr>\n",
       "    <tr>\n",
       "      <td>4</td>\n",
       "      <td>36710</td>\n",
       "      <td>36</td>\n",
       "      <td>93</td>\n",
       "      <td>386907.0</td>\n",
       "      <td>10</td>\n",
       "      <td>30</td>\n",
       "      <td>59</td>\n",
       "      <td>20</td>\n",
       "    </tr>\n",
       "    <tr>\n",
       "      <td>...</td>\n",
       "      <td>...</td>\n",
       "      <td>...</td>\n",
       "      <td>...</td>\n",
       "      <td>...</td>\n",
       "      <td>...</td>\n",
       "      <td>...</td>\n",
       "      <td>...</td>\n",
       "      <td>...</td>\n",
       "    </tr>\n",
       "    <tr>\n",
       "      <td>18946</td>\n",
       "      <td>33105</td>\n",
       "      <td>34</td>\n",
       "      <td>18</td>\n",
       "      <td>1335423.0</td>\n",
       "      <td>11</td>\n",
       "      <td>25</td>\n",
       "      <td>32</td>\n",
       "      <td>18</td>\n",
       "    </tr>\n",
       "    <tr>\n",
       "      <td>18947</td>\n",
       "      <td>38056</td>\n",
       "      <td>51</td>\n",
       "      <td>60</td>\n",
       "      <td>300000.0</td>\n",
       "      <td>9</td>\n",
       "      <td>32</td>\n",
       "      <td>33</td>\n",
       "      <td>21</td>\n",
       "    </tr>\n",
       "    <tr>\n",
       "      <td>18948</td>\n",
       "      <td>59148</td>\n",
       "      <td>51</td>\n",
       "      <td>75</td>\n",
       "      <td>4852735.0</td>\n",
       "      <td>0</td>\n",
       "      <td>32</td>\n",
       "      <td>81</td>\n",
       "      <td>32</td>\n",
       "    </tr>\n",
       "    <tr>\n",
       "      <td>18949</td>\n",
       "      <td>62573</td>\n",
       "      <td>34</td>\n",
       "      <td>63</td>\n",
       "      <td>2372982.0</td>\n",
       "      <td>6</td>\n",
       "      <td>33</td>\n",
       "      <td>71</td>\n",
       "      <td>34</td>\n",
       "    </tr>\n",
       "    <tr>\n",
       "      <td>18950</td>\n",
       "      <td>24173</td>\n",
       "      <td>21</td>\n",
       "      <td>82</td>\n",
       "      <td>300000.0</td>\n",
       "      <td>7</td>\n",
       "      <td>35</td>\n",
       "      <td>65</td>\n",
       "      <td>14</td>\n",
       "    </tr>\n",
       "  </tbody>\n",
       "</table>\n",
       "<p>18951 rows × 8 columns</p>\n",
       "</div>"
      ],
      "text/plain": [
       "         ids  ages  orders  purchases  bookmarks  replies  ratings  period\n",
       "0      47009    42      95  3509917.0          9       14       26      26\n",
       "1      74838    41      10   673392.0         10       24       72      40\n",
       "2      34976    20      23  1943940.0          6       20       51      19\n",
       "3      34959    37      46  1981730.0          0       26       52      19\n",
       "4      36710    36      93   386907.0         10       30       59      20\n",
       "...      ...   ...     ...        ...        ...      ...      ...     ...\n",
       "18946  33105    34      18  1335423.0         11       25       32      18\n",
       "18947  38056    51      60   300000.0          9       32       33      21\n",
       "18948  59148    51      75  4852735.0          0       32       81      32\n",
       "18949  62573    34      63  2372982.0          6       33       71      34\n",
       "18950  24173    21      82   300000.0          7       35       65      14\n",
       "\n",
       "[18951 rows x 8 columns]"
      ]
     },
     "execution_count": 66,
     "metadata": {},
     "output_type": "execute_result"
    }
   ],
   "source": [
    "df"
   ]
  },
  {
   "cell_type": "code",
   "execution_count": 213,
   "metadata": {},
   "outputs": [
    {
     "data": {
      "text/plain": [
       "2666251.4393435703"
      ]
     },
     "execution_count": 213,
     "metadata": {},
     "output_type": "execute_result"
    }
   ],
   "source": [
    "customer['purchases'].mean()"
   ]
  },
  {
   "cell_type": "code",
   "execution_count": 68,
   "metadata": {},
   "outputs": [],
   "source": [
    "#Q1"
   ]
  },
  {
   "cell_type": "code",
   "execution_count": 214,
   "metadata": {},
   "outputs": [],
   "source": [
    "from sklearn.preprocessing import MinMaxScaler\n",
    "from sklearn.cluster import KMeans\n",
    "from sklearn.metrics import silhouette_score\n",
    "random_state=229"
   ]
  },
  {
   "cell_type": "code",
   "execution_count": 215,
   "metadata": {},
   "outputs": [
    {
     "data": {
      "text/html": [
       "<div>\n",
       "<style scoped>\n",
       "    .dataframe tbody tr th:only-of-type {\n",
       "        vertical-align: middle;\n",
       "    }\n",
       "\n",
       "    .dataframe tbody tr th {\n",
       "        vertical-align: top;\n",
       "    }\n",
       "\n",
       "    .dataframe thead th {\n",
       "        text-align: right;\n",
       "    }\n",
       "</style>\n",
       "<table border=\"1\" class=\"dataframe\">\n",
       "  <thead>\n",
       "    <tr style=\"text-align: right;\">\n",
       "      <th></th>\n",
       "      <th>ids</th>\n",
       "      <th>ages</th>\n",
       "      <th>orders</th>\n",
       "      <th>purchases</th>\n",
       "      <th>bookmarks</th>\n",
       "      <th>replies</th>\n",
       "      <th>ratings</th>\n",
       "      <th>period</th>\n",
       "    </tr>\n",
       "  </thead>\n",
       "  <tbody>\n",
       "    <tr>\n",
       "      <td>6424</td>\n",
       "      <td>6941</td>\n",
       "      <td>33</td>\n",
       "      <td>57</td>\n",
       "      <td>204381.0</td>\n",
       "      <td>5</td>\n",
       "      <td>8</td>\n",
       "      <td>21</td>\n",
       "      <td>4</td>\n",
       "    </tr>\n",
       "    <tr>\n",
       "      <td>14181</td>\n",
       "      <td>43255</td>\n",
       "      <td>40</td>\n",
       "      <td>5</td>\n",
       "      <td>34325.0</td>\n",
       "      <td>6</td>\n",
       "      <td>25</td>\n",
       "      <td>75</td>\n",
       "      <td>24</td>\n",
       "    </tr>\n",
       "    <tr>\n",
       "      <td>8550</td>\n",
       "      <td>37222</td>\n",
       "      <td>31</td>\n",
       "      <td>88</td>\n",
       "      <td>6708403.0</td>\n",
       "      <td>3</td>\n",
       "      <td>18</td>\n",
       "      <td>67</td>\n",
       "      <td>20</td>\n",
       "    </tr>\n",
       "    <tr>\n",
       "      <td>3876</td>\n",
       "      <td>13537</td>\n",
       "      <td>43</td>\n",
       "      <td>32</td>\n",
       "      <td>1975157.0</td>\n",
       "      <td>0</td>\n",
       "      <td>11</td>\n",
       "      <td>15</td>\n",
       "      <td>8</td>\n",
       "    </tr>\n",
       "    <tr>\n",
       "      <td>12120</td>\n",
       "      <td>69188</td>\n",
       "      <td>34</td>\n",
       "      <td>64</td>\n",
       "      <td>11142283.0</td>\n",
       "      <td>9</td>\n",
       "      <td>11</td>\n",
       "      <td>32</td>\n",
       "      <td>38</td>\n",
       "    </tr>\n",
       "    <tr>\n",
       "      <td>...</td>\n",
       "      <td>...</td>\n",
       "      <td>...</td>\n",
       "      <td>...</td>\n",
       "      <td>...</td>\n",
       "      <td>...</td>\n",
       "      <td>...</td>\n",
       "      <td>...</td>\n",
       "      <td>...</td>\n",
       "    </tr>\n",
       "    <tr>\n",
       "      <td>16497</td>\n",
       "      <td>54196</td>\n",
       "      <td>41</td>\n",
       "      <td>41</td>\n",
       "      <td>1965026.0</td>\n",
       "      <td>0</td>\n",
       "      <td>2</td>\n",
       "      <td>6</td>\n",
       "      <td>24</td>\n",
       "    </tr>\n",
       "    <tr>\n",
       "      <td>1080</td>\n",
       "      <td>19474</td>\n",
       "      <td>31</td>\n",
       "      <td>49</td>\n",
       "      <td>299998.0</td>\n",
       "      <td>3</td>\n",
       "      <td>21</td>\n",
       "      <td>52</td>\n",
       "      <td>11</td>\n",
       "    </tr>\n",
       "    <tr>\n",
       "      <td>16520</td>\n",
       "      <td>70617</td>\n",
       "      <td>24</td>\n",
       "      <td>61</td>\n",
       "      <td>5208229.0</td>\n",
       "      <td>2</td>\n",
       "      <td>25</td>\n",
       "      <td>71</td>\n",
       "      <td>38</td>\n",
       "    </tr>\n",
       "    <tr>\n",
       "      <td>3323</td>\n",
       "      <td>38117</td>\n",
       "      <td>43</td>\n",
       "      <td>80</td>\n",
       "      <td>3612291.0</td>\n",
       "      <td>1</td>\n",
       "      <td>21</td>\n",
       "      <td>38</td>\n",
       "      <td>21</td>\n",
       "    </tr>\n",
       "    <tr>\n",
       "      <td>5706</td>\n",
       "      <td>15196</td>\n",
       "      <td>29</td>\n",
       "      <td>28</td>\n",
       "      <td>1135853.0</td>\n",
       "      <td>11</td>\n",
       "      <td>29</td>\n",
       "      <td>91</td>\n",
       "      <td>9</td>\n",
       "    </tr>\n",
       "  </tbody>\n",
       "</table>\n",
       "<p>4738 rows × 8 columns</p>\n",
       "</div>"
      ],
      "text/plain": [
       "         ids  ages  orders   purchases  bookmarks  replies  ratings  period\n",
       "6424    6941    33      57    204381.0          5        8       21       4\n",
       "14181  43255    40       5     34325.0          6       25       75      24\n",
       "8550   37222    31      88   6708403.0          3       18       67      20\n",
       "3876   13537    43      32   1975157.0          0       11       15       8\n",
       "12120  69188    34      64  11142283.0          9       11       32      38\n",
       "...      ...   ...     ...         ...        ...      ...      ...     ...\n",
       "16497  54196    41      41   1965026.0          0        2        6      24\n",
       "1080   19474    31      49    299998.0          3       21       52      11\n",
       "16520  70617    24      61   5208229.0          2       25       71      38\n",
       "3323   38117    43      80   3612291.0          1       21       38      21\n",
       "5706   15196    29      28   1135853.0         11       29       91       9\n",
       "\n",
       "[4738 rows x 8 columns]"
      ]
     },
     "execution_count": 215,
     "metadata": {},
     "output_type": "execute_result"
    }
   ],
   "source": [
    "df_sub1 = customer.copy()\n",
    "df_sub1 = df_sub1.sample(frac=0.25, random_state=229)\n",
    "df_sub1"
   ]
  },
  {
   "cell_type": "code",
   "execution_count": 216,
   "metadata": {},
   "outputs": [
    {
     "data": {
      "text/plain": [
       "18"
      ]
     },
     "execution_count": 216,
     "metadata": {},
     "output_type": "execute_result"
    }
   ],
   "source": [
    "df_sub1['ages'].min()"
   ]
  },
  {
   "cell_type": "code",
   "execution_count": 217,
   "metadata": {},
   "outputs": [
    {
     "data": {
      "text/plain": [
       "54"
      ]
     },
     "execution_count": 217,
     "metadata": {},
     "output_type": "execute_result"
    }
   ],
   "source": [
    "df_sub1['ages'].max()"
   ]
  },
  {
   "cell_type": "code",
   "execution_count": 218,
   "metadata": {},
   "outputs": [
    {
     "data": {
      "text/html": [
       "<div>\n",
       "<style scoped>\n",
       "    .dataframe tbody tr th:only-of-type {\n",
       "        vertical-align: middle;\n",
       "    }\n",
       "\n",
       "    .dataframe tbody tr th {\n",
       "        vertical-align: top;\n",
       "    }\n",
       "\n",
       "    .dataframe thead th {\n",
       "        text-align: right;\n",
       "    }\n",
       "</style>\n",
       "<table border=\"1\" class=\"dataframe\">\n",
       "  <thead>\n",
       "    <tr style=\"text-align: right;\">\n",
       "      <th></th>\n",
       "      <th>ids</th>\n",
       "      <th>ages</th>\n",
       "      <th>orders</th>\n",
       "      <th>purchases</th>\n",
       "      <th>bookmarks</th>\n",
       "      <th>replies</th>\n",
       "      <th>ratings</th>\n",
       "      <th>period</th>\n",
       "      <th>age_cls</th>\n",
       "    </tr>\n",
       "  </thead>\n",
       "  <tbody>\n",
       "    <tr>\n",
       "      <td>6424</td>\n",
       "      <td>6941</td>\n",
       "      <td>33</td>\n",
       "      <td>57</td>\n",
       "      <td>204381.0</td>\n",
       "      <td>5</td>\n",
       "      <td>8</td>\n",
       "      <td>21</td>\n",
       "      <td>4</td>\n",
       "      <td>3</td>\n",
       "    </tr>\n",
       "    <tr>\n",
       "      <td>14181</td>\n",
       "      <td>43255</td>\n",
       "      <td>40</td>\n",
       "      <td>5</td>\n",
       "      <td>34325.0</td>\n",
       "      <td>6</td>\n",
       "      <td>25</td>\n",
       "      <td>75</td>\n",
       "      <td>24</td>\n",
       "      <td>4</td>\n",
       "    </tr>\n",
       "    <tr>\n",
       "      <td>8550</td>\n",
       "      <td>37222</td>\n",
       "      <td>31</td>\n",
       "      <td>88</td>\n",
       "      <td>6708403.0</td>\n",
       "      <td>3</td>\n",
       "      <td>18</td>\n",
       "      <td>67</td>\n",
       "      <td>20</td>\n",
       "      <td>3</td>\n",
       "    </tr>\n",
       "    <tr>\n",
       "      <td>3876</td>\n",
       "      <td>13537</td>\n",
       "      <td>43</td>\n",
       "      <td>32</td>\n",
       "      <td>1975157.0</td>\n",
       "      <td>0</td>\n",
       "      <td>11</td>\n",
       "      <td>15</td>\n",
       "      <td>8</td>\n",
       "      <td>4</td>\n",
       "    </tr>\n",
       "    <tr>\n",
       "      <td>12120</td>\n",
       "      <td>69188</td>\n",
       "      <td>34</td>\n",
       "      <td>64</td>\n",
       "      <td>11142283.0</td>\n",
       "      <td>9</td>\n",
       "      <td>11</td>\n",
       "      <td>32</td>\n",
       "      <td>38</td>\n",
       "      <td>3</td>\n",
       "    </tr>\n",
       "  </tbody>\n",
       "</table>\n",
       "</div>"
      ],
      "text/plain": [
       "         ids  ages  orders   purchases  bookmarks  replies  ratings  period  \\\n",
       "6424    6941    33      57    204381.0          5        8       21       4   \n",
       "14181  43255    40       5     34325.0          6       25       75      24   \n",
       "8550   37222    31      88   6708403.0          3       18       67      20   \n",
       "3876   13537    43      32   1975157.0          0       11       15       8   \n",
       "12120  69188    34      64  11142283.0          9       11       32      38   \n",
       "\n",
       "       age_cls  \n",
       "6424         3  \n",
       "14181        4  \n",
       "8550         3  \n",
       "3876         4  \n",
       "12120        3  "
      ]
     },
     "execution_count": 218,
     "metadata": {},
     "output_type": "execute_result"
    }
   ],
   "source": [
    "df_sub1['age_cls'] = df_sub1['ages']//10\n",
    "df_sub1.head()"
   ]
  },
  {
   "cell_type": "code",
   "execution_count": 219,
   "metadata": {},
   "outputs": [
    {
     "data": {
      "text/plain": [
       "age_cls\n",
       "1     296\n",
       "2    1573\n",
       "3    1557\n",
       "4    1057\n",
       "5     255\n",
       "Name: ids, dtype: int64"
      ]
     },
     "execution_count": 219,
     "metadata": {},
     "output_type": "execute_result"
    }
   ],
   "source": [
    "df_sub1.groupby(['age_cls'])['ids'].count()"
   ]
  },
  {
   "cell_type": "code",
   "execution_count": 220,
   "metadata": {},
   "outputs": [
    {
     "data": {
      "text/plain": [
       "Index(['ids', 'ages', 'orders', 'purchases', 'bookmarks', 'replies', 'ratings',\n",
       "       'period', 'age_cls'],\n",
       "      dtype='object')"
      ]
     },
     "execution_count": 220,
     "metadata": {},
     "output_type": "execute_result"
    }
   ],
   "source": [
    "df_sub1.columns"
   ]
  },
  {
   "cell_type": "code",
   "execution_count": 221,
   "metadata": {},
   "outputs": [
    {
     "name": "stdout",
     "output_type": "stream",
     "text": [
      "['ages', 'orders', 'bookmarks', 'replies', 'ratings', 'period']\n"
     ]
    }
   ],
   "source": [
    "col = ['ages', 'orders', 'bookmarks', 'replies', 'ratings',\n",
    "       'period']\n",
    "print(col)"
   ]
  },
  {
   "cell_type": "code",
   "execution_count": 222,
   "metadata": {},
   "outputs": [],
   "source": [
    "scaler = MinMaxScaler().fit(df_sub1[col])"
   ]
  },
  {
   "cell_type": "code",
   "execution_count": 223,
   "metadata": {},
   "outputs": [
    {
     "data": {
      "text/html": [
       "<div>\n",
       "<style scoped>\n",
       "    .dataframe tbody tr th:only-of-type {\n",
       "        vertical-align: middle;\n",
       "    }\n",
       "\n",
       "    .dataframe tbody tr th {\n",
       "        vertical-align: top;\n",
       "    }\n",
       "\n",
       "    .dataframe thead th {\n",
       "        text-align: right;\n",
       "    }\n",
       "</style>\n",
       "<table border=\"1\" class=\"dataframe\">\n",
       "  <thead>\n",
       "    <tr style=\"text-align: right;\">\n",
       "      <th></th>\n",
       "      <th>ids</th>\n",
       "      <th>ages</th>\n",
       "      <th>orders</th>\n",
       "      <th>purchases</th>\n",
       "      <th>bookmarks</th>\n",
       "      <th>replies</th>\n",
       "      <th>ratings</th>\n",
       "      <th>period</th>\n",
       "      <th>age_cls</th>\n",
       "    </tr>\n",
       "  </thead>\n",
       "  <tbody>\n",
       "    <tr>\n",
       "      <td>6424</td>\n",
       "      <td>6941</td>\n",
       "      <td>0.416667</td>\n",
       "      <td>0.571429</td>\n",
       "      <td>204381.0</td>\n",
       "      <td>0.416667</td>\n",
       "      <td>0.205128</td>\n",
       "      <td>0.100962</td>\n",
       "      <td>0.076923</td>\n",
       "      <td>3</td>\n",
       "    </tr>\n",
       "    <tr>\n",
       "      <td>14181</td>\n",
       "      <td>43255</td>\n",
       "      <td>0.611111</td>\n",
       "      <td>0.040816</td>\n",
       "      <td>34325.0</td>\n",
       "      <td>0.500000</td>\n",
       "      <td>0.641026</td>\n",
       "      <td>0.360577</td>\n",
       "      <td>0.589744</td>\n",
       "      <td>4</td>\n",
       "    </tr>\n",
       "    <tr>\n",
       "      <td>8550</td>\n",
       "      <td>37222</td>\n",
       "      <td>0.361111</td>\n",
       "      <td>0.887755</td>\n",
       "      <td>6708403.0</td>\n",
       "      <td>0.250000</td>\n",
       "      <td>0.461538</td>\n",
       "      <td>0.322115</td>\n",
       "      <td>0.487179</td>\n",
       "      <td>3</td>\n",
       "    </tr>\n",
       "    <tr>\n",
       "      <td>3876</td>\n",
       "      <td>13537</td>\n",
       "      <td>0.694444</td>\n",
       "      <td>0.316327</td>\n",
       "      <td>1975157.0</td>\n",
       "      <td>0.000000</td>\n",
       "      <td>0.282051</td>\n",
       "      <td>0.072115</td>\n",
       "      <td>0.179487</td>\n",
       "      <td>4</td>\n",
       "    </tr>\n",
       "    <tr>\n",
       "      <td>12120</td>\n",
       "      <td>69188</td>\n",
       "      <td>0.444444</td>\n",
       "      <td>0.642857</td>\n",
       "      <td>11142283.0</td>\n",
       "      <td>0.750000</td>\n",
       "      <td>0.282051</td>\n",
       "      <td>0.153846</td>\n",
       "      <td>0.948718</td>\n",
       "      <td>3</td>\n",
       "    </tr>\n",
       "  </tbody>\n",
       "</table>\n",
       "</div>"
      ],
      "text/plain": [
       "         ids      ages    orders   purchases  bookmarks   replies   ratings  \\\n",
       "6424    6941  0.416667  0.571429    204381.0   0.416667  0.205128  0.100962   \n",
       "14181  43255  0.611111  0.040816     34325.0   0.500000  0.641026  0.360577   \n",
       "8550   37222  0.361111  0.887755   6708403.0   0.250000  0.461538  0.322115   \n",
       "3876   13537  0.694444  0.316327   1975157.0   0.000000  0.282051  0.072115   \n",
       "12120  69188  0.444444  0.642857  11142283.0   0.750000  0.282051  0.153846   \n",
       "\n",
       "         period  age_cls  \n",
       "6424   0.076923        3  \n",
       "14181  0.589744        4  \n",
       "8550   0.487179        3  \n",
       "3876   0.179487        4  \n",
       "12120  0.948718        3  "
      ]
     },
     "execution_count": 223,
     "metadata": {},
     "output_type": "execute_result"
    }
   ],
   "source": [
    "df_sub1[col]=scaler.transform(df_sub1[col])\n",
    "df_sub1.head()"
   ]
  },
  {
   "cell_type": "code",
   "execution_count": 224,
   "metadata": {},
   "outputs": [
    {
     "name": "stdout",
     "output_type": "stream",
     "text": [
      "2 0.16180321227538863\n",
      "3 0.14967939166430252\n",
      "4 0.15079580349497418\n",
      "5 0.1493027174089563\n"
     ]
    }
   ],
   "source": [
    "for k in range(2, 6):\n",
    "    model = KMeans(k, random_state=random_state).fit(df_sub1[col])\n",
    "    score = silhouette_score(df_sub1[col], model.labels_, random_state=random_state)\n",
    "    print(k, score)"
   ]
  },
  {
   "cell_type": "code",
   "execution_count": 226,
   "metadata": {},
   "outputs": [],
   "source": [
    "k = 2\n",
    "model = KMeans(k, random_state=random_state).fit(df_sub1[col])"
   ]
  },
  {
   "cell_type": "code",
   "execution_count": 227,
   "metadata": {},
   "outputs": [
    {
     "data": {
      "text/plain": [
       "age_cls  label\n",
       "1        1        0.520270\n",
       "         0        0.479730\n",
       "2        0        0.525111\n",
       "         1        0.474889\n",
       "3        0        0.501606\n",
       "         1        0.498394\n",
       "4        0        0.510880\n",
       "         1        0.489120\n",
       "5        1        0.517647\n",
       "         0        0.482353\n",
       "Name: label, dtype: float64"
      ]
     },
     "execution_count": 227,
     "metadata": {},
     "output_type": "execute_result"
    }
   ],
   "source": [
    "df_sub1['label'] = model.labels_\n",
    "df_sub1.groupby('age_cls')['label'].value_counts(normalize=True)"
   ]
  },
  {
   "cell_type": "code",
   "execution_count": 230,
   "metadata": {},
   "outputs": [
    {
     "data": {
      "text/plain": [
       "0.53"
      ]
     },
     "execution_count": 230,
     "metadata": {},
     "output_type": "execute_result"
    }
   ],
   "source": [
    "answer = df_sub1.groupby('age_cls')['label'].value_counts(normalize=True).max()\n",
    "answer = round(answer, 2)\n",
    "answer"
   ]
  },
  {
   "cell_type": "code",
   "execution_count": 88,
   "metadata": {},
   "outputs": [],
   "source": [
    "#Q2"
   ]
  },
  {
   "cell_type": "code",
   "execution_count": 89,
   "metadata": {},
   "outputs": [],
   "source": [
    "from statsmodels.stats.outliers_influence import variance_inflation_factor"
   ]
  },
  {
   "cell_type": "code",
   "execution_count": 231,
   "metadata": {},
   "outputs": [],
   "source": [
    "col = ['orders', 'bookmarks', 'replies', 'ratings',\n",
    "       'period']"
   ]
  },
  {
   "cell_type": "code",
   "execution_count": 232,
   "metadata": {},
   "outputs": [
    {
     "name": "stdout",
     "output_type": "stream",
     "text": [
      "3.096205582510852\n",
      "2.818769218604191\n",
      "7.534162561524372\n",
      "5.9332210870176745\n",
      "3.143516900669937\n"
     ]
    }
   ],
   "source": [
    "for i in range(5):\n",
    "    vif = variance_inflation_factor(customer[col].values, i)\n",
    "    print(vif)"
   ]
  },
  {
   "cell_type": "code",
   "execution_count": 233,
   "metadata": {},
   "outputs": [],
   "source": [
    "answer = 'replies'"
   ]
  },
  {
   "cell_type": "code",
   "execution_count": 234,
   "metadata": {},
   "outputs": [
    {
     "data": {
      "text/html": [
       "<div>\n",
       "<style scoped>\n",
       "    .dataframe tbody tr th:only-of-type {\n",
       "        vertical-align: middle;\n",
       "    }\n",
       "\n",
       "    .dataframe tbody tr th {\n",
       "        vertical-align: top;\n",
       "    }\n",
       "\n",
       "    .dataframe thead th {\n",
       "        text-align: right;\n",
       "    }\n",
       "</style>\n",
       "<table border=\"1\" class=\"dataframe\">\n",
       "  <thead>\n",
       "    <tr style=\"text-align: right;\">\n",
       "      <th></th>\n",
       "      <th>ids</th>\n",
       "      <th>ages</th>\n",
       "      <th>orders</th>\n",
       "      <th>purchases</th>\n",
       "      <th>bookmarks</th>\n",
       "      <th>replies</th>\n",
       "      <th>ratings</th>\n",
       "      <th>period</th>\n",
       "    </tr>\n",
       "  </thead>\n",
       "  <tbody>\n",
       "    <tr>\n",
       "      <td>0</td>\n",
       "      <td>47009</td>\n",
       "      <td>42</td>\n",
       "      <td>95</td>\n",
       "      <td>3509917.0</td>\n",
       "      <td>9</td>\n",
       "      <td>14</td>\n",
       "      <td>26</td>\n",
       "      <td>26</td>\n",
       "    </tr>\n",
       "    <tr>\n",
       "      <td>1</td>\n",
       "      <td>74838</td>\n",
       "      <td>41</td>\n",
       "      <td>10</td>\n",
       "      <td>673392.0</td>\n",
       "      <td>10</td>\n",
       "      <td>24</td>\n",
       "      <td>72</td>\n",
       "      <td>40</td>\n",
       "    </tr>\n",
       "    <tr>\n",
       "      <td>2</td>\n",
       "      <td>34976</td>\n",
       "      <td>20</td>\n",
       "      <td>23</td>\n",
       "      <td>1943940.0</td>\n",
       "      <td>6</td>\n",
       "      <td>20</td>\n",
       "      <td>51</td>\n",
       "      <td>19</td>\n",
       "    </tr>\n",
       "    <tr>\n",
       "      <td>3</td>\n",
       "      <td>34959</td>\n",
       "      <td>37</td>\n",
       "      <td>46</td>\n",
       "      <td>1981730.0</td>\n",
       "      <td>0</td>\n",
       "      <td>26</td>\n",
       "      <td>52</td>\n",
       "      <td>19</td>\n",
       "    </tr>\n",
       "    <tr>\n",
       "      <td>4</td>\n",
       "      <td>36710</td>\n",
       "      <td>36</td>\n",
       "      <td>93</td>\n",
       "      <td>386907.0</td>\n",
       "      <td>10</td>\n",
       "      <td>30</td>\n",
       "      <td>59</td>\n",
       "      <td>20</td>\n",
       "    </tr>\n",
       "  </tbody>\n",
       "</table>\n",
       "</div>"
      ],
      "text/plain": [
       "     ids  ages  orders  purchases  bookmarks  replies  ratings  period\n",
       "0  47009    42      95  3509917.0          9       14       26      26\n",
       "1  74838    41      10   673392.0         10       24       72      40\n",
       "2  34976    20      23  1943940.0          6       20       51      19\n",
       "3  34959    37      46  1981730.0          0       26       52      19\n",
       "4  36710    36      93   386907.0         10       30       59      20"
      ]
     },
     "execution_count": 234,
     "metadata": {},
     "output_type": "execute_result"
    }
   ],
   "source": [
    "customer.head()"
   ]
  },
  {
   "cell_type": "code",
   "execution_count": 235,
   "metadata": {},
   "outputs": [
    {
     "data": {
      "text/html": [
       "<div>\n",
       "<style scoped>\n",
       "    .dataframe tbody tr th:only-of-type {\n",
       "        vertical-align: middle;\n",
       "    }\n",
       "\n",
       "    .dataframe tbody tr th {\n",
       "        vertical-align: top;\n",
       "    }\n",
       "\n",
       "    .dataframe thead th {\n",
       "        text-align: right;\n",
       "    }\n",
       "</style>\n",
       "<table border=\"1\" class=\"dataframe\">\n",
       "  <thead>\n",
       "    <tr style=\"text-align: right;\">\n",
       "      <th></th>\n",
       "      <th>ids</th>\n",
       "      <th>ages</th>\n",
       "      <th>orders</th>\n",
       "      <th>purchases</th>\n",
       "      <th>bookmarks</th>\n",
       "      <th>replies</th>\n",
       "      <th>ratings</th>\n",
       "      <th>period</th>\n",
       "      <th>regular</th>\n",
       "    </tr>\n",
       "  </thead>\n",
       "  <tbody>\n",
       "    <tr>\n",
       "      <td>0</td>\n",
       "      <td>47009</td>\n",
       "      <td>42</td>\n",
       "      <td>95</td>\n",
       "      <td>3509917.0</td>\n",
       "      <td>9</td>\n",
       "      <td>14</td>\n",
       "      <td>26</td>\n",
       "      <td>26</td>\n",
       "      <td>1</td>\n",
       "    </tr>\n",
       "    <tr>\n",
       "      <td>1</td>\n",
       "      <td>74838</td>\n",
       "      <td>41</td>\n",
       "      <td>10</td>\n",
       "      <td>673392.0</td>\n",
       "      <td>10</td>\n",
       "      <td>24</td>\n",
       "      <td>72</td>\n",
       "      <td>40</td>\n",
       "      <td>0</td>\n",
       "    </tr>\n",
       "    <tr>\n",
       "      <td>2</td>\n",
       "      <td>34976</td>\n",
       "      <td>20</td>\n",
       "      <td>23</td>\n",
       "      <td>1943940.0</td>\n",
       "      <td>6</td>\n",
       "      <td>20</td>\n",
       "      <td>51</td>\n",
       "      <td>19</td>\n",
       "      <td>0</td>\n",
       "    </tr>\n",
       "    <tr>\n",
       "      <td>3</td>\n",
       "      <td>34959</td>\n",
       "      <td>37</td>\n",
       "      <td>46</td>\n",
       "      <td>1981730.0</td>\n",
       "      <td>0</td>\n",
       "      <td>26</td>\n",
       "      <td>52</td>\n",
       "      <td>19</td>\n",
       "      <td>0</td>\n",
       "    </tr>\n",
       "    <tr>\n",
       "      <td>4</td>\n",
       "      <td>36710</td>\n",
       "      <td>36</td>\n",
       "      <td>93</td>\n",
       "      <td>386907.0</td>\n",
       "      <td>10</td>\n",
       "      <td>30</td>\n",
       "      <td>59</td>\n",
       "      <td>20</td>\n",
       "      <td>1</td>\n",
       "    </tr>\n",
       "    <tr>\n",
       "      <td>...</td>\n",
       "      <td>...</td>\n",
       "      <td>...</td>\n",
       "      <td>...</td>\n",
       "      <td>...</td>\n",
       "      <td>...</td>\n",
       "      <td>...</td>\n",
       "      <td>...</td>\n",
       "      <td>...</td>\n",
       "      <td>...</td>\n",
       "    </tr>\n",
       "    <tr>\n",
       "      <td>18946</td>\n",
       "      <td>33105</td>\n",
       "      <td>34</td>\n",
       "      <td>18</td>\n",
       "      <td>1335423.0</td>\n",
       "      <td>11</td>\n",
       "      <td>25</td>\n",
       "      <td>32</td>\n",
       "      <td>18</td>\n",
       "      <td>0</td>\n",
       "    </tr>\n",
       "    <tr>\n",
       "      <td>18947</td>\n",
       "      <td>38056</td>\n",
       "      <td>51</td>\n",
       "      <td>60</td>\n",
       "      <td>300000.0</td>\n",
       "      <td>9</td>\n",
       "      <td>32</td>\n",
       "      <td>33</td>\n",
       "      <td>21</td>\n",
       "      <td>1</td>\n",
       "    </tr>\n",
       "    <tr>\n",
       "      <td>18948</td>\n",
       "      <td>59148</td>\n",
       "      <td>51</td>\n",
       "      <td>75</td>\n",
       "      <td>4852735.0</td>\n",
       "      <td>0</td>\n",
       "      <td>32</td>\n",
       "      <td>81</td>\n",
       "      <td>32</td>\n",
       "      <td>1</td>\n",
       "    </tr>\n",
       "    <tr>\n",
       "      <td>18949</td>\n",
       "      <td>62573</td>\n",
       "      <td>34</td>\n",
       "      <td>63</td>\n",
       "      <td>2372982.0</td>\n",
       "      <td>6</td>\n",
       "      <td>33</td>\n",
       "      <td>71</td>\n",
       "      <td>34</td>\n",
       "      <td>1</td>\n",
       "    </tr>\n",
       "    <tr>\n",
       "      <td>18950</td>\n",
       "      <td>24173</td>\n",
       "      <td>21</td>\n",
       "      <td>82</td>\n",
       "      <td>300000.0</td>\n",
       "      <td>7</td>\n",
       "      <td>35</td>\n",
       "      <td>65</td>\n",
       "      <td>14</td>\n",
       "      <td>1</td>\n",
       "    </tr>\n",
       "  </tbody>\n",
       "</table>\n",
       "<p>18951 rows × 9 columns</p>\n",
       "</div>"
      ],
      "text/plain": [
       "         ids  ages  orders  purchases  bookmarks  replies  ratings  period  \\\n",
       "0      47009    42      95  3509917.0          9       14       26      26   \n",
       "1      74838    41      10   673392.0         10       24       72      40   \n",
       "2      34976    20      23  1943940.0          6       20       51      19   \n",
       "3      34959    37      46  1981730.0          0       26       52      19   \n",
       "4      36710    36      93   386907.0         10       30       59      20   \n",
       "...      ...   ...     ...        ...        ...      ...      ...     ...   \n",
       "18946  33105    34      18  1335423.0         11       25       32      18   \n",
       "18947  38056    51      60   300000.0          9       32       33      21   \n",
       "18948  59148    51      75  4852735.0          0       32       81      32   \n",
       "18949  62573    34      63  2372982.0          6       33       71      34   \n",
       "18950  24173    21      82   300000.0          7       35       65      14   \n",
       "\n",
       "       regular  \n",
       "0            1  \n",
       "1            0  \n",
       "2            0  \n",
       "3            0  \n",
       "4            1  \n",
       "...        ...  \n",
       "18946        0  \n",
       "18947        1  \n",
       "18948        1  \n",
       "18949        1  \n",
       "18950        1  \n",
       "\n",
       "[18951 rows x 9 columns]"
      ]
     },
     "execution_count": 235,
     "metadata": {},
     "output_type": "execute_result"
    }
   ],
   "source": [
    "df_sub3 = customer.copy()\n",
    "m = df_sub3['orders'].mean()\n",
    "df_sub3['regular'] = np.where(df_sub3['orders']>m, 1, 0)\n",
    "df_sub3"
   ]
  },
  {
   "cell_type": "code",
   "execution_count": 236,
   "metadata": {},
   "outputs": [],
   "source": [
    "from sklearn.naive_bayes import GaussianNB\n",
    "from sklearn.model_selection import train_test_split\n",
    "from sklearn.metrics import recall_score\n",
    "random_state=229"
   ]
  },
  {
   "cell_type": "code",
   "execution_count": 237,
   "metadata": {},
   "outputs": [],
   "source": [
    "train_set, test_set = train_test_split(df_sub3, random_state=random_state, test_size = 0.8)"
   ]
  },
  {
   "cell_type": "code",
   "execution_count": 238,
   "metadata": {},
   "outputs": [
    {
     "name": "stdout",
     "output_type": "stream",
     "text": [
      "(3790, 9) (15161, 9)\n"
     ]
    }
   ],
   "source": [
    "print(train_set.shape, test_set.shape)"
   ]
  },
  {
   "cell_type": "code",
   "execution_count": 239,
   "metadata": {},
   "outputs": [
    {
     "data": {
      "text/html": [
       "<div>\n",
       "<style scoped>\n",
       "    .dataframe tbody tr th:only-of-type {\n",
       "        vertical-align: middle;\n",
       "    }\n",
       "\n",
       "    .dataframe tbody tr th {\n",
       "        vertical-align: top;\n",
       "    }\n",
       "\n",
       "    .dataframe thead th {\n",
       "        text-align: right;\n",
       "    }\n",
       "</style>\n",
       "<table border=\"1\" class=\"dataframe\">\n",
       "  <thead>\n",
       "    <tr style=\"text-align: right;\">\n",
       "      <th></th>\n",
       "      <th>ids</th>\n",
       "      <th>ages</th>\n",
       "      <th>orders</th>\n",
       "      <th>purchases</th>\n",
       "      <th>bookmarks</th>\n",
       "      <th>replies</th>\n",
       "      <th>ratings</th>\n",
       "      <th>period</th>\n",
       "      <th>regular</th>\n",
       "    </tr>\n",
       "  </thead>\n",
       "  <tbody>\n",
       "    <tr>\n",
       "      <td>2298</td>\n",
       "      <td>28282</td>\n",
       "      <td>38</td>\n",
       "      <td>29</td>\n",
       "      <td>4348915.0</td>\n",
       "      <td>2</td>\n",
       "      <td>9</td>\n",
       "      <td>29</td>\n",
       "      <td>16</td>\n",
       "      <td>0</td>\n",
       "    </tr>\n",
       "    <tr>\n",
       "      <td>10229</td>\n",
       "      <td>45065</td>\n",
       "      <td>22</td>\n",
       "      <td>18</td>\n",
       "      <td>56025.0</td>\n",
       "      <td>12</td>\n",
       "      <td>15</td>\n",
       "      <td>19</td>\n",
       "      <td>24</td>\n",
       "      <td>0</td>\n",
       "    </tr>\n",
       "    <tr>\n",
       "      <td>7980</td>\n",
       "      <td>27999</td>\n",
       "      <td>32</td>\n",
       "      <td>83</td>\n",
       "      <td>7882584.0</td>\n",
       "      <td>0</td>\n",
       "      <td>30</td>\n",
       "      <td>30</td>\n",
       "      <td>16</td>\n",
       "      <td>1</td>\n",
       "    </tr>\n",
       "    <tr>\n",
       "      <td>12261</td>\n",
       "      <td>33583</td>\n",
       "      <td>23</td>\n",
       "      <td>58</td>\n",
       "      <td>3333148.0</td>\n",
       "      <td>9</td>\n",
       "      <td>23</td>\n",
       "      <td>64</td>\n",
       "      <td>18</td>\n",
       "      <td>1</td>\n",
       "    </tr>\n",
       "    <tr>\n",
       "      <td>458</td>\n",
       "      <td>18205</td>\n",
       "      <td>43</td>\n",
       "      <td>51</td>\n",
       "      <td>943312.0</td>\n",
       "      <td>4</td>\n",
       "      <td>2</td>\n",
       "      <td>32</td>\n",
       "      <td>10</td>\n",
       "      <td>1</td>\n",
       "    </tr>\n",
       "  </tbody>\n",
       "</table>\n",
       "</div>"
      ],
      "text/plain": [
       "         ids  ages  orders  purchases  bookmarks  replies  ratings  period  \\\n",
       "2298   28282    38      29  4348915.0          2        9       29      16   \n",
       "10229  45065    22      18    56025.0         12       15       19      24   \n",
       "7980   27999    32      83  7882584.0          0       30       30      16   \n",
       "12261  33583    23      58  3333148.0          9       23       64      18   \n",
       "458    18205    43      51   943312.0          4        2       32      10   \n",
       "\n",
       "       regular  \n",
       "2298         0  \n",
       "10229        0  \n",
       "7980         1  \n",
       "12261        1  \n",
       "458          1  "
      ]
     },
     "execution_count": 239,
     "metadata": {},
     "output_type": "execute_result"
    }
   ],
   "source": [
    "train_set.head()"
   ]
  },
  {
   "cell_type": "code",
   "execution_count": 240,
   "metadata": {},
   "outputs": [
    {
     "data": {
      "text/plain": [
       "Index(['ids', 'ages', 'orders', 'purchases', 'bookmarks', 'replies', 'ratings',\n",
       "       'period', 'regular'],\n",
       "      dtype='object')"
      ]
     },
     "execution_count": 240,
     "metadata": {},
     "output_type": "execute_result"
    }
   ],
   "source": [
    "train_set.columns"
   ]
  },
  {
   "cell_type": "code",
   "execution_count": 241,
   "metadata": {},
   "outputs": [],
   "source": [
    "col = ['ages', 'purchases', 'bookmarks', 'replies', 'ratings',\n",
    "       'period']"
   ]
  },
  {
   "cell_type": "code",
   "execution_count": 242,
   "metadata": {},
   "outputs": [
    {
     "data": {
      "text/plain": [
       "GaussianNB(priors=None, var_smoothing=1e-09)"
      ]
     },
     "execution_count": 242,
     "metadata": {},
     "output_type": "execute_result"
    }
   ],
   "source": [
    "model = GaussianNB()\n",
    "model.fit(train_set[col], train_set['regular'])"
   ]
  },
  {
   "cell_type": "code",
   "execution_count": 243,
   "metadata": {},
   "outputs": [
    {
     "data": {
      "text/plain": [
       "array([0, 0, 1, ..., 0, 0, 0])"
      ]
     },
     "execution_count": 243,
     "metadata": {},
     "output_type": "execute_result"
    }
   ],
   "source": [
    "pred = model.predict(test_set[col])\n",
    "pred"
   ]
  },
  {
   "cell_type": "code",
   "execution_count": 244,
   "metadata": {},
   "outputs": [
    {
     "data": {
      "text/plain": [
       "array([0.2261949 , 0.2350681 , 0.99916454, ..., 0.28722555, 0.30003785,\n",
       "       0.21908346])"
      ]
     },
     "execution_count": 244,
     "metadata": {},
     "output_type": "execute_result"
    }
   ],
   "source": [
    "pred = model.predict_proba(test_set[col])[:, 1]\n",
    "pred"
   ]
  },
  {
   "cell_type": "code",
   "execution_count": 245,
   "metadata": {},
   "outputs": [
    {
     "name": "stdout",
     "output_type": "stream",
     "text": [
      "0.6337730870712401\n",
      "0.5798153034300791\n",
      "0.5398416886543536\n"
     ]
    }
   ],
   "source": [
    "thresholds = [0.4, 0.5, 0.6]\n",
    "for threshold in thresholds:\n",
    "    score = recall_score(test_set['regular'], pred>threshold)\n",
    "    print(score)"
   ]
  },
  {
   "cell_type": "code",
   "execution_count": 146,
   "metadata": {},
   "outputs": [],
   "source": [
    "answer = 0.6"
   ]
  },
  {
   "cell_type": "code",
   "execution_count": null,
   "metadata": {},
   "outputs": [],
   "source": []
  }
 ],
 "metadata": {
  "kernelspec": {
   "display_name": "Python 3",
   "language": "python",
   "name": "python3"
  },
  "language_info": {
   "codemirror_mode": {
    "name": "ipython",
    "version": 3
   },
   "file_extension": ".py",
   "mimetype": "text/x-python",
   "name": "python",
   "nbconvert_exporter": "python",
   "pygments_lexer": "ipython3",
   "version": "3.7.4"
  }
 },
 "nbformat": 4,
 "nbformat_minor": 2
}
