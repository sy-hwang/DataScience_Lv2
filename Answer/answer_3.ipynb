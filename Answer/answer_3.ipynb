{
 "cells": [
  {
   "cell_type": "code",
   "execution_count": 2,
   "metadata": {},
   "outputs": [],
   "source": [
    "import numpy as np\n",
    "import pandas as pd"
   ]
  },
  {
   "cell_type": "code",
   "execution_count": 21,
   "metadata": {},
   "outputs": [
    {
     "data": {
      "text/html": [
       "<div>\n",
       "<style scoped>\n",
       "    .dataframe tbody tr th:only-of-type {\n",
       "        vertical-align: middle;\n",
       "    }\n",
       "\n",
       "    .dataframe tbody tr th {\n",
       "        vertical-align: top;\n",
       "    }\n",
       "\n",
       "    .dataframe thead th {\n",
       "        text-align: right;\n",
       "    }\n",
       "</style>\n",
       "<table border=\"1\" class=\"dataframe\">\n",
       "  <thead>\n",
       "    <tr style=\"text-align: right;\">\n",
       "      <th></th>\n",
       "      <th>latitude</th>\n",
       "      <th>longitude</th>\n",
       "      <th>price_per_square_py</th>\n",
       "      <th>py</th>\n",
       "      <th>apt_code</th>\n",
       "      <th>dist_from_station</th>\n",
       "    </tr>\n",
       "  </thead>\n",
       "  <tbody>\n",
       "    <tr>\n",
       "      <td>0</td>\n",
       "      <td>37.125541</td>\n",
       "      <td>126.913776</td>\n",
       "      <td>2860.053787</td>\n",
       "      <td>24</td>\n",
       "      <td>GEDAE</td>\n",
       "      <td>1588.406226</td>\n",
       "    </tr>\n",
       "    <tr>\n",
       "      <td>1</td>\n",
       "      <td>37.223169</td>\n",
       "      <td>127.026913</td>\n",
       "      <td>1715.073163</td>\n",
       "      <td>59</td>\n",
       "      <td>IHEAD</td>\n",
       "      <td>986.146800</td>\n",
       "    </tr>\n",
       "    <tr>\n",
       "      <td>2</td>\n",
       "      <td>37.239029</td>\n",
       "      <td>126.906303</td>\n",
       "      <td>1780.604630</td>\n",
       "      <td>57</td>\n",
       "      <td>FHIBJ</td>\n",
       "      <td>1492.514512</td>\n",
       "    </tr>\n",
       "    <tr>\n",
       "      <td>3</td>\n",
       "      <td>37.274433</td>\n",
       "      <td>126.737771</td>\n",
       "      <td>1508.814336</td>\n",
       "      <td>42</td>\n",
       "      <td>JBCIJ</td>\n",
       "      <td>1621.602866</td>\n",
       "    </tr>\n",
       "    <tr>\n",
       "      <td>4</td>\n",
       "      <td>37.082670</td>\n",
       "      <td>127.143634</td>\n",
       "      <td>2933.930488</td>\n",
       "      <td>32</td>\n",
       "      <td>EDJCI</td>\n",
       "      <td>945.034519</td>\n",
       "    </tr>\n",
       "    <tr>\n",
       "      <td>...</td>\n",
       "      <td>...</td>\n",
       "      <td>...</td>\n",
       "      <td>...</td>\n",
       "      <td>...</td>\n",
       "      <td>...</td>\n",
       "      <td>...</td>\n",
       "    </tr>\n",
       "    <tr>\n",
       "      <td>772</td>\n",
       "      <td>37.161852</td>\n",
       "      <td>126.917406</td>\n",
       "      <td>3564.856667</td>\n",
       "      <td>40</td>\n",
       "      <td>IHEAD</td>\n",
       "      <td>1593.663253</td>\n",
       "    </tr>\n",
       "    <tr>\n",
       "      <td>773</td>\n",
       "      <td>37.288945</td>\n",
       "      <td>127.118062</td>\n",
       "      <td>3072.810919</td>\n",
       "      <td>24</td>\n",
       "      <td>GBDGG</td>\n",
       "      <td>1803.257080</td>\n",
       "    </tr>\n",
       "    <tr>\n",
       "      <td>774</td>\n",
       "      <td>37.234408</td>\n",
       "      <td>126.745186</td>\n",
       "      <td>2491.714188</td>\n",
       "      <td>61</td>\n",
       "      <td>EJAIA</td>\n",
       "      <td>1346.821965</td>\n",
       "    </tr>\n",
       "    <tr>\n",
       "      <td>775</td>\n",
       "      <td>37.294494</td>\n",
       "      <td>127.185185</td>\n",
       "      <td>1746.372819</td>\n",
       "      <td>40</td>\n",
       "      <td>EGFBJ</td>\n",
       "      <td>1461.672552</td>\n",
       "    </tr>\n",
       "    <tr>\n",
       "      <td>776</td>\n",
       "      <td>37.004345</td>\n",
       "      <td>127.107611</td>\n",
       "      <td>1667.553347</td>\n",
       "      <td>32</td>\n",
       "      <td>EHCAD</td>\n",
       "      <td>1377.100866</td>\n",
       "    </tr>\n",
       "  </tbody>\n",
       "</table>\n",
       "<p>777 rows × 6 columns</p>\n",
       "</div>"
      ],
      "text/plain": [
       "      latitude   longitude  price_per_square_py  py apt_code  \\\n",
       "0    37.125541  126.913776          2860.053787  24    GEDAE   \n",
       "1    37.223169  127.026913          1715.073163  59    IHEAD   \n",
       "2    37.239029  126.906303          1780.604630  57    FHIBJ   \n",
       "3    37.274433  126.737771          1508.814336  42    JBCIJ   \n",
       "4    37.082670  127.143634          2933.930488  32    EDJCI   \n",
       "..         ...         ...                  ...  ..      ...   \n",
       "772  37.161852  126.917406          3564.856667  40    IHEAD   \n",
       "773  37.288945  127.118062          3072.810919  24    GBDGG   \n",
       "774  37.234408  126.745186          2491.714188  61    EJAIA   \n",
       "775  37.294494  127.185185          1746.372819  40    EGFBJ   \n",
       "776  37.004345  127.107611          1667.553347  32    EHCAD   \n",
       "\n",
       "     dist_from_station  \n",
       "0          1588.406226  \n",
       "1           986.146800  \n",
       "2          1492.514512  \n",
       "3          1621.602866  \n",
       "4           945.034519  \n",
       "..                 ...  \n",
       "772        1593.663253  \n",
       "773        1803.257080  \n",
       "774        1346.821965  \n",
       "775        1461.672552  \n",
       "776        1377.100866  \n",
       "\n",
       "[777 rows x 6 columns]"
      ]
     },
     "execution_count": 21,
     "metadata": {},
     "output_type": "execute_result"
    }
   ],
   "source": [
    "df = pd.read_csv(\"../Dataset/real_estate.csv\")\n",
    "df"
   ]
  },
  {
   "cell_type": "code",
   "execution_count": 4,
   "metadata": {},
   "outputs": [
    {
     "data": {
      "text/plain": [
       "latitude               float64\n",
       "longitude              float64\n",
       "price_per_square_py    float64\n",
       "py                       int64\n",
       "apt_code                object\n",
       "dist_from_station      float64\n",
       "dtype: object"
      ]
     },
     "execution_count": 4,
     "metadata": {},
     "output_type": "execute_result"
    }
   ],
   "source": [
    "df.dtypes"
   ]
  },
  {
   "cell_type": "code",
   "execution_count": 6,
   "metadata": {},
   "outputs": [
    {
     "data": {
      "text/plain": [
       "0      GEDAE\n",
       "1      IHEAD\n",
       "2      FHIBJ\n",
       "3      JBCIJ\n",
       "4      EDJCI\n",
       "       ...  \n",
       "772    IHEAD\n",
       "773    GBDGG\n",
       "774    EJAIA\n",
       "775    EGFBJ\n",
       "776    EHCAD\n",
       "Name: apt_code, Length: 777, dtype: object"
      ]
     },
     "execution_count": 6,
     "metadata": {},
     "output_type": "execute_result"
    }
   ],
   "source": [
    "#단계 1 : 데이터의 첫 번째 행부터 열 번째 행까지의 시공사 코드(apt_code) 리스트를 저장한다.\n",
    "apt_list = df['apt_code']\n",
    "apt_list"
   ]
  },
  {
   "cell_type": "code",
   "execution_count": 8,
   "metadata": {},
   "outputs": [],
   "source": [
    "apt_list = apt_list.to_list()[:10]"
   ]
  },
  {
   "cell_type": "code",
   "execution_count": 9,
   "metadata": {},
   "outputs": [
    {
     "data": {
      "text/plain": [
       "['GEDAE',\n",
       " 'IHEAD',\n",
       " 'FHIBJ',\n",
       " 'JBCIJ',\n",
       " 'EDJCI',\n",
       " 'EHCAD',\n",
       " 'HEBIA',\n",
       " 'HEBIA',\n",
       " 'IIGFI',\n",
       " 'FHIBJ']"
      ]
     },
     "execution_count": 9,
     "metadata": {},
     "output_type": "execute_result"
    }
   ],
   "source": [
    "apt_list"
   ]
  },
  {
   "cell_type": "code",
   "execution_count": 10,
   "metadata": {},
   "outputs": [],
   "source": [
    "#단계 2 : 시공사 코드(apt_code)가 단계 1에서 구한 리스트에 포함되어 있는 데이터를 전부 제거한다.\n",
    "df_sub1 = df.copy()"
   ]
  },
  {
   "cell_type": "code",
   "execution_count": 19,
   "metadata": {},
   "outputs": [],
   "source": [
    "for code in apt_list:\n",
    "    df_sub1 = df_sub1.loc[code!=df_sub1['apt_code']]"
   ]
  },
  {
   "cell_type": "code",
   "execution_count": 20,
   "metadata": {},
   "outputs": [
    {
     "data": {
      "text/html": [
       "<div>\n",
       "<style scoped>\n",
       "    .dataframe tbody tr th:only-of-type {\n",
       "        vertical-align: middle;\n",
       "    }\n",
       "\n",
       "    .dataframe tbody tr th {\n",
       "        vertical-align: top;\n",
       "    }\n",
       "\n",
       "    .dataframe thead th {\n",
       "        text-align: right;\n",
       "    }\n",
       "</style>\n",
       "<table border=\"1\" class=\"dataframe\">\n",
       "  <thead>\n",
       "    <tr style=\"text-align: right;\">\n",
       "      <th></th>\n",
       "      <th>latitude</th>\n",
       "      <th>longitude</th>\n",
       "      <th>price_per_square_py</th>\n",
       "      <th>py</th>\n",
       "      <th>apt_code</th>\n",
       "      <th>dist_from_station</th>\n",
       "    </tr>\n",
       "  </thead>\n",
       "  <tbody>\n",
       "    <tr>\n",
       "      <td>10</td>\n",
       "      <td>37.046400</td>\n",
       "      <td>126.837832</td>\n",
       "      <td>3750.582844</td>\n",
       "      <td>40</td>\n",
       "      <td>GBDGG</td>\n",
       "      <td>1493.140743</td>\n",
       "    </tr>\n",
       "    <tr>\n",
       "      <td>11</td>\n",
       "      <td>37.215855</td>\n",
       "      <td>127.127967</td>\n",
       "      <td>1945.709193</td>\n",
       "      <td>32</td>\n",
       "      <td>HCCBB</td>\n",
       "      <td>989.515201</td>\n",
       "    </tr>\n",
       "    <tr>\n",
       "      <td>12</td>\n",
       "      <td>37.252653</td>\n",
       "      <td>127.107425</td>\n",
       "      <td>2670.280398</td>\n",
       "      <td>32</td>\n",
       "      <td>IDCIC</td>\n",
       "      <td>1802.915110</td>\n",
       "    </tr>\n",
       "    <tr>\n",
       "      <td>13</td>\n",
       "      <td>37.132489</td>\n",
       "      <td>126.784801</td>\n",
       "      <td>2246.292722</td>\n",
       "      <td>40</td>\n",
       "      <td>HCCBB</td>\n",
       "      <td>922.157169</td>\n",
       "    </tr>\n",
       "    <tr>\n",
       "      <td>14</td>\n",
       "      <td>37.270844</td>\n",
       "      <td>127.064936</td>\n",
       "      <td>2423.397245</td>\n",
       "      <td>24</td>\n",
       "      <td>EGFBJ</td>\n",
       "      <td>1491.398873</td>\n",
       "    </tr>\n",
       "    <tr>\n",
       "      <td>...</td>\n",
       "      <td>...</td>\n",
       "      <td>...</td>\n",
       "      <td>...</td>\n",
       "      <td>...</td>\n",
       "      <td>...</td>\n",
       "      <td>...</td>\n",
       "    </tr>\n",
       "    <tr>\n",
       "      <td>770</td>\n",
       "      <td>37.251483</td>\n",
       "      <td>127.073069</td>\n",
       "      <td>2356.504401</td>\n",
       "      <td>63</td>\n",
       "      <td>HHGCB</td>\n",
       "      <td>1416.903407</td>\n",
       "    </tr>\n",
       "    <tr>\n",
       "      <td>771</td>\n",
       "      <td>37.078108</td>\n",
       "      <td>126.723392</td>\n",
       "      <td>1884.239692</td>\n",
       "      <td>24</td>\n",
       "      <td>DEACF</td>\n",
       "      <td>967.757381</td>\n",
       "    </tr>\n",
       "    <tr>\n",
       "      <td>773</td>\n",
       "      <td>37.288945</td>\n",
       "      <td>127.118062</td>\n",
       "      <td>3072.810919</td>\n",
       "      <td>24</td>\n",
       "      <td>GBDGG</td>\n",
       "      <td>1803.257080</td>\n",
       "    </tr>\n",
       "    <tr>\n",
       "      <td>774</td>\n",
       "      <td>37.234408</td>\n",
       "      <td>126.745186</td>\n",
       "      <td>2491.714188</td>\n",
       "      <td>61</td>\n",
       "      <td>EJAIA</td>\n",
       "      <td>1346.821965</td>\n",
       "    </tr>\n",
       "    <tr>\n",
       "      <td>775</td>\n",
       "      <td>37.294494</td>\n",
       "      <td>127.185185</td>\n",
       "      <td>1746.372819</td>\n",
       "      <td>40</td>\n",
       "      <td>EGFBJ</td>\n",
       "      <td>1461.672552</td>\n",
       "    </tr>\n",
       "  </tbody>\n",
       "</table>\n",
       "<p>552 rows × 6 columns</p>\n",
       "</div>"
      ],
      "text/plain": [
       "      latitude   longitude  price_per_square_py  py apt_code  \\\n",
       "10   37.046400  126.837832          3750.582844  40    GBDGG   \n",
       "11   37.215855  127.127967          1945.709193  32    HCCBB   \n",
       "12   37.252653  127.107425          2670.280398  32    IDCIC   \n",
       "13   37.132489  126.784801          2246.292722  40    HCCBB   \n",
       "14   37.270844  127.064936          2423.397245  24    EGFBJ   \n",
       "..         ...         ...                  ...  ..      ...   \n",
       "770  37.251483  127.073069          2356.504401  63    HHGCB   \n",
       "771  37.078108  126.723392          1884.239692  24    DEACF   \n",
       "773  37.288945  127.118062          3072.810919  24    GBDGG   \n",
       "774  37.234408  126.745186          2491.714188  61    EJAIA   \n",
       "775  37.294494  127.185185          1746.372819  40    EGFBJ   \n",
       "\n",
       "     dist_from_station  \n",
       "10         1493.140743  \n",
       "11          989.515201  \n",
       "12         1802.915110  \n",
       "13          922.157169  \n",
       "14         1491.398873  \n",
       "..                 ...  \n",
       "770        1416.903407  \n",
       "771         967.757381  \n",
       "773        1803.257080  \n",
       "774        1346.821965  \n",
       "775        1461.672552  \n",
       "\n",
       "[552 rows x 6 columns]"
      ]
     },
     "execution_count": 20,
     "metadata": {},
     "output_type": "execute_result"
    }
   ],
   "source": [
    "df_sub1"
   ]
  },
  {
   "cell_type": "code",
   "execution_count": 24,
   "metadata": {},
   "outputs": [],
   "source": [
    "list = df_sub1.groupby(['apt_code'])['py'].mean()"
   ]
  },
  {
   "cell_type": "code",
   "execution_count": 32,
   "metadata": {},
   "outputs": [
    {
     "data": {
      "text/plain": [
       "apt_code\n",
       "DBEGD    38.629630\n",
       "HFIAJ    38.000000\n",
       "HHGCB    35.967742\n",
       "ICDIG    35.888889\n",
       "DCJJH    35.857143\n",
       "EJAIA    35.148148\n",
       "IFGCB    35.142857\n",
       "EACGE    35.000000\n",
       "AEEDH    34.941176\n",
       "DAHBD    34.684211\n",
       "IDCIC    34.666667\n",
       "GBDGG    34.640000\n",
       "CDBFE    34.352941\n",
       "JACBH    33.923077\n",
       "GBCBB    33.840000\n",
       "CJCBC    33.761905\n",
       "HCCBB    33.088235\n",
       "AADGJ    33.045455\n",
       "EDEAG    33.000000\n",
       "EGFBJ    32.629630\n",
       "EJEFI    31.708333\n",
       "DEACF    30.918919\n",
       "Name: py, dtype: float64"
      ]
     },
     "execution_count": 32,
     "metadata": {},
     "output_type": "execute_result"
    }
   ],
   "source": [
    "list.sort_values(ascending=False)"
   ]
  },
  {
   "cell_type": "code",
   "execution_count": 34,
   "metadata": {},
   "outputs": [
    {
     "data": {
      "text/plain": [
       "38.63"
      ]
     },
     "execution_count": 34,
     "metadata": {},
     "output_type": "execute_result"
    }
   ],
   "source": [
    "answer = 38.629630\n",
    "answer = round(answer, 3)\n",
    "answer"
   ]
  },
  {
   "cell_type": "code",
   "execution_count": 35,
   "metadata": {},
   "outputs": [],
   "source": [
    "from sklearn.cluster import KMeans\n",
    "from sklearn.metrics import silhouette_score\n",
    "random_state = 229"
   ]
  },
  {
   "cell_type": "code",
   "execution_count": 37,
   "metadata": {},
   "outputs": [
    {
     "data": {
      "text/plain": [
       "Index(['latitude', 'longitude', 'price_per_square_py', 'py', 'apt_code',\n",
       "       'dist_from_station'],\n",
       "      dtype='object')"
      ]
     },
     "execution_count": 37,
     "metadata": {},
     "output_type": "execute_result"
    }
   ],
   "source": [
    "df.columns"
   ]
  },
  {
   "cell_type": "code",
   "execution_count": 40,
   "metadata": {},
   "outputs": [
    {
     "name": "stdout",
     "output_type": "stream",
     "text": [
      "2 0.634635924729853\n",
      "3 0.44885775222425267\n",
      "4 0.4558213655816168\n",
      "5 0.43755753782339263\n",
      "6 0.3629999389627252\n",
      "7 0.36408372786750115\n",
      "8 0.3786501238713389\n",
      "9 0.3966255576781226\n"
     ]
    }
   ],
   "source": [
    "X = df[['latitude', 'longitude', 'price_per_square_py', 'py','dist_from_station']]\n",
    "for k in range(2, 10):\n",
    "    model = KMeans(n_clusters=k, random_state=random_state).fit(X)\n",
    "    score = silhouette_score(X, model.labels_, random_state=random_state)\n",
    "    print(k, score)"
   ]
  },
  {
   "cell_type": "code",
   "execution_count": 41,
   "metadata": {},
   "outputs": [],
   "source": [
    "k = 2\n",
    "model = KMeans(n_clusters=k, random_state=random_state).fit(X)"
   ]
  },
  {
   "cell_type": "code",
   "execution_count": 43,
   "metadata": {},
   "outputs": [
    {
     "data": {
      "text/html": [
       "<div>\n",
       "<style scoped>\n",
       "    .dataframe tbody tr th:only-of-type {\n",
       "        vertical-align: middle;\n",
       "    }\n",
       "\n",
       "    .dataframe tbody tr th {\n",
       "        vertical-align: top;\n",
       "    }\n",
       "\n",
       "    .dataframe thead th {\n",
       "        text-align: right;\n",
       "    }\n",
       "</style>\n",
       "<table border=\"1\" class=\"dataframe\">\n",
       "  <thead>\n",
       "    <tr style=\"text-align: right;\">\n",
       "      <th></th>\n",
       "      <th>latitude</th>\n",
       "      <th>longitude</th>\n",
       "      <th>price_per_square_py</th>\n",
       "      <th>py</th>\n",
       "      <th>apt_code</th>\n",
       "      <th>dist_from_station</th>\n",
       "      <th>label</th>\n",
       "    </tr>\n",
       "  </thead>\n",
       "  <tbody>\n",
       "    <tr>\n",
       "      <td>0</td>\n",
       "      <td>37.125541</td>\n",
       "      <td>126.913776</td>\n",
       "      <td>2860.053787</td>\n",
       "      <td>24</td>\n",
       "      <td>GEDAE</td>\n",
       "      <td>1588.406226</td>\n",
       "      <td>0</td>\n",
       "    </tr>\n",
       "    <tr>\n",
       "      <td>1</td>\n",
       "      <td>37.223169</td>\n",
       "      <td>127.026913</td>\n",
       "      <td>1715.073163</td>\n",
       "      <td>59</td>\n",
       "      <td>IHEAD</td>\n",
       "      <td>986.146800</td>\n",
       "      <td>1</td>\n",
       "    </tr>\n",
       "    <tr>\n",
       "      <td>2</td>\n",
       "      <td>37.239029</td>\n",
       "      <td>126.906303</td>\n",
       "      <td>1780.604630</td>\n",
       "      <td>57</td>\n",
       "      <td>FHIBJ</td>\n",
       "      <td>1492.514512</td>\n",
       "      <td>1</td>\n",
       "    </tr>\n",
       "    <tr>\n",
       "      <td>3</td>\n",
       "      <td>37.274433</td>\n",
       "      <td>126.737771</td>\n",
       "      <td>1508.814336</td>\n",
       "      <td>42</td>\n",
       "      <td>JBCIJ</td>\n",
       "      <td>1621.602866</td>\n",
       "      <td>1</td>\n",
       "    </tr>\n",
       "    <tr>\n",
       "      <td>4</td>\n",
       "      <td>37.082670</td>\n",
       "      <td>127.143634</td>\n",
       "      <td>2933.930488</td>\n",
       "      <td>32</td>\n",
       "      <td>EDJCI</td>\n",
       "      <td>945.034519</td>\n",
       "      <td>0</td>\n",
       "    </tr>\n",
       "    <tr>\n",
       "      <td>...</td>\n",
       "      <td>...</td>\n",
       "      <td>...</td>\n",
       "      <td>...</td>\n",
       "      <td>...</td>\n",
       "      <td>...</td>\n",
       "      <td>...</td>\n",
       "      <td>...</td>\n",
       "    </tr>\n",
       "    <tr>\n",
       "      <td>772</td>\n",
       "      <td>37.161852</td>\n",
       "      <td>126.917406</td>\n",
       "      <td>3564.856667</td>\n",
       "      <td>40</td>\n",
       "      <td>IHEAD</td>\n",
       "      <td>1593.663253</td>\n",
       "      <td>0</td>\n",
       "    </tr>\n",
       "    <tr>\n",
       "      <td>773</td>\n",
       "      <td>37.288945</td>\n",
       "      <td>127.118062</td>\n",
       "      <td>3072.810919</td>\n",
       "      <td>24</td>\n",
       "      <td>GBDGG</td>\n",
       "      <td>1803.257080</td>\n",
       "      <td>0</td>\n",
       "    </tr>\n",
       "    <tr>\n",
       "      <td>774</td>\n",
       "      <td>37.234408</td>\n",
       "      <td>126.745186</td>\n",
       "      <td>2491.714188</td>\n",
       "      <td>61</td>\n",
       "      <td>EJAIA</td>\n",
       "      <td>1346.821965</td>\n",
       "      <td>1</td>\n",
       "    </tr>\n",
       "    <tr>\n",
       "      <td>775</td>\n",
       "      <td>37.294494</td>\n",
       "      <td>127.185185</td>\n",
       "      <td>1746.372819</td>\n",
       "      <td>40</td>\n",
       "      <td>EGFBJ</td>\n",
       "      <td>1461.672552</td>\n",
       "      <td>1</td>\n",
       "    </tr>\n",
       "    <tr>\n",
       "      <td>776</td>\n",
       "      <td>37.004345</td>\n",
       "      <td>127.107611</td>\n",
       "      <td>1667.553347</td>\n",
       "      <td>32</td>\n",
       "      <td>EHCAD</td>\n",
       "      <td>1377.100866</td>\n",
       "      <td>1</td>\n",
       "    </tr>\n",
       "  </tbody>\n",
       "</table>\n",
       "<p>777 rows × 7 columns</p>\n",
       "</div>"
      ],
      "text/plain": [
       "      latitude   longitude  price_per_square_py  py apt_code  \\\n",
       "0    37.125541  126.913776          2860.053787  24    GEDAE   \n",
       "1    37.223169  127.026913          1715.073163  59    IHEAD   \n",
       "2    37.239029  126.906303          1780.604630  57    FHIBJ   \n",
       "3    37.274433  126.737771          1508.814336  42    JBCIJ   \n",
       "4    37.082670  127.143634          2933.930488  32    EDJCI   \n",
       "..         ...         ...                  ...  ..      ...   \n",
       "772  37.161852  126.917406          3564.856667  40    IHEAD   \n",
       "773  37.288945  127.118062          3072.810919  24    GBDGG   \n",
       "774  37.234408  126.745186          2491.714188  61    EJAIA   \n",
       "775  37.294494  127.185185          1746.372819  40    EGFBJ   \n",
       "776  37.004345  127.107611          1667.553347  32    EHCAD   \n",
       "\n",
       "     dist_from_station  label  \n",
       "0          1588.406226      0  \n",
       "1           986.146800      1  \n",
       "2          1492.514512      1  \n",
       "3          1621.602866      1  \n",
       "4           945.034519      0  \n",
       "..                 ...    ...  \n",
       "772        1593.663253      0  \n",
       "773        1803.257080      0  \n",
       "774        1346.821965      1  \n",
       "775        1461.672552      1  \n",
       "776        1377.100866      1  \n",
       "\n",
       "[777 rows x 7 columns]"
      ]
     },
     "execution_count": 43,
     "metadata": {},
     "output_type": "execute_result"
    }
   ],
   "source": [
    "df_sub2 = df.copy()\n",
    "df_sub2['label'] = model.labels_\n",
    "df_sub2"
   ]
  },
  {
   "cell_type": "code",
   "execution_count": 45,
   "metadata": {},
   "outputs": [
    {
     "data": {
      "text/html": [
       "<div>\n",
       "<style scoped>\n",
       "    .dataframe tbody tr th:only-of-type {\n",
       "        vertical-align: middle;\n",
       "    }\n",
       "\n",
       "    .dataframe tbody tr th {\n",
       "        vertical-align: top;\n",
       "    }\n",
       "\n",
       "    .dataframe thead th {\n",
       "        text-align: right;\n",
       "    }\n",
       "</style>\n",
       "<table border=\"1\" class=\"dataframe\">\n",
       "  <thead>\n",
       "    <tr style=\"text-align: right;\">\n",
       "      <th></th>\n",
       "      <th>latitude</th>\n",
       "      <th>longitude</th>\n",
       "      <th>price_per_square_py</th>\n",
       "      <th>py</th>\n",
       "      <th>apt_code</th>\n",
       "      <th>dist_from_station</th>\n",
       "    </tr>\n",
       "    <tr>\n",
       "      <th>label</th>\n",
       "      <th></th>\n",
       "      <th></th>\n",
       "      <th></th>\n",
       "      <th></th>\n",
       "      <th></th>\n",
       "      <th></th>\n",
       "    </tr>\n",
       "  </thead>\n",
       "  <tbody>\n",
       "    <tr>\n",
       "      <td>0</td>\n",
       "      <td>201</td>\n",
       "      <td>201</td>\n",
       "      <td>201</td>\n",
       "      <td>201</td>\n",
       "      <td>201</td>\n",
       "      <td>201</td>\n",
       "    </tr>\n",
       "    <tr>\n",
       "      <td>1</td>\n",
       "      <td>576</td>\n",
       "      <td>576</td>\n",
       "      <td>576</td>\n",
       "      <td>576</td>\n",
       "      <td>576</td>\n",
       "      <td>576</td>\n",
       "    </tr>\n",
       "  </tbody>\n",
       "</table>\n",
       "</div>"
      ],
      "text/plain": [
       "       latitude  longitude  price_per_square_py   py  apt_code  \\\n",
       "label                                                            \n",
       "0           201        201                  201  201       201   \n",
       "1           576        576                  576  576       576   \n",
       "\n",
       "       dist_from_station  \n",
       "label                     \n",
       "0                    201  \n",
       "1                    576  "
      ]
     },
     "execution_count": 45,
     "metadata": {},
     "output_type": "execute_result"
    }
   ],
   "source": [
    "df_sub2.groupby(['label']).count()"
   ]
  },
  {
   "cell_type": "code",
   "execution_count": 47,
   "metadata": {},
   "outputs": [
    {
     "data": {
      "text/plain": [
       "0.7413127413127413"
      ]
     },
     "execution_count": 47,
     "metadata": {},
     "output_type": "execute_result"
    }
   ],
   "source": [
    "answer = (576)/(201+576)\n",
    "answer"
   ]
  },
  {
   "cell_type": "code",
   "execution_count": 49,
   "metadata": {},
   "outputs": [
    {
     "data": {
      "text/plain": [
       "0.74"
      ]
     },
     "execution_count": 49,
     "metadata": {},
     "output_type": "execute_result"
    }
   ],
   "source": [
    "answer = round(answer, 2)\n",
    "answer\n",
    "#################여기서 올림을 했었어야했다!!!!##################"
   ]
  },
  {
   "cell_type": "code",
   "execution_count": 50,
   "metadata": {},
   "outputs": [
    {
     "data": {
      "text/html": [
       "<div>\n",
       "<style scoped>\n",
       "    .dataframe tbody tr th:only-of-type {\n",
       "        vertical-align: middle;\n",
       "    }\n",
       "\n",
       "    .dataframe tbody tr th {\n",
       "        vertical-align: top;\n",
       "    }\n",
       "\n",
       "    .dataframe thead th {\n",
       "        text-align: right;\n",
       "    }\n",
       "</style>\n",
       "<table border=\"1\" class=\"dataframe\">\n",
       "  <thead>\n",
       "    <tr style=\"text-align: right;\">\n",
       "      <th></th>\n",
       "      <th>latitude</th>\n",
       "      <th>longitude</th>\n",
       "      <th>price_per_square_py</th>\n",
       "      <th>py</th>\n",
       "      <th>apt_code</th>\n",
       "      <th>dist_from_station</th>\n",
       "      <th>price</th>\n",
       "    </tr>\n",
       "  </thead>\n",
       "  <tbody>\n",
       "    <tr>\n",
       "      <td>0</td>\n",
       "      <td>37.125541</td>\n",
       "      <td>126.913776</td>\n",
       "      <td>2860.053787</td>\n",
       "      <td>24</td>\n",
       "      <td>GEDAE</td>\n",
       "      <td>1588.406226</td>\n",
       "      <td>68641.290895</td>\n",
       "    </tr>\n",
       "    <tr>\n",
       "      <td>1</td>\n",
       "      <td>37.223169</td>\n",
       "      <td>127.026913</td>\n",
       "      <td>1715.073163</td>\n",
       "      <td>59</td>\n",
       "      <td>IHEAD</td>\n",
       "      <td>986.146800</td>\n",
       "      <td>101189.316628</td>\n",
       "    </tr>\n",
       "    <tr>\n",
       "      <td>2</td>\n",
       "      <td>37.239029</td>\n",
       "      <td>126.906303</td>\n",
       "      <td>1780.604630</td>\n",
       "      <td>57</td>\n",
       "      <td>FHIBJ</td>\n",
       "      <td>1492.514512</td>\n",
       "      <td>101494.463921</td>\n",
       "    </tr>\n",
       "    <tr>\n",
       "      <td>3</td>\n",
       "      <td>37.274433</td>\n",
       "      <td>126.737771</td>\n",
       "      <td>1508.814336</td>\n",
       "      <td>42</td>\n",
       "      <td>JBCIJ</td>\n",
       "      <td>1621.602866</td>\n",
       "      <td>63370.202096</td>\n",
       "    </tr>\n",
       "    <tr>\n",
       "      <td>4</td>\n",
       "      <td>37.082670</td>\n",
       "      <td>127.143634</td>\n",
       "      <td>2933.930488</td>\n",
       "      <td>32</td>\n",
       "      <td>EDJCI</td>\n",
       "      <td>945.034519</td>\n",
       "      <td>93885.775621</td>\n",
       "    </tr>\n",
       "    <tr>\n",
       "      <td>...</td>\n",
       "      <td>...</td>\n",
       "      <td>...</td>\n",
       "      <td>...</td>\n",
       "      <td>...</td>\n",
       "      <td>...</td>\n",
       "      <td>...</td>\n",
       "      <td>...</td>\n",
       "    </tr>\n",
       "    <tr>\n",
       "      <td>772</td>\n",
       "      <td>37.161852</td>\n",
       "      <td>126.917406</td>\n",
       "      <td>3564.856667</td>\n",
       "      <td>40</td>\n",
       "      <td>IHEAD</td>\n",
       "      <td>1593.663253</td>\n",
       "      <td>142594.266660</td>\n",
       "    </tr>\n",
       "    <tr>\n",
       "      <td>773</td>\n",
       "      <td>37.288945</td>\n",
       "      <td>127.118062</td>\n",
       "      <td>3072.810919</td>\n",
       "      <td>24</td>\n",
       "      <td>GBDGG</td>\n",
       "      <td>1803.257080</td>\n",
       "      <td>73747.462061</td>\n",
       "    </tr>\n",
       "    <tr>\n",
       "      <td>774</td>\n",
       "      <td>37.234408</td>\n",
       "      <td>126.745186</td>\n",
       "      <td>2491.714188</td>\n",
       "      <td>61</td>\n",
       "      <td>EJAIA</td>\n",
       "      <td>1346.821965</td>\n",
       "      <td>151994.565484</td>\n",
       "    </tr>\n",
       "    <tr>\n",
       "      <td>775</td>\n",
       "      <td>37.294494</td>\n",
       "      <td>127.185185</td>\n",
       "      <td>1746.372819</td>\n",
       "      <td>40</td>\n",
       "      <td>EGFBJ</td>\n",
       "      <td>1461.672552</td>\n",
       "      <td>69854.912763</td>\n",
       "    </tr>\n",
       "    <tr>\n",
       "      <td>776</td>\n",
       "      <td>37.004345</td>\n",
       "      <td>127.107611</td>\n",
       "      <td>1667.553347</td>\n",
       "      <td>32</td>\n",
       "      <td>EHCAD</td>\n",
       "      <td>1377.100866</td>\n",
       "      <td>53361.707088</td>\n",
       "    </tr>\n",
       "  </tbody>\n",
       "</table>\n",
       "<p>777 rows × 7 columns</p>\n",
       "</div>"
      ],
      "text/plain": [
       "      latitude   longitude  price_per_square_py  py apt_code  \\\n",
       "0    37.125541  126.913776          2860.053787  24    GEDAE   \n",
       "1    37.223169  127.026913          1715.073163  59    IHEAD   \n",
       "2    37.239029  126.906303          1780.604630  57    FHIBJ   \n",
       "3    37.274433  126.737771          1508.814336  42    JBCIJ   \n",
       "4    37.082670  127.143634          2933.930488  32    EDJCI   \n",
       "..         ...         ...                  ...  ..      ...   \n",
       "772  37.161852  126.917406          3564.856667  40    IHEAD   \n",
       "773  37.288945  127.118062          3072.810919  24    GBDGG   \n",
       "774  37.234408  126.745186          2491.714188  61    EJAIA   \n",
       "775  37.294494  127.185185          1746.372819  40    EGFBJ   \n",
       "776  37.004345  127.107611          1667.553347  32    EHCAD   \n",
       "\n",
       "     dist_from_station          price  \n",
       "0          1588.406226   68641.290895  \n",
       "1           986.146800  101189.316628  \n",
       "2          1492.514512  101494.463921  \n",
       "3          1621.602866   63370.202096  \n",
       "4           945.034519   93885.775621  \n",
       "..                 ...            ...  \n",
       "772        1593.663253  142594.266660  \n",
       "773        1803.257080   73747.462061  \n",
       "774        1346.821965  151994.565484  \n",
       "775        1461.672552   69854.912763  \n",
       "776        1377.100866   53361.707088  \n",
       "\n",
       "[777 rows x 7 columns]"
      ]
     },
     "execution_count": 50,
     "metadata": {},
     "output_type": "execute_result"
    }
   ],
   "source": [
    "df_sub3 = df.copy()\n",
    "df_sub3['price'] = df_sub3['price_per_square_py'] * df_sub3['py']\n",
    "df_sub3"
   ]
  },
  {
   "cell_type": "code",
   "execution_count": 52,
   "metadata": {},
   "outputs": [],
   "source": [
    "from sklearn.linear_model import LinearRegression\n",
    "from sklearn.model_selection import train_test_split\n",
    "random_state = 229"
   ]
  },
  {
   "cell_type": "code",
   "execution_count": 54,
   "metadata": {},
   "outputs": [],
   "source": [
    "train_set, test_set = train_test_split(df_sub3, test_size = 2/30, random_state=random_state, )"
   ]
  },
  {
   "cell_type": "code",
   "execution_count": 58,
   "metadata": {},
   "outputs": [
    {
     "data": {
      "text/plain": [
       "(725, 7)"
      ]
     },
     "execution_count": 58,
     "metadata": {},
     "output_type": "execute_result"
    }
   ],
   "source": [
    "train_set.shape"
   ]
  },
  {
   "cell_type": "code",
   "execution_count": 59,
   "metadata": {},
   "outputs": [
    {
     "data": {
      "text/plain": [
       "(52, 7)"
      ]
     },
     "execution_count": 59,
     "metadata": {},
     "output_type": "execute_result"
    }
   ],
   "source": [
    "test_set.shape"
   ]
  },
  {
   "cell_type": "code",
   "execution_count": 60,
   "metadata": {},
   "outputs": [],
   "source": [
    "#3 Train Set으로 LinearRegression 모델을 학습하고, Test Set에 적용한다. \n",
    "#이 때, 절편을 포함한 경우와 포함하지 않은 경우 각각에 대하여 수행한다."
   ]
  },
  {
   "cell_type": "code",
   "execution_count": 61,
   "metadata": {},
   "outputs": [],
   "source": [
    "X = train_set[['latitude', 'longitude', 'price_per_square_py', 'py','dist_from_station']]\n",
    "y = train_set['price']"
   ]
  },
  {
   "cell_type": "code",
   "execution_count": 62,
   "metadata": {},
   "outputs": [
    {
     "data": {
      "text/plain": [
       "0.953888849310125"
      ]
     },
     "execution_count": 62,
     "metadata": {},
     "output_type": "execute_result"
    }
   ],
   "source": [
    "model_intercept = LinearRegression(fit_intercept=True).fit(X, y)\n",
    "model_intercept.score(X, y)"
   ]
  },
  {
   "cell_type": "code",
   "execution_count": 63,
   "metadata": {},
   "outputs": [
    {
     "data": {
      "text/plain": [
       "0.9538655974727891"
      ]
     },
     "execution_count": 63,
     "metadata": {},
     "output_type": "execute_result"
    }
   ],
   "source": [
    "model_no_intercept = LinearRegression(fit_intercept=False).fit(X, y)\n",
    "model_no_intercept.score(X, y)"
   ]
  },
  {
   "cell_type": "code",
   "execution_count": 64,
   "metadata": {},
   "outputs": [],
   "source": [
    "test_X = test_set[['latitude', 'longitude', 'price_per_square_py', 'py','dist_from_station']]\n",
    "test_y = test_set['price']"
   ]
  },
  {
   "cell_type": "code",
   "execution_count": 65,
   "metadata": {},
   "outputs": [
    {
     "data": {
      "text/plain": [
       "0.9689589651349585"
      ]
     },
     "execution_count": 65,
     "metadata": {},
     "output_type": "execute_result"
    }
   ],
   "source": [
    "model_intercept.score(test_X, test_y)"
   ]
  },
  {
   "cell_type": "code",
   "execution_count": 66,
   "metadata": {},
   "outputs": [
    {
     "data": {
      "text/plain": [
       "0.9689584320861551"
      ]
     },
     "execution_count": 66,
     "metadata": {},
     "output_type": "execute_result"
    }
   ],
   "source": [
    "model_no_intercept.score(test_X, test_y)"
   ]
  },
  {
   "cell_type": "code",
   "execution_count": 67,
   "metadata": {},
   "outputs": [],
   "source": [
    "answer = max(0.9689589651349585, 0.9689584320861551)"
   ]
  },
  {
   "cell_type": "code",
   "execution_count": 68,
   "metadata": {},
   "outputs": [],
   "source": [
    "answer = round(answer, 2)"
   ]
  },
  {
   "cell_type": "code",
   "execution_count": 69,
   "metadata": {},
   "outputs": [
    {
     "data": {
      "text/plain": [
       "0.97"
      ]
     },
     "execution_count": 69,
     "metadata": {},
     "output_type": "execute_result"
    }
   ],
   "source": [
    "answer"
   ]
  },
  {
   "cell_type": "code",
   "execution_count": 71,
   "metadata": {},
   "outputs": [],
   "source": [
    "pred_intercept = model_intercept.predict(test_X)"
   ]
  },
  {
   "cell_type": "code",
   "execution_count": 72,
   "metadata": {},
   "outputs": [],
   "source": [
    "M_intercept = ((test_y - pred_intercept)**2).mean()"
   ]
  },
  {
   "cell_type": "code",
   "execution_count": 73,
   "metadata": {},
   "outputs": [
    {
     "data": {
      "text/plain": [
       "19007139.27685827"
      ]
     },
     "execution_count": 73,
     "metadata": {},
     "output_type": "execute_result"
    }
   ],
   "source": [
    "M_intercept"
   ]
  },
  {
   "cell_type": "code",
   "execution_count": 74,
   "metadata": {},
   "outputs": [
    {
     "data": {
      "text/plain": [
       "19007465.674895316"
      ]
     },
     "execution_count": 74,
     "metadata": {},
     "output_type": "execute_result"
    }
   ],
   "source": [
    "pred_no_intercept = model_no_intercept.predict(test_X)\n",
    "M_no_intercept = ((test_y - pred_no_intercept)**2).mean()\n",
    "M_no_intercept"
   ]
  },
  {
   "cell_type": "code",
   "execution_count": 75,
   "metadata": {},
   "outputs": [
    {
     "data": {
      "text/plain": [
       "19007465.67"
      ]
     },
     "execution_count": 75,
     "metadata": {},
     "output_type": "execute_result"
    }
   ],
   "source": [
    "answer = max(M_intercept, M_no_intercept)\n",
    "answer = round(answer, 2)\n",
    "answer"
   ]
  },
  {
   "cell_type": "code",
   "execution_count": null,
   "metadata": {},
   "outputs": [],
   "source": []
  }
 ],
 "metadata": {
  "kernelspec": {
   "display_name": "Python 3",
   "language": "python",
   "name": "python3"
  },
  "language_info": {
   "codemirror_mode": {
    "name": "ipython",
    "version": 3
   },
   "file_extension": ".py",
   "mimetype": "text/x-python",
   "name": "python",
   "nbconvert_exporter": "python",
   "pygments_lexer": "ipython3",
   "version": "3.7.4"
  }
 },
 "nbformat": 4,
 "nbformat_minor": 2
}
