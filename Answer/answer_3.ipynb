{
 "cells": [
  {
   "cell_type": "code",
   "execution_count": 1,
   "metadata": {},
   "outputs": [],
   "source": [
    "import numpy as np\n",
    "import pandas as pd"
   ]
  },
  {
   "cell_type": "code",
   "execution_count": 2,
   "metadata": {},
   "outputs": [
    {
     "data": {
      "text/html": [
       "<div>\n",
       "<style scoped>\n",
       "    .dataframe tbody tr th:only-of-type {\n",
       "        vertical-align: middle;\n",
       "    }\n",
       "\n",
       "    .dataframe tbody tr th {\n",
       "        vertical-align: top;\n",
       "    }\n",
       "\n",
       "    .dataframe thead th {\n",
       "        text-align: right;\n",
       "    }\n",
       "</style>\n",
       "<table border=\"1\" class=\"dataframe\">\n",
       "  <thead>\n",
       "    <tr style=\"text-align: right;\">\n",
       "      <th></th>\n",
       "      <th>latitude</th>\n",
       "      <th>longitude</th>\n",
       "      <th>price_per_square_py</th>\n",
       "      <th>py</th>\n",
       "      <th>apt_code</th>\n",
       "      <th>dist_from_station</th>\n",
       "    </tr>\n",
       "  </thead>\n",
       "  <tbody>\n",
       "    <tr>\n",
       "      <td>0</td>\n",
       "      <td>37.125541</td>\n",
       "      <td>126.913776</td>\n",
       "      <td>2860.053787</td>\n",
       "      <td>24</td>\n",
       "      <td>GEDAE</td>\n",
       "      <td>1588.406226</td>\n",
       "    </tr>\n",
       "    <tr>\n",
       "      <td>1</td>\n",
       "      <td>37.223169</td>\n",
       "      <td>127.026913</td>\n",
       "      <td>1715.073163</td>\n",
       "      <td>59</td>\n",
       "      <td>IHEAD</td>\n",
       "      <td>986.146800</td>\n",
       "    </tr>\n",
       "    <tr>\n",
       "      <td>2</td>\n",
       "      <td>37.239029</td>\n",
       "      <td>126.906303</td>\n",
       "      <td>1780.604630</td>\n",
       "      <td>57</td>\n",
       "      <td>FHIBJ</td>\n",
       "      <td>1492.514512</td>\n",
       "    </tr>\n",
       "    <tr>\n",
       "      <td>3</td>\n",
       "      <td>37.274433</td>\n",
       "      <td>126.737771</td>\n",
       "      <td>1508.814336</td>\n",
       "      <td>42</td>\n",
       "      <td>JBCIJ</td>\n",
       "      <td>1621.602866</td>\n",
       "    </tr>\n",
       "    <tr>\n",
       "      <td>4</td>\n",
       "      <td>37.082670</td>\n",
       "      <td>127.143634</td>\n",
       "      <td>2933.930488</td>\n",
       "      <td>32</td>\n",
       "      <td>EDJCI</td>\n",
       "      <td>945.034519</td>\n",
       "    </tr>\n",
       "  </tbody>\n",
       "</table>\n",
       "</div>"
      ],
      "text/plain": [
       "    latitude   longitude  price_per_square_py  py apt_code  dist_from_station\n",
       "0  37.125541  126.913776          2860.053787  24    GEDAE        1588.406226\n",
       "1  37.223169  127.026913          1715.073163  59    IHEAD         986.146800\n",
       "2  37.239029  126.906303          1780.604630  57    FHIBJ        1492.514512\n",
       "3  37.274433  126.737771          1508.814336  42    JBCIJ        1621.602866\n",
       "4  37.082670  127.143634          2933.930488  32    EDJCI         945.034519"
      ]
     },
     "execution_count": 2,
     "metadata": {},
     "output_type": "execute_result"
    }
   ],
   "source": [
    "df = pd.read_csv(\"../Dataset/real_estate.csv\")\n",
    "df.head()"
   ]
  },
  {
   "cell_type": "code",
   "execution_count": 3,
   "metadata": {},
   "outputs": [
    {
     "data": {
      "text/plain": [
       "latitude               float64\n",
       "longitude              float64\n",
       "price_per_square_py    float64\n",
       "py                       int64\n",
       "apt_code                object\n",
       "dist_from_station      float64\n",
       "dtype: object"
      ]
     },
     "execution_count": 3,
     "metadata": {},
     "output_type": "execute_result"
    }
   ],
   "source": [
    "df.dtypes"
   ]
  },
  {
   "cell_type": "code",
   "execution_count": 4,
   "metadata": {},
   "outputs": [
    {
     "data": {
      "text/plain": [
       "(777, 6)"
      ]
     },
     "execution_count": 4,
     "metadata": {},
     "output_type": "execute_result"
    }
   ],
   "source": [
    "df.shape"
   ]
  },
  {
   "cell_type": "markdown",
   "metadata": {},
   "source": [
    "\n",
    "Q1. 시공사별 아파트 평수의 평균을 구하려고 한다. 다음 단계에 따라 분석을 수행하고 질문에 답하시오.\n",
    "단계 1 : 데이터의 첫 번째 행부터 열 번째 행까지의 시공사 코드(apt_code) 리스트를 저장한다. 첫 번째 행의 데이터는 위도, 경도, 평당가, 평수, 시공사 코드, 인근 지하철역과의 거리가 각각 37.125541, 126.913776, 2860.053787, 24, GEDAE, 1588.406226이다.\n",
    "단계 2 : 시공사 코드(apt_code)가 단계 1에서 구한 리스트에 포함되어 있는 데이터를 전부 제거한다.\n",
    "단계 3 : 시공사 코드(apt_code)별 평수 평균을 구하고 그 중 가장 큰 값을 구하시오\n",
    "\n",
    "※ 정답은 반올림하여 소수점 둘째 자리까지 출력하시오. (정답 예시: 2.29)"
   ]
  },
  {
   "cell_type": "code",
   "execution_count": 6,
   "metadata": {},
   "outputs": [
    {
     "data": {
      "text/plain": [
       "0    GEDAE\n",
       "1    IHEAD\n",
       "2    FHIBJ\n",
       "3    JBCIJ\n",
       "4    EDJCI\n",
       "5    EHCAD\n",
       "6    HEBIA\n",
       "7    HEBIA\n",
       "8    IIGFI\n",
       "9    FHIBJ\n",
       "Name: apt_code, dtype: object"
      ]
     },
     "execution_count": 6,
     "metadata": {},
     "output_type": "execute_result"
    }
   ],
   "source": [
    "df.loc[:9, 'apt_code']"
   ]
  },
  {
   "cell_type": "code",
   "execution_count": 7,
   "metadata": {},
   "outputs": [
    {
     "data": {
      "text/html": [
       "<div>\n",
       "<style scoped>\n",
       "    .dataframe tbody tr th:only-of-type {\n",
       "        vertical-align: middle;\n",
       "    }\n",
       "\n",
       "    .dataframe tbody tr th {\n",
       "        vertical-align: top;\n",
       "    }\n",
       "\n",
       "    .dataframe thead th {\n",
       "        text-align: right;\n",
       "    }\n",
       "</style>\n",
       "<table border=\"1\" class=\"dataframe\">\n",
       "  <thead>\n",
       "    <tr style=\"text-align: right;\">\n",
       "      <th></th>\n",
       "      <th>latitude</th>\n",
       "      <th>longitude</th>\n",
       "      <th>price_per_square_py</th>\n",
       "      <th>py</th>\n",
       "      <th>apt_code</th>\n",
       "      <th>dist_from_station</th>\n",
       "    </tr>\n",
       "  </thead>\n",
       "  <tbody>\n",
       "    <tr>\n",
       "      <td>0</td>\n",
       "      <td>37.125541</td>\n",
       "      <td>126.913776</td>\n",
       "      <td>2860.053787</td>\n",
       "      <td>24</td>\n",
       "      <td>GEDAE</td>\n",
       "      <td>1588.406226</td>\n",
       "    </tr>\n",
       "    <tr>\n",
       "      <td>1</td>\n",
       "      <td>37.223169</td>\n",
       "      <td>127.026913</td>\n",
       "      <td>1715.073163</td>\n",
       "      <td>59</td>\n",
       "      <td>IHEAD</td>\n",
       "      <td>986.146800</td>\n",
       "    </tr>\n",
       "    <tr>\n",
       "      <td>2</td>\n",
       "      <td>37.239029</td>\n",
       "      <td>126.906303</td>\n",
       "      <td>1780.604630</td>\n",
       "      <td>57</td>\n",
       "      <td>FHIBJ</td>\n",
       "      <td>1492.514512</td>\n",
       "    </tr>\n",
       "    <tr>\n",
       "      <td>3</td>\n",
       "      <td>37.274433</td>\n",
       "      <td>126.737771</td>\n",
       "      <td>1508.814336</td>\n",
       "      <td>42</td>\n",
       "      <td>JBCIJ</td>\n",
       "      <td>1621.602866</td>\n",
       "    </tr>\n",
       "    <tr>\n",
       "      <td>4</td>\n",
       "      <td>37.082670</td>\n",
       "      <td>127.143634</td>\n",
       "      <td>2933.930488</td>\n",
       "      <td>32</td>\n",
       "      <td>EDJCI</td>\n",
       "      <td>945.034519</td>\n",
       "    </tr>\n",
       "  </tbody>\n",
       "</table>\n",
       "</div>"
      ],
      "text/plain": [
       "    latitude   longitude  price_per_square_py  py apt_code  dist_from_station\n",
       "0  37.125541  126.913776          2860.053787  24    GEDAE        1588.406226\n",
       "1  37.223169  127.026913          1715.073163  59    IHEAD         986.146800\n",
       "2  37.239029  126.906303          1780.604630  57    FHIBJ        1492.514512\n",
       "3  37.274433  126.737771          1508.814336  42    JBCIJ        1621.602866\n",
       "4  37.082670  127.143634          2933.930488  32    EDJCI         945.034519"
      ]
     },
     "execution_count": 7,
     "metadata": {},
     "output_type": "execute_result"
    }
   ],
   "source": [
    "df.head()"
   ]
  },
  {
   "cell_type": "code",
   "execution_count": 12,
   "metadata": {},
   "outputs": [
    {
     "data": {
      "text/plain": [
       "['GEDAE',\n",
       " 'IHEAD',\n",
       " 'FHIBJ',\n",
       " 'JBCIJ',\n",
       " 'EDJCI',\n",
       " 'EHCAD',\n",
       " 'HEBIA',\n",
       " 'HEBIA',\n",
       " 'IIGFI',\n",
       " 'FHIBJ']"
      ]
     },
     "execution_count": 12,
     "metadata": {},
     "output_type": "execute_result"
    }
   ],
   "source": [
    "apt_codes = df['apt_code'][:10].to_list()\n",
    "apt_codes"
   ]
  },
  {
   "cell_type": "code",
   "execution_count": 14,
   "metadata": {},
   "outputs": [
    {
     "data": {
      "text/html": [
       "<div>\n",
       "<style scoped>\n",
       "    .dataframe tbody tr th:only-of-type {\n",
       "        vertical-align: middle;\n",
       "    }\n",
       "\n",
       "    .dataframe tbody tr th {\n",
       "        vertical-align: top;\n",
       "    }\n",
       "\n",
       "    .dataframe thead th {\n",
       "        text-align: right;\n",
       "    }\n",
       "</style>\n",
       "<table border=\"1\" class=\"dataframe\">\n",
       "  <thead>\n",
       "    <tr style=\"text-align: right;\">\n",
       "      <th></th>\n",
       "      <th>latitude</th>\n",
       "      <th>longitude</th>\n",
       "      <th>price_per_square_py</th>\n",
       "      <th>py</th>\n",
       "      <th>apt_code</th>\n",
       "      <th>dist_from_station</th>\n",
       "    </tr>\n",
       "  </thead>\n",
       "  <tbody>\n",
       "    <tr>\n",
       "      <td>1</td>\n",
       "      <td>37.223169</td>\n",
       "      <td>127.026913</td>\n",
       "      <td>1715.073163</td>\n",
       "      <td>59</td>\n",
       "      <td>IHEAD</td>\n",
       "      <td>986.146800</td>\n",
       "    </tr>\n",
       "    <tr>\n",
       "      <td>2</td>\n",
       "      <td>37.239029</td>\n",
       "      <td>126.906303</td>\n",
       "      <td>1780.604630</td>\n",
       "      <td>57</td>\n",
       "      <td>FHIBJ</td>\n",
       "      <td>1492.514512</td>\n",
       "    </tr>\n",
       "    <tr>\n",
       "      <td>3</td>\n",
       "      <td>37.274433</td>\n",
       "      <td>126.737771</td>\n",
       "      <td>1508.814336</td>\n",
       "      <td>42</td>\n",
       "      <td>JBCIJ</td>\n",
       "      <td>1621.602866</td>\n",
       "    </tr>\n",
       "    <tr>\n",
       "      <td>4</td>\n",
       "      <td>37.082670</td>\n",
       "      <td>127.143634</td>\n",
       "      <td>2933.930488</td>\n",
       "      <td>32</td>\n",
       "      <td>EDJCI</td>\n",
       "      <td>945.034519</td>\n",
       "    </tr>\n",
       "    <tr>\n",
       "      <td>5</td>\n",
       "      <td>37.295509</td>\n",
       "      <td>126.825066</td>\n",
       "      <td>1698.052341</td>\n",
       "      <td>32</td>\n",
       "      <td>EHCAD</td>\n",
       "      <td>1565.151207</td>\n",
       "    </tr>\n",
       "    <tr>\n",
       "      <td>...</td>\n",
       "      <td>...</td>\n",
       "      <td>...</td>\n",
       "      <td>...</td>\n",
       "      <td>...</td>\n",
       "      <td>...</td>\n",
       "      <td>...</td>\n",
       "    </tr>\n",
       "    <tr>\n",
       "      <td>772</td>\n",
       "      <td>37.161852</td>\n",
       "      <td>126.917406</td>\n",
       "      <td>3564.856667</td>\n",
       "      <td>40</td>\n",
       "      <td>IHEAD</td>\n",
       "      <td>1593.663253</td>\n",
       "    </tr>\n",
       "    <tr>\n",
       "      <td>773</td>\n",
       "      <td>37.288945</td>\n",
       "      <td>127.118062</td>\n",
       "      <td>3072.810919</td>\n",
       "      <td>24</td>\n",
       "      <td>GBDGG</td>\n",
       "      <td>1803.257080</td>\n",
       "    </tr>\n",
       "    <tr>\n",
       "      <td>774</td>\n",
       "      <td>37.234408</td>\n",
       "      <td>126.745186</td>\n",
       "      <td>2491.714188</td>\n",
       "      <td>61</td>\n",
       "      <td>EJAIA</td>\n",
       "      <td>1346.821965</td>\n",
       "    </tr>\n",
       "    <tr>\n",
       "      <td>775</td>\n",
       "      <td>37.294494</td>\n",
       "      <td>127.185185</td>\n",
       "      <td>1746.372819</td>\n",
       "      <td>40</td>\n",
       "      <td>EGFBJ</td>\n",
       "      <td>1461.672552</td>\n",
       "    </tr>\n",
       "    <tr>\n",
       "      <td>776</td>\n",
       "      <td>37.004345</td>\n",
       "      <td>127.107611</td>\n",
       "      <td>1667.553347</td>\n",
       "      <td>32</td>\n",
       "      <td>EHCAD</td>\n",
       "      <td>1377.100866</td>\n",
       "    </tr>\n",
       "  </tbody>\n",
       "</table>\n",
       "<p>737 rows × 6 columns</p>\n",
       "</div>"
      ],
      "text/plain": [
       "      latitude   longitude  price_per_square_py  py apt_code  \\\n",
       "1    37.223169  127.026913          1715.073163  59    IHEAD   \n",
       "2    37.239029  126.906303          1780.604630  57    FHIBJ   \n",
       "3    37.274433  126.737771          1508.814336  42    JBCIJ   \n",
       "4    37.082670  127.143634          2933.930488  32    EDJCI   \n",
       "5    37.295509  126.825066          1698.052341  32    EHCAD   \n",
       "..         ...         ...                  ...  ..      ...   \n",
       "772  37.161852  126.917406          3564.856667  40    IHEAD   \n",
       "773  37.288945  127.118062          3072.810919  24    GBDGG   \n",
       "774  37.234408  126.745186          2491.714188  61    EJAIA   \n",
       "775  37.294494  127.185185          1746.372819  40    EGFBJ   \n",
       "776  37.004345  127.107611          1667.553347  32    EHCAD   \n",
       "\n",
       "     dist_from_station  \n",
       "1           986.146800  \n",
       "2          1492.514512  \n",
       "3          1621.602866  \n",
       "4           945.034519  \n",
       "5          1565.151207  \n",
       "..                 ...  \n",
       "772        1593.663253  \n",
       "773        1803.257080  \n",
       "774        1346.821965  \n",
       "775        1461.672552  \n",
       "776        1377.100866  \n",
       "\n",
       "[737 rows x 6 columns]"
      ]
     },
     "execution_count": 14,
     "metadata": {},
     "output_type": "execute_result"
    }
   ],
   "source": [
    "df_sub1 = df.copy()\n",
    "df_sub1.loc[df_sub1['apt_code'].str.contains(\"GEDAE\")==False]"
   ]
  },
  {
   "cell_type": "code",
   "execution_count": 15,
   "metadata": {},
   "outputs": [
    {
     "data": {
      "text/html": [
       "<div>\n",
       "<style scoped>\n",
       "    .dataframe tbody tr th:only-of-type {\n",
       "        vertical-align: middle;\n",
       "    }\n",
       "\n",
       "    .dataframe tbody tr th {\n",
       "        vertical-align: top;\n",
       "    }\n",
       "\n",
       "    .dataframe thead th {\n",
       "        text-align: right;\n",
       "    }\n",
       "</style>\n",
       "<table border=\"1\" class=\"dataframe\">\n",
       "  <thead>\n",
       "    <tr style=\"text-align: right;\">\n",
       "      <th></th>\n",
       "      <th>latitude</th>\n",
       "      <th>longitude</th>\n",
       "      <th>price_per_square_py</th>\n",
       "      <th>py</th>\n",
       "      <th>apt_code</th>\n",
       "      <th>dist_from_station</th>\n",
       "    </tr>\n",
       "  </thead>\n",
       "  <tbody>\n",
       "    <tr>\n",
       "      <td>10</td>\n",
       "      <td>37.046400</td>\n",
       "      <td>126.837832</td>\n",
       "      <td>3750.582844</td>\n",
       "      <td>40</td>\n",
       "      <td>GBDGG</td>\n",
       "      <td>1493.140743</td>\n",
       "    </tr>\n",
       "    <tr>\n",
       "      <td>11</td>\n",
       "      <td>37.215855</td>\n",
       "      <td>127.127967</td>\n",
       "      <td>1945.709193</td>\n",
       "      <td>32</td>\n",
       "      <td>HCCBB</td>\n",
       "      <td>989.515201</td>\n",
       "    </tr>\n",
       "    <tr>\n",
       "      <td>12</td>\n",
       "      <td>37.252653</td>\n",
       "      <td>127.107425</td>\n",
       "      <td>2670.280398</td>\n",
       "      <td>32</td>\n",
       "      <td>IDCIC</td>\n",
       "      <td>1802.915110</td>\n",
       "    </tr>\n",
       "    <tr>\n",
       "      <td>13</td>\n",
       "      <td>37.132489</td>\n",
       "      <td>126.784801</td>\n",
       "      <td>2246.292722</td>\n",
       "      <td>40</td>\n",
       "      <td>HCCBB</td>\n",
       "      <td>922.157169</td>\n",
       "    </tr>\n",
       "    <tr>\n",
       "      <td>14</td>\n",
       "      <td>37.270844</td>\n",
       "      <td>127.064936</td>\n",
       "      <td>2423.397245</td>\n",
       "      <td>24</td>\n",
       "      <td>EGFBJ</td>\n",
       "      <td>1491.398873</td>\n",
       "    </tr>\n",
       "  </tbody>\n",
       "</table>\n",
       "</div>"
      ],
      "text/plain": [
       "     latitude   longitude  price_per_square_py  py apt_code  dist_from_station\n",
       "10  37.046400  126.837832          3750.582844  40    GBDGG        1493.140743\n",
       "11  37.215855  127.127967          1945.709193  32    HCCBB         989.515201\n",
       "12  37.252653  127.107425          2670.280398  32    IDCIC        1802.915110\n",
       "13  37.132489  126.784801          2246.292722  40    HCCBB         922.157169\n",
       "14  37.270844  127.064936          2423.397245  24    EGFBJ        1491.398873"
      ]
     },
     "execution_count": 15,
     "metadata": {},
     "output_type": "execute_result"
    }
   ],
   "source": [
    "for code in apt_codes:\n",
    "    df_sub1 = df_sub1.loc[df_sub1['apt_code'].str.contains(code)==False]\n",
    "df_sub1.head()"
   ]
  },
  {
   "cell_type": "code",
   "execution_count": 16,
   "metadata": {},
   "outputs": [
    {
     "data": {
      "text/plain": [
       "(552, 6)"
      ]
     },
     "execution_count": 16,
     "metadata": {},
     "output_type": "execute_result"
    }
   ],
   "source": [
    "df_sub1.shape"
   ]
  },
  {
   "cell_type": "code",
   "execution_count": 18,
   "metadata": {},
   "outputs": [
    {
     "data": {
      "text/plain": [
       "apt_code\n",
       "DEACF    30.918919\n",
       "EJEFI    31.708333\n",
       "EGFBJ    32.629630\n",
       "EDEAG    33.000000\n",
       "AADGJ    33.045455\n",
       "HCCBB    33.088235\n",
       "CJCBC    33.761905\n",
       "GBCBB    33.840000\n",
       "JACBH    33.923077\n",
       "CDBFE    34.352941\n",
       "GBDGG    34.640000\n",
       "IDCIC    34.666667\n",
       "DAHBD    34.684211\n",
       "AEEDH    34.941176\n",
       "EACGE    35.000000\n",
       "IFGCB    35.142857\n",
       "EJAIA    35.148148\n",
       "DCJJH    35.857143\n",
       "ICDIG    35.888889\n",
       "HHGCB    35.967742\n",
       "HFIAJ    38.000000\n",
       "DBEGD    38.629630\n",
       "Name: py, dtype: float64"
      ]
     },
     "execution_count": 18,
     "metadata": {},
     "output_type": "execute_result"
    }
   ],
   "source": [
    "df_sub1.groupby('apt_code')['py'].mean().sort_values()"
   ]
  },
  {
   "cell_type": "code",
   "execution_count": 19,
   "metadata": {},
   "outputs": [
    {
     "name": "stdout",
     "output_type": "stream",
     "text": [
      "38.63\n"
     ]
    }
   ],
   "source": [
    "answer = 38.629630\n",
    "answer = round(answer, 2)\n",
    "print(answer)"
   ]
  },
  {
   "cell_type": "markdown",
   "metadata": {},
   "source": [
    "Q2. 아파트 매물을 분석하기 위해 군집화를 하려고 한다. 다음 단계에 따라 분석을 수행하고 질문에 답하시오.\n",
    "단계 1 : 독립 변수들에 대해 K-means 군집 분석을 수행한다. 이 때, 군집 수는 2~9개 중 K-means Silhouette 를 통해 구하고, 이 중 첫번째로 높은 score를 최적의 K로 설정한다.\n",
    "- 독립 변수(총 5개) : 시공사 코드(apt_code)를 제외한 모든 컬럼\n",
    "\n",
    "단계 2 : 단계 1에서 최적의 K로 도출한 각 군집의 비율 중, 가장 큰 값을 구하시오\n",
    "\n",
    "※ 정답은 올림하여 소수점 둘째 자리까지 출력하시오. (정답 예시: 2.2"
   ]
  },
  {
   "cell_type": "code",
   "execution_count": 20,
   "metadata": {},
   "outputs": [],
   "source": [
    "from sklearn.cluster import KMeans\n",
    "from sklearn.metrics import silhouette_score\n",
    "random_state = 229"
   ]
  },
  {
   "cell_type": "code",
   "execution_count": 22,
   "metadata": {},
   "outputs": [
    {
     "data": {
      "text/plain": [
       "Index(['latitude', 'longitude', 'price_per_square_py', 'py', 'apt_code',\n",
       "       'dist_from_station'],\n",
       "      dtype='object')"
      ]
     },
     "execution_count": 22,
     "metadata": {},
     "output_type": "execute_result"
    }
   ],
   "source": [
    "df.columns"
   ]
  },
  {
   "cell_type": "code",
   "execution_count": 23,
   "metadata": {},
   "outputs": [],
   "source": [
    "col = ['latitude', 'longitude', 'price_per_square_py', 'py',\n",
    "       'dist_from_station']"
   ]
  },
  {
   "cell_type": "code",
   "execution_count": 24,
   "metadata": {},
   "outputs": [
    {
     "name": "stdout",
     "output_type": "stream",
     "text": [
      "2 0.634635924729853\n",
      "3 0.44885775222425267\n",
      "4 0.4558213655816168\n",
      "5 0.43755753782339263\n",
      "6 0.3629999389627252\n",
      "7 0.36408372786750115\n",
      "8 0.3786501238713389\n",
      "9 0.3966255576781226\n"
     ]
    }
   ],
   "source": [
    "scores = []\n",
    "for k in range(2, 10):\n",
    "    model = KMeans(n_clusters=k, random_state=random_state).fit(df[col])\n",
    "    score = silhouette_score(df[col], model.labels_)\n",
    "    print(k, score)\n",
    "    scores.append(score)"
   ]
  },
  {
   "cell_type": "code",
   "execution_count": 25,
   "metadata": {},
   "outputs": [],
   "source": [
    "k = 2\n",
    "model = KMeans(n_clusters=k, random_state=random_state).fit(df[col])"
   ]
  },
  {
   "cell_type": "code",
   "execution_count": 28,
   "metadata": {},
   "outputs": [
    {
     "data": {
      "text/html": [
       "<div>\n",
       "<style scoped>\n",
       "    .dataframe tbody tr th:only-of-type {\n",
       "        vertical-align: middle;\n",
       "    }\n",
       "\n",
       "    .dataframe tbody tr th {\n",
       "        vertical-align: top;\n",
       "    }\n",
       "\n",
       "    .dataframe thead th {\n",
       "        text-align: right;\n",
       "    }\n",
       "</style>\n",
       "<table border=\"1\" class=\"dataframe\">\n",
       "  <thead>\n",
       "    <tr style=\"text-align: right;\">\n",
       "      <th></th>\n",
       "      <th>latitude</th>\n",
       "      <th>longitude</th>\n",
       "      <th>price_per_square_py</th>\n",
       "      <th>py</th>\n",
       "      <th>apt_code</th>\n",
       "      <th>dist_from_station</th>\n",
       "      <th>label</th>\n",
       "    </tr>\n",
       "  </thead>\n",
       "  <tbody>\n",
       "    <tr>\n",
       "      <td>0</td>\n",
       "      <td>37.125541</td>\n",
       "      <td>126.913776</td>\n",
       "      <td>2860.053787</td>\n",
       "      <td>24</td>\n",
       "      <td>GEDAE</td>\n",
       "      <td>1588.406226</td>\n",
       "      <td>0</td>\n",
       "    </tr>\n",
       "    <tr>\n",
       "      <td>1</td>\n",
       "      <td>37.223169</td>\n",
       "      <td>127.026913</td>\n",
       "      <td>1715.073163</td>\n",
       "      <td>59</td>\n",
       "      <td>IHEAD</td>\n",
       "      <td>986.146800</td>\n",
       "      <td>1</td>\n",
       "    </tr>\n",
       "    <tr>\n",
       "      <td>2</td>\n",
       "      <td>37.239029</td>\n",
       "      <td>126.906303</td>\n",
       "      <td>1780.604630</td>\n",
       "      <td>57</td>\n",
       "      <td>FHIBJ</td>\n",
       "      <td>1492.514512</td>\n",
       "      <td>1</td>\n",
       "    </tr>\n",
       "    <tr>\n",
       "      <td>3</td>\n",
       "      <td>37.274433</td>\n",
       "      <td>126.737771</td>\n",
       "      <td>1508.814336</td>\n",
       "      <td>42</td>\n",
       "      <td>JBCIJ</td>\n",
       "      <td>1621.602866</td>\n",
       "      <td>1</td>\n",
       "    </tr>\n",
       "    <tr>\n",
       "      <td>4</td>\n",
       "      <td>37.082670</td>\n",
       "      <td>127.143634</td>\n",
       "      <td>2933.930488</td>\n",
       "      <td>32</td>\n",
       "      <td>EDJCI</td>\n",
       "      <td>945.034519</td>\n",
       "      <td>0</td>\n",
       "    </tr>\n",
       "  </tbody>\n",
       "</table>\n",
       "</div>"
      ],
      "text/plain": [
       "    latitude   longitude  price_per_square_py  py apt_code  dist_from_station  \\\n",
       "0  37.125541  126.913776          2860.053787  24    GEDAE        1588.406226   \n",
       "1  37.223169  127.026913          1715.073163  59    IHEAD         986.146800   \n",
       "2  37.239029  126.906303          1780.604630  57    FHIBJ        1492.514512   \n",
       "3  37.274433  126.737771          1508.814336  42    JBCIJ        1621.602866   \n",
       "4  37.082670  127.143634          2933.930488  32    EDJCI         945.034519   \n",
       "\n",
       "   label  \n",
       "0      0  \n",
       "1      1  \n",
       "2      1  \n",
       "3      1  \n",
       "4      0  "
      ]
     },
     "execution_count": 28,
     "metadata": {},
     "output_type": "execute_result"
    }
   ],
   "source": [
    "df_sub2 = df.copy()\n",
    "df_sub2['label'] = model.labels_\n",
    "df_sub2.head()"
   ]
  },
  {
   "cell_type": "code",
   "execution_count": 36,
   "metadata": {},
   "outputs": [
    {
     "data": {
      "text/plain": [
       "label\n",
       "0    201\n",
       "1    576\n",
       "dtype: int64"
      ]
     },
     "execution_count": 36,
     "metadata": {},
     "output_type": "execute_result"
    }
   ],
   "source": [
    "df_sub2.groupby('label').size()"
   ]
  },
  {
   "cell_type": "code",
   "execution_count": 37,
   "metadata": {},
   "outputs": [
    {
     "data": {
      "text/plain": [
       "777"
      ]
     },
     "execution_count": 37,
     "metadata": {},
     "output_type": "execute_result"
    }
   ],
   "source": [
    "len(df_sub2)"
   ]
  },
  {
   "cell_type": "code",
   "execution_count": 38,
   "metadata": {},
   "outputs": [
    {
     "data": {
      "text/plain": [
       "0.7413127413127413"
      ]
     },
     "execution_count": 38,
     "metadata": {},
     "output_type": "execute_result"
    }
   ],
   "source": [
    "answer = 576/777\n",
    "answer"
   ]
  },
  {
   "cell_type": "code",
   "execution_count": 39,
   "metadata": {},
   "outputs": [],
   "source": [
    "answer = 0.75"
   ]
  },
  {
   "cell_type": "markdown",
   "metadata": {},
   "source": [
    "Q3. 아파트 가격을 예측하는 모델을 만드려고 한다. 다음 단계에 따라 분석을 수행하고 질문에 답하시오."
   ]
  },
  {
   "cell_type": "code",
   "execution_count": 40,
   "metadata": {},
   "outputs": [],
   "source": [
    "from sklearn.linear_model import LinearRegression\n",
    "from sklearn.model_selection import train_test_split\n",
    "random_state = 229"
   ]
  },
  {
   "cell_type": "code",
   "execution_count": 41,
   "metadata": {},
   "outputs": [],
   "source": [
    "df_sub3 = df.copy()"
   ]
  },
  {
   "cell_type": "code",
   "execution_count": 42,
   "metadata": {},
   "outputs": [
    {
     "data": {
      "text/html": [
       "<div>\n",
       "<style scoped>\n",
       "    .dataframe tbody tr th:only-of-type {\n",
       "        vertical-align: middle;\n",
       "    }\n",
       "\n",
       "    .dataframe tbody tr th {\n",
       "        vertical-align: top;\n",
       "    }\n",
       "\n",
       "    .dataframe thead th {\n",
       "        text-align: right;\n",
       "    }\n",
       "</style>\n",
       "<table border=\"1\" class=\"dataframe\">\n",
       "  <thead>\n",
       "    <tr style=\"text-align: right;\">\n",
       "      <th></th>\n",
       "      <th>latitude</th>\n",
       "      <th>longitude</th>\n",
       "      <th>price_per_square_py</th>\n",
       "      <th>py</th>\n",
       "      <th>apt_code</th>\n",
       "      <th>dist_from_station</th>\n",
       "      <th>price</th>\n",
       "    </tr>\n",
       "  </thead>\n",
       "  <tbody>\n",
       "    <tr>\n",
       "      <td>0</td>\n",
       "      <td>37.125541</td>\n",
       "      <td>126.913776</td>\n",
       "      <td>2860.053787</td>\n",
       "      <td>24</td>\n",
       "      <td>GEDAE</td>\n",
       "      <td>1588.406226</td>\n",
       "      <td>68641.290895</td>\n",
       "    </tr>\n",
       "    <tr>\n",
       "      <td>1</td>\n",
       "      <td>37.223169</td>\n",
       "      <td>127.026913</td>\n",
       "      <td>1715.073163</td>\n",
       "      <td>59</td>\n",
       "      <td>IHEAD</td>\n",
       "      <td>986.146800</td>\n",
       "      <td>101189.316628</td>\n",
       "    </tr>\n",
       "    <tr>\n",
       "      <td>2</td>\n",
       "      <td>37.239029</td>\n",
       "      <td>126.906303</td>\n",
       "      <td>1780.604630</td>\n",
       "      <td>57</td>\n",
       "      <td>FHIBJ</td>\n",
       "      <td>1492.514512</td>\n",
       "      <td>101494.463921</td>\n",
       "    </tr>\n",
       "    <tr>\n",
       "      <td>3</td>\n",
       "      <td>37.274433</td>\n",
       "      <td>126.737771</td>\n",
       "      <td>1508.814336</td>\n",
       "      <td>42</td>\n",
       "      <td>JBCIJ</td>\n",
       "      <td>1621.602866</td>\n",
       "      <td>63370.202096</td>\n",
       "    </tr>\n",
       "    <tr>\n",
       "      <td>4</td>\n",
       "      <td>37.082670</td>\n",
       "      <td>127.143634</td>\n",
       "      <td>2933.930488</td>\n",
       "      <td>32</td>\n",
       "      <td>EDJCI</td>\n",
       "      <td>945.034519</td>\n",
       "      <td>93885.775621</td>\n",
       "    </tr>\n",
       "  </tbody>\n",
       "</table>\n",
       "</div>"
      ],
      "text/plain": [
       "    latitude   longitude  price_per_square_py  py apt_code  dist_from_station  \\\n",
       "0  37.125541  126.913776          2860.053787  24    GEDAE        1588.406226   \n",
       "1  37.223169  127.026913          1715.073163  59    IHEAD         986.146800   \n",
       "2  37.239029  126.906303          1780.604630  57    FHIBJ        1492.514512   \n",
       "3  37.274433  126.737771          1508.814336  42    JBCIJ        1621.602866   \n",
       "4  37.082670  127.143634          2933.930488  32    EDJCI         945.034519   \n",
       "\n",
       "           price  \n",
       "0   68641.290895  \n",
       "1  101189.316628  \n",
       "2  101494.463921  \n",
       "3   63370.202096  \n",
       "4   93885.775621  "
      ]
     },
     "execution_count": 42,
     "metadata": {},
     "output_type": "execute_result"
    }
   ],
   "source": [
    "df_sub3['price'] = df_sub3['price_per_square_py']*df_sub3['py']\n",
    "df_sub3.head()"
   ]
  },
  {
   "cell_type": "code",
   "execution_count": 43,
   "metadata": {},
   "outputs": [],
   "source": [
    "train_set, test_set = train_test_split(df_sub3, random_state=random_state, test_size=2/30)"
   ]
  },
  {
   "cell_type": "code",
   "execution_count": 44,
   "metadata": {},
   "outputs": [
    {
     "name": "stdout",
     "output_type": "stream",
     "text": [
      "(725, 7)\n",
      "(52, 7)\n"
     ]
    }
   ],
   "source": [
    "print(train_set.shape)\n",
    "print(test_set.shape)"
   ]
  },
  {
   "cell_type": "code",
   "execution_count": 45,
   "metadata": {},
   "outputs": [
    {
     "data": {
      "text/html": [
       "<div>\n",
       "<style scoped>\n",
       "    .dataframe tbody tr th:only-of-type {\n",
       "        vertical-align: middle;\n",
       "    }\n",
       "\n",
       "    .dataframe tbody tr th {\n",
       "        vertical-align: top;\n",
       "    }\n",
       "\n",
       "    .dataframe thead th {\n",
       "        text-align: right;\n",
       "    }\n",
       "</style>\n",
       "<table border=\"1\" class=\"dataframe\">\n",
       "  <thead>\n",
       "    <tr style=\"text-align: right;\">\n",
       "      <th></th>\n",
       "      <th>latitude</th>\n",
       "      <th>longitude</th>\n",
       "      <th>price_per_square_py</th>\n",
       "      <th>py</th>\n",
       "      <th>apt_code</th>\n",
       "      <th>dist_from_station</th>\n",
       "      <th>price</th>\n",
       "    </tr>\n",
       "  </thead>\n",
       "  <tbody>\n",
       "    <tr>\n",
       "      <td>301</td>\n",
       "      <td>37.055723</td>\n",
       "      <td>126.885253</td>\n",
       "      <td>1569.575556</td>\n",
       "      <td>40</td>\n",
       "      <td>EHCAD</td>\n",
       "      <td>1464.859132</td>\n",
       "      <td>62783.022231</td>\n",
       "    </tr>\n",
       "    <tr>\n",
       "      <td>325</td>\n",
       "      <td>37.170299</td>\n",
       "      <td>126.758981</td>\n",
       "      <td>1631.638340</td>\n",
       "      <td>32</td>\n",
       "      <td>HHGCB</td>\n",
       "      <td>1371.082457</td>\n",
       "      <td>52212.426875</td>\n",
       "    </tr>\n",
       "    <tr>\n",
       "      <td>178</td>\n",
       "      <td>37.051574</td>\n",
       "      <td>126.755140</td>\n",
       "      <td>3350.798249</td>\n",
       "      <td>24</td>\n",
       "      <td>AEEDH</td>\n",
       "      <td>1669.022820</td>\n",
       "      <td>80419.157982</td>\n",
       "    </tr>\n",
       "    <tr>\n",
       "      <td>443</td>\n",
       "      <td>37.026883</td>\n",
       "      <td>126.921716</td>\n",
       "      <td>1665.869452</td>\n",
       "      <td>24</td>\n",
       "      <td>HFIAJ</td>\n",
       "      <td>935.042689</td>\n",
       "      <td>39980.866852</td>\n",
       "    </tr>\n",
       "    <tr>\n",
       "      <td>109</td>\n",
       "      <td>37.239580</td>\n",
       "      <td>127.094128</td>\n",
       "      <td>1749.377651</td>\n",
       "      <td>40</td>\n",
       "      <td>DCJJH</td>\n",
       "      <td>1865.419774</td>\n",
       "      <td>69975.106034</td>\n",
       "    </tr>\n",
       "  </tbody>\n",
       "</table>\n",
       "</div>"
      ],
      "text/plain": [
       "      latitude   longitude  price_per_square_py  py apt_code  \\\n",
       "301  37.055723  126.885253          1569.575556  40    EHCAD   \n",
       "325  37.170299  126.758981          1631.638340  32    HHGCB   \n",
       "178  37.051574  126.755140          3350.798249  24    AEEDH   \n",
       "443  37.026883  126.921716          1665.869452  24    HFIAJ   \n",
       "109  37.239580  127.094128          1749.377651  40    DCJJH   \n",
       "\n",
       "     dist_from_station         price  \n",
       "301        1464.859132  62783.022231  \n",
       "325        1371.082457  52212.426875  \n",
       "178        1669.022820  80419.157982  \n",
       "443         935.042689  39980.866852  \n",
       "109        1865.419774  69975.106034  "
      ]
     },
     "execution_count": 45,
     "metadata": {},
     "output_type": "execute_result"
    }
   ],
   "source": [
    "train_set.head()"
   ]
  },
  {
   "cell_type": "code",
   "execution_count": 46,
   "metadata": {},
   "outputs": [
    {
     "data": {
      "text/plain": [
       "Index(['latitude', 'longitude', 'price_per_square_py', 'py', 'apt_code',\n",
       "       'dist_from_station', 'price'],\n",
       "      dtype='object')"
      ]
     },
     "execution_count": 46,
     "metadata": {},
     "output_type": "execute_result"
    }
   ],
   "source": [
    "df_sub3.columns"
   ]
  },
  {
   "cell_type": "code",
   "execution_count": 47,
   "metadata": {},
   "outputs": [],
   "source": [
    "col = ['latitude', 'longitude', 'price_per_square_py', 'py',\n",
    "       'dist_from_station']"
   ]
  },
  {
   "cell_type": "code",
   "execution_count": 49,
   "metadata": {},
   "outputs": [],
   "source": [
    "model1 = LinearRegression(fit_intercept=True).fit(train_set[col], train_set['price'])"
   ]
  },
  {
   "cell_type": "code",
   "execution_count": 50,
   "metadata": {},
   "outputs": [],
   "source": [
    "pred1 = model1.predict(test_set[col])"
   ]
  },
  {
   "cell_type": "code",
   "execution_count": 51,
   "metadata": {},
   "outputs": [],
   "source": [
    "model2 = LinearRegression(fit_intercept=False).fit(train_set[col], train_set['price'])\n",
    "pred2 = model2.predict(test_set[col])"
   ]
  },
  {
   "cell_type": "code",
   "execution_count": 52,
   "metadata": {},
   "outputs": [],
   "source": [
    "M1 = ((test_set['price']-pred1)**2).mean()"
   ]
  },
  {
   "cell_type": "code",
   "execution_count": 53,
   "metadata": {},
   "outputs": [],
   "source": [
    "M2 = ((test_set['price']-pred2)**2).mean()"
   ]
  },
  {
   "cell_type": "code",
   "execution_count": 55,
   "metadata": {},
   "outputs": [],
   "source": [
    "answer = max(M1, M2)"
   ]
  },
  {
   "cell_type": "code",
   "execution_count": 56,
   "metadata": {},
   "outputs": [],
   "source": [
    "answer = round(answer, 2)"
   ]
  },
  {
   "cell_type": "code",
   "execution_count": 57,
   "metadata": {},
   "outputs": [
    {
     "name": "stdout",
     "output_type": "stream",
     "text": [
      "19007465.67\n"
     ]
    }
   ],
   "source": [
    "print(answer)"
   ]
  },
  {
   "cell_type": "code",
   "execution_count": null,
   "metadata": {},
   "outputs": [],
   "source": []
  }
 ],
 "metadata": {
  "kernelspec": {
   "display_name": "Python 3",
   "language": "python",
   "name": "python3"
  },
  "language_info": {
   "codemirror_mode": {
    "name": "ipython",
    "version": 3
   },
   "file_extension": ".py",
   "mimetype": "text/x-python",
   "name": "python",
   "nbconvert_exporter": "python",
   "pygments_lexer": "ipython3",
   "version": "3.7.4"
  }
 },
 "nbformat": 4,
 "nbformat_minor": 2
}
