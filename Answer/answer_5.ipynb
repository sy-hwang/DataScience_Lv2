{
 "cells": [
  {
   "cell_type": "code",
   "execution_count": 1,
   "metadata": {},
   "outputs": [],
   "source": [
    "import numpy as np\n",
    "import pandas as pd"
   ]
  },
  {
   "cell_type": "code",
   "execution_count": 2,
   "metadata": {},
   "outputs": [
    {
     "data": {
      "text/html": [
       "<div>\n",
       "<style scoped>\n",
       "    .dataframe tbody tr th:only-of-type {\n",
       "        vertical-align: middle;\n",
       "    }\n",
       "\n",
       "    .dataframe tbody tr th {\n",
       "        vertical-align: top;\n",
       "    }\n",
       "\n",
       "    .dataframe thead th {\n",
       "        text-align: right;\n",
       "    }\n",
       "</style>\n",
       "<table border=\"1\" class=\"dataframe\">\n",
       "  <thead>\n",
       "    <tr style=\"text-align: right;\">\n",
       "      <th></th>\n",
       "      <th>date</th>\n",
       "      <th>area</th>\n",
       "      <th>temp</th>\n",
       "      <th>atemp</th>\n",
       "      <th>humidity</th>\n",
       "      <th>windspeed</th>\n",
       "      <th>rain</th>\n",
       "    </tr>\n",
       "  </thead>\n",
       "  <tbody>\n",
       "    <tr>\n",
       "      <td>0</td>\n",
       "      <td>2023-01-13</td>\n",
       "      <td>Cerulean City</td>\n",
       "      <td>26.869606</td>\n",
       "      <td>-8.894446</td>\n",
       "      <td>43.138450</td>\n",
       "      <td>6.009597</td>\n",
       "      <td>1</td>\n",
       "    </tr>\n",
       "    <tr>\n",
       "      <td>1</td>\n",
       "      <td>2023-01-17</td>\n",
       "      <td>Cerulean City</td>\n",
       "      <td>18.385474</td>\n",
       "      <td>-4.988309</td>\n",
       "      <td>88.427747</td>\n",
       "      <td>20.864357</td>\n",
       "      <td>1</td>\n",
       "    </tr>\n",
       "    <tr>\n",
       "      <td>2</td>\n",
       "      <td>2023-01-31</td>\n",
       "      <td>Seafoam Islands</td>\n",
       "      <td>26.867670</td>\n",
       "      <td>0.659525</td>\n",
       "      <td>30.940357</td>\n",
       "      <td>30.733466</td>\n",
       "      <td>1</td>\n",
       "    </tr>\n",
       "    <tr>\n",
       "      <td>3</td>\n",
       "      <td>2023-01-31</td>\n",
       "      <td>Goldenrod City</td>\n",
       "      <td>24.329853</td>\n",
       "      <td>107.903405</td>\n",
       "      <td>64.554282</td>\n",
       "      <td>8.618055</td>\n",
       "      <td>0</td>\n",
       "    </tr>\n",
       "    <tr>\n",
       "      <td>4</td>\n",
       "      <td>2023-01-23</td>\n",
       "      <td>Cianwood City</td>\n",
       "      <td>30.726903</td>\n",
       "      <td>75.236753</td>\n",
       "      <td>51.298311</td>\n",
       "      <td>13.717975</td>\n",
       "      <td>0</td>\n",
       "    </tr>\n",
       "  </tbody>\n",
       "</table>\n",
       "</div>"
      ],
      "text/plain": [
       "         date             area       temp       atemp   humidity  windspeed  \\\n",
       "0  2023-01-13    Cerulean City  26.869606   -8.894446  43.138450   6.009597   \n",
       "1  2023-01-17    Cerulean City  18.385474   -4.988309  88.427747  20.864357   \n",
       "2  2023-01-31  Seafoam Islands  26.867670    0.659525  30.940357  30.733466   \n",
       "3  2023-01-31   Goldenrod City  24.329853  107.903405  64.554282   8.618055   \n",
       "4  2023-01-23    Cianwood City  30.726903   75.236753  51.298311  13.717975   \n",
       "\n",
       "   rain  \n",
       "0     1  \n",
       "1     1  \n",
       "2     1  \n",
       "3     0  \n",
       "4     0  "
      ]
     },
     "execution_count": 2,
     "metadata": {},
     "output_type": "execute_result"
    }
   ],
   "source": [
    "df = pd.read_csv(\"../Dataset/Laplace's Demon.csv\")\n",
    "df.head()"
   ]
  },
  {
   "cell_type": "code",
   "execution_count": 3,
   "metadata": {},
   "outputs": [
    {
     "data": {
      "text/plain": [
       "date          object\n",
       "area          object\n",
       "temp         float64\n",
       "atemp        float64\n",
       "humidity     float64\n",
       "windspeed    float64\n",
       "rain           int64\n",
       "dtype: object"
      ]
     },
     "execution_count": 3,
     "metadata": {},
     "output_type": "execute_result"
    }
   ],
   "source": [
    "df.dtypes"
   ]
  },
  {
   "cell_type": "code",
   "execution_count": 4,
   "metadata": {},
   "outputs": [
    {
     "data": {
      "text/plain": [
       "(992, 7)"
      ]
     },
     "execution_count": 4,
     "metadata": {},
     "output_type": "execute_result"
    }
   ],
   "source": [
    "df.shape"
   ]
  },
  {
   "cell_type": "code",
   "execution_count": 5,
   "metadata": {},
   "outputs": [
    {
     "data": {
      "text/html": [
       "<div>\n",
       "<style scoped>\n",
       "    .dataframe tbody tr th:only-of-type {\n",
       "        vertical-align: middle;\n",
       "    }\n",
       "\n",
       "    .dataframe tbody tr th {\n",
       "        vertical-align: top;\n",
       "    }\n",
       "\n",
       "    .dataframe thead th {\n",
       "        text-align: right;\n",
       "    }\n",
       "</style>\n",
       "<table border=\"1\" class=\"dataframe\">\n",
       "  <thead>\n",
       "    <tr style=\"text-align: right;\">\n",
       "      <th></th>\n",
       "      <th>date</th>\n",
       "      <th>area</th>\n",
       "      <th>temp</th>\n",
       "      <th>atemp</th>\n",
       "      <th>humidity</th>\n",
       "      <th>windspeed</th>\n",
       "      <th>rain</th>\n",
       "    </tr>\n",
       "  </thead>\n",
       "  <tbody>\n",
       "    <tr>\n",
       "      <td>2</td>\n",
       "      <td>2023-01-31</td>\n",
       "      <td>Seafoam Islands</td>\n",
       "      <td>26.867670</td>\n",
       "      <td>0.659525</td>\n",
       "      <td>30.940357</td>\n",
       "      <td>30.733466</td>\n",
       "      <td>1</td>\n",
       "    </tr>\n",
       "    <tr>\n",
       "      <td>3</td>\n",
       "      <td>2023-01-31</td>\n",
       "      <td>Goldenrod City</td>\n",
       "      <td>24.329853</td>\n",
       "      <td>107.903405</td>\n",
       "      <td>64.554282</td>\n",
       "      <td>8.618055</td>\n",
       "      <td>0</td>\n",
       "    </tr>\n",
       "    <tr>\n",
       "      <td>4</td>\n",
       "      <td>2023-01-23</td>\n",
       "      <td>Cianwood City</td>\n",
       "      <td>30.726903</td>\n",
       "      <td>75.236753</td>\n",
       "      <td>51.298311</td>\n",
       "      <td>13.717975</td>\n",
       "      <td>0</td>\n",
       "    </tr>\n",
       "    <tr>\n",
       "      <td>7</td>\n",
       "      <td>2023-01-11</td>\n",
       "      <td>Goldenrod City</td>\n",
       "      <td>25.149444</td>\n",
       "      <td>19.481239</td>\n",
       "      <td>64.818155</td>\n",
       "      <td>11.085351</td>\n",
       "      <td>1</td>\n",
       "    </tr>\n",
       "    <tr>\n",
       "      <td>8</td>\n",
       "      <td>2023-01-11</td>\n",
       "      <td>Viridian Forest</td>\n",
       "      <td>25.986556</td>\n",
       "      <td>2.299876</td>\n",
       "      <td>48.217095</td>\n",
       "      <td>2.153007</td>\n",
       "      <td>1</td>\n",
       "    </tr>\n",
       "  </tbody>\n",
       "</table>\n",
       "</div>"
      ],
      "text/plain": [
       "         date             area       temp       atemp   humidity  windspeed  \\\n",
       "2  2023-01-31  Seafoam Islands  26.867670    0.659525  30.940357  30.733466   \n",
       "3  2023-01-31   Goldenrod City  24.329853  107.903405  64.554282   8.618055   \n",
       "4  2023-01-23    Cianwood City  30.726903   75.236753  51.298311  13.717975   \n",
       "7  2023-01-11   Goldenrod City  25.149444   19.481239  64.818155  11.085351   \n",
       "8  2023-01-11  Viridian Forest  25.986556    2.299876  48.217095   2.153007   \n",
       "\n",
       "   rain  \n",
       "2     1  \n",
       "3     0  \n",
       "4     0  \n",
       "7     1  \n",
       "8     1  "
      ]
     },
     "execution_count": 5,
     "metadata": {},
     "output_type": "execute_result"
    }
   ],
   "source": [
    "train_set = df.loc[df['atemp']>0]\n",
    "train_set.head()"
   ]
  },
  {
   "cell_type": "code",
   "execution_count": 6,
   "metadata": {},
   "outputs": [
    {
     "data": {
      "text/html": [
       "<div>\n",
       "<style scoped>\n",
       "    .dataframe tbody tr th:only-of-type {\n",
       "        vertical-align: middle;\n",
       "    }\n",
       "\n",
       "    .dataframe tbody tr th {\n",
       "        vertical-align: top;\n",
       "    }\n",
       "\n",
       "    .dataframe thead th {\n",
       "        text-align: right;\n",
       "    }\n",
       "</style>\n",
       "<table border=\"1\" class=\"dataframe\">\n",
       "  <thead>\n",
       "    <tr style=\"text-align: right;\">\n",
       "      <th></th>\n",
       "      <th>date</th>\n",
       "      <th>area</th>\n",
       "      <th>temp</th>\n",
       "      <th>atemp</th>\n",
       "      <th>humidity</th>\n",
       "      <th>windspeed</th>\n",
       "      <th>rain</th>\n",
       "    </tr>\n",
       "  </thead>\n",
       "  <tbody>\n",
       "    <tr>\n",
       "      <td>0</td>\n",
       "      <td>2023-01-13</td>\n",
       "      <td>Cerulean City</td>\n",
       "      <td>26.869606</td>\n",
       "      <td>-8.894446</td>\n",
       "      <td>43.138450</td>\n",
       "      <td>6.009597</td>\n",
       "      <td>1</td>\n",
       "    </tr>\n",
       "    <tr>\n",
       "      <td>1</td>\n",
       "      <td>2023-01-17</td>\n",
       "      <td>Cerulean City</td>\n",
       "      <td>18.385474</td>\n",
       "      <td>-4.988309</td>\n",
       "      <td>88.427747</td>\n",
       "      <td>20.864357</td>\n",
       "      <td>1</td>\n",
       "    </tr>\n",
       "    <tr>\n",
       "      <td>5</td>\n",
       "      <td>2023-01-11</td>\n",
       "      <td>Mt. Mortar</td>\n",
       "      <td>24.389659</td>\n",
       "      <td>-77.019645</td>\n",
       "      <td>54.324315</td>\n",
       "      <td>10.642887</td>\n",
       "      <td>1</td>\n",
       "    </tr>\n",
       "    <tr>\n",
       "      <td>6</td>\n",
       "      <td>2023-01-28</td>\n",
       "      <td>Olivine City</td>\n",
       "      <td>21.530216</td>\n",
       "      <td>-2.520045</td>\n",
       "      <td>59.038512</td>\n",
       "      <td>19.818355</td>\n",
       "      <td>1</td>\n",
       "    </tr>\n",
       "    <tr>\n",
       "      <td>9</td>\n",
       "      <td>2023-01-27</td>\n",
       "      <td>Mt. Mortar</td>\n",
       "      <td>30.257600</td>\n",
       "      <td>-41.769718</td>\n",
       "      <td>42.568695</td>\n",
       "      <td>15.386586</td>\n",
       "      <td>1</td>\n",
       "    </tr>\n",
       "  </tbody>\n",
       "</table>\n",
       "</div>"
      ],
      "text/plain": [
       "         date           area       temp      atemp   humidity  windspeed  rain\n",
       "0  2023-01-13  Cerulean City  26.869606  -8.894446  43.138450   6.009597     1\n",
       "1  2023-01-17  Cerulean City  18.385474  -4.988309  88.427747  20.864357     1\n",
       "5  2023-01-11     Mt. Mortar  24.389659 -77.019645  54.324315  10.642887     1\n",
       "6  2023-01-28   Olivine City  21.530216  -2.520045  59.038512  19.818355     1\n",
       "9  2023-01-27     Mt. Mortar  30.257600 -41.769718  42.568695  15.386586     1"
      ]
     },
     "execution_count": 6,
     "metadata": {},
     "output_type": "execute_result"
    }
   ],
   "source": [
    "test_set = df.loc[df['atemp']<=0]\n",
    "test_set.head()"
   ]
  },
  {
   "cell_type": "code",
   "execution_count": 7,
   "metadata": {},
   "outputs": [],
   "source": [
    "from sklearn.linear_model import LinearRegression\n",
    "from scipy.stats import norm"
   ]
  },
  {
   "cell_type": "code",
   "execution_count": 8,
   "metadata": {},
   "outputs": [
    {
     "data": {
      "text/plain": [
       "Index(['date', 'area', 'temp', 'atemp', 'humidity', 'windspeed', 'rain'], dtype='object')"
      ]
     },
     "execution_count": 8,
     "metadata": {},
     "output_type": "execute_result"
    }
   ],
   "source": [
    "df.columns"
   ]
  },
  {
   "cell_type": "code",
   "execution_count": 10,
   "metadata": {},
   "outputs": [],
   "source": [
    "col = ['temp', 'humidity', 'windspeed', 'rain']\n",
    "model = LinearRegression().fit(train_set[col], train_set['atemp'])\n",
    "pred_y = model.predict(test_set[col])"
   ]
  },
  {
   "cell_type": "code",
   "execution_count": 12,
   "metadata": {},
   "outputs": [
    {
     "name": "stdout",
     "output_type": "stream",
     "text": [
      "46.392572883794614 34.362970829666686\n"
     ]
    }
   ],
   "source": [
    "mean_=train_set['atemp'].mean()\n",
    "std_ = train_set['atemp'].std()\n",
    "print(mean_, std_)"
   ]
  },
  {
   "cell_type": "code",
   "execution_count": 14,
   "metadata": {},
   "outputs": [],
   "source": [
    "y=norm.ppf(0.25, mean_, std_)"
   ]
  },
  {
   "cell_type": "code",
   "execution_count": 15,
   "metadata": {},
   "outputs": [],
   "source": [
    "M=((y-pred_y)**2).mean()"
   ]
  },
  {
   "cell_type": "code",
   "execution_count": 16,
   "metadata": {},
   "outputs": [],
   "source": [
    "M = M**0.5"
   ]
  },
  {
   "cell_type": "code",
   "execution_count": 17,
   "metadata": {},
   "outputs": [
    {
     "data": {
      "text/plain": [
       "13.56"
      ]
     },
     "execution_count": 17,
     "metadata": {},
     "output_type": "execute_result"
    }
   ],
   "source": [
    "answer = round(M, 2)\n",
    "answer"
   ]
  },
  {
   "cell_type": "code",
   "execution_count": 18,
   "metadata": {},
   "outputs": [
    {
     "data": {
      "text/html": [
       "<div>\n",
       "<style scoped>\n",
       "    .dataframe tbody tr th:only-of-type {\n",
       "        vertical-align: middle;\n",
       "    }\n",
       "\n",
       "    .dataframe tbody tr th {\n",
       "        vertical-align: top;\n",
       "    }\n",
       "\n",
       "    .dataframe thead th {\n",
       "        text-align: right;\n",
       "    }\n",
       "</style>\n",
       "<table border=\"1\" class=\"dataframe\">\n",
       "  <thead>\n",
       "    <tr style=\"text-align: right;\">\n",
       "      <th></th>\n",
       "      <th>date</th>\n",
       "      <th>area</th>\n",
       "      <th>temp</th>\n",
       "      <th>atemp</th>\n",
       "      <th>humidity</th>\n",
       "      <th>windspeed</th>\n",
       "      <th>rain</th>\n",
       "    </tr>\n",
       "  </thead>\n",
       "  <tbody>\n",
       "    <tr>\n",
       "      <td>0</td>\n",
       "      <td>2023-01-13</td>\n",
       "      <td>Cerulean City</td>\n",
       "      <td>26.869606</td>\n",
       "      <td>-8.894446</td>\n",
       "      <td>43.138450</td>\n",
       "      <td>6.009597</td>\n",
       "      <td>1</td>\n",
       "    </tr>\n",
       "    <tr>\n",
       "      <td>1</td>\n",
       "      <td>2023-01-17</td>\n",
       "      <td>Cerulean City</td>\n",
       "      <td>18.385474</td>\n",
       "      <td>-4.988309</td>\n",
       "      <td>88.427747</td>\n",
       "      <td>20.864357</td>\n",
       "      <td>1</td>\n",
       "    </tr>\n",
       "    <tr>\n",
       "      <td>2</td>\n",
       "      <td>2023-01-31</td>\n",
       "      <td>Seafoam Islands</td>\n",
       "      <td>26.867670</td>\n",
       "      <td>0.659525</td>\n",
       "      <td>30.940357</td>\n",
       "      <td>30.733466</td>\n",
       "      <td>1</td>\n",
       "    </tr>\n",
       "    <tr>\n",
       "      <td>3</td>\n",
       "      <td>2023-01-31</td>\n",
       "      <td>Goldenrod City</td>\n",
       "      <td>24.329853</td>\n",
       "      <td>107.903405</td>\n",
       "      <td>64.554282</td>\n",
       "      <td>8.618055</td>\n",
       "      <td>0</td>\n",
       "    </tr>\n",
       "    <tr>\n",
       "      <td>4</td>\n",
       "      <td>2023-01-23</td>\n",
       "      <td>Cianwood City</td>\n",
       "      <td>30.726903</td>\n",
       "      <td>75.236753</td>\n",
       "      <td>51.298311</td>\n",
       "      <td>13.717975</td>\n",
       "      <td>0</td>\n",
       "    </tr>\n",
       "  </tbody>\n",
       "</table>\n",
       "</div>"
      ],
      "text/plain": [
       "         date             area       temp       atemp   humidity  windspeed  \\\n",
       "0  2023-01-13    Cerulean City  26.869606   -8.894446  43.138450   6.009597   \n",
       "1  2023-01-17    Cerulean City  18.385474   -4.988309  88.427747  20.864357   \n",
       "2  2023-01-31  Seafoam Islands  26.867670    0.659525  30.940357  30.733466   \n",
       "3  2023-01-31   Goldenrod City  24.329853  107.903405  64.554282   8.618055   \n",
       "4  2023-01-23    Cianwood City  30.726903   75.236753  51.298311  13.717975   \n",
       "\n",
       "   rain  \n",
       "0     1  \n",
       "1     1  \n",
       "2     1  \n",
       "3     0  \n",
       "4     0  "
      ]
     },
     "execution_count": 18,
     "metadata": {},
     "output_type": "execute_result"
    }
   ],
   "source": [
    "df.head()"
   ]
  },
  {
   "cell_type": "code",
   "execution_count": 21,
   "metadata": {},
   "outputs": [
    {
     "data": {
      "text/html": [
       "<div>\n",
       "<style scoped>\n",
       "    .dataframe tbody tr th:only-of-type {\n",
       "        vertical-align: middle;\n",
       "    }\n",
       "\n",
       "    .dataframe tbody tr th {\n",
       "        vertical-align: top;\n",
       "    }\n",
       "\n",
       "    .dataframe thead th {\n",
       "        text-align: right;\n",
       "    }\n",
       "</style>\n",
       "<table border=\"1\" class=\"dataframe\">\n",
       "  <thead>\n",
       "    <tr style=\"text-align: right;\">\n",
       "      <th></th>\n",
       "      <th>date</th>\n",
       "      <th>area</th>\n",
       "      <th>temp</th>\n",
       "      <th>atemp</th>\n",
       "      <th>humidity</th>\n",
       "      <th>windspeed</th>\n",
       "      <th>rain</th>\n",
       "    </tr>\n",
       "  </thead>\n",
       "  <tbody>\n",
       "    <tr>\n",
       "      <td>0</td>\n",
       "      <td>2023-01-13</td>\n",
       "      <td>Cerulean City</td>\n",
       "      <td>26.869606</td>\n",
       "      <td>-8.894446</td>\n",
       "      <td>43.138450</td>\n",
       "      <td>6.009597</td>\n",
       "      <td>1</td>\n",
       "    </tr>\n",
       "    <tr>\n",
       "      <td>1</td>\n",
       "      <td>2023-01-17</td>\n",
       "      <td>Cerulean City</td>\n",
       "      <td>18.385474</td>\n",
       "      <td>-4.988309</td>\n",
       "      <td>88.427747</td>\n",
       "      <td>20.864357</td>\n",
       "      <td>1</td>\n",
       "    </tr>\n",
       "    <tr>\n",
       "      <td>2</td>\n",
       "      <td>2023-01-31</td>\n",
       "      <td>Seafoam Islands</td>\n",
       "      <td>26.867670</td>\n",
       "      <td>0.659525</td>\n",
       "      <td>30.940357</td>\n",
       "      <td>30.733466</td>\n",
       "      <td>1</td>\n",
       "    </tr>\n",
       "    <tr>\n",
       "      <td>3</td>\n",
       "      <td>2023-01-31</td>\n",
       "      <td>Goldenrod City</td>\n",
       "      <td>24.329853</td>\n",
       "      <td>107.903405</td>\n",
       "      <td>64.554282</td>\n",
       "      <td>8.618055</td>\n",
       "      <td>-1</td>\n",
       "    </tr>\n",
       "    <tr>\n",
       "      <td>4</td>\n",
       "      <td>2023-01-23</td>\n",
       "      <td>Cianwood City</td>\n",
       "      <td>30.726903</td>\n",
       "      <td>75.236753</td>\n",
       "      <td>51.298311</td>\n",
       "      <td>13.717975</td>\n",
       "      <td>-1</td>\n",
       "    </tr>\n",
       "  </tbody>\n",
       "</table>\n",
       "</div>"
      ],
      "text/plain": [
       "         date             area       temp       atemp   humidity  windspeed  \\\n",
       "0  2023-01-13    Cerulean City  26.869606   -8.894446  43.138450   6.009597   \n",
       "1  2023-01-17    Cerulean City  18.385474   -4.988309  88.427747  20.864357   \n",
       "2  2023-01-31  Seafoam Islands  26.867670    0.659525  30.940357  30.733466   \n",
       "3  2023-01-31   Goldenrod City  24.329853  107.903405  64.554282   8.618055   \n",
       "4  2023-01-23    Cianwood City  30.726903   75.236753  51.298311  13.717975   \n",
       "\n",
       "   rain  \n",
       "0     1  \n",
       "1     1  \n",
       "2     1  \n",
       "3    -1  \n",
       "4    -1  "
      ]
     },
     "execution_count": 21,
     "metadata": {},
     "output_type": "execute_result"
    }
   ],
   "source": [
    "sub2 = df.copy()\n",
    "sub2['rain'] = np.where(sub2['rain']==0, -1, sub2['rain'])\n",
    "sub2.head()"
   ]
  },
  {
   "cell_type": "code",
   "execution_count": 26,
   "metadata": {},
   "outputs": [
    {
     "data": {
      "text/plain": [
       "32"
      ]
     },
     "execution_count": 26,
     "metadata": {},
     "output_type": "execute_result"
    }
   ],
   "source": [
    "areas = sub2['area'].unique()\n",
    "len(areas)"
   ]
  },
  {
   "cell_type": "code",
   "execution_count": 48,
   "metadata": {},
   "outputs": [
    {
     "name": "stdout",
     "output_type": "stream",
     "text": [
      "-6 2 8\n"
     ]
    }
   ],
   "source": [
    "area = 'Cerulean City'\n",
    "df_area = sub2.loc[sub2['area']==area]\n",
    "df_area = df_area.sort_values(by='date')\n",
    "df_area=df_area.reset_index(drop=True)\n",
    "df_area['cum_pre'] = df_area['rain']\n",
    "for i in range(1, len(df_area)):\n",
    "    df_area.loc[i, 'cum_pre'] = df_area.loc[i-1, 'cum_pre']+df_area.loc[i, 'rain']\n",
    "min_=df_area['cum_pre'].min()\n",
    "max_=df_area['cum_pre'].max()\n",
    "diff = max_-min_\n",
    "print(min_, max_, diff)"
   ]
  },
  {
   "cell_type": "code",
   "execution_count": 49,
   "metadata": {},
   "outputs": [],
   "source": [
    "def getDiff(area):\n",
    "    df_area = sub2.loc[sub2['area']==area]\n",
    "    df_area = df_area.sort_values(by='date')\n",
    "    df_area=df_area.reset_index(drop=True)\n",
    "    df_area['cum_pre'] = df_area['rain']\n",
    "    for i in range(1, len(df_area)):\n",
    "        df_area.loc[i, 'cum_pre'] = df_area.loc[i-1, 'cum_pre']+df_area.loc[i, 'rain']\n",
    "    min_=df_area['cum_pre'].min()\n",
    "    max_=df_area['cum_pre'].max()\n",
    "    diff = max_-min_\n",
    "    return diff"
   ]
  },
  {
   "cell_type": "code",
   "execution_count": 52,
   "metadata": {},
   "outputs": [
    {
     "name": "stdout",
     "output_type": "stream",
     "text": [
      "Cerulean City 8\n",
      "Seafoam Islands 6\n",
      "Goldenrod City 6\n",
      "Cianwood City 8\n",
      "Mt. Mortar 11\n",
      "Olivine City 9\n",
      "Viridian Forest 9\n",
      "Mt. Moon 10\n",
      "Mahogany Town 6\n",
      "Ruins of Alph 6\n",
      "Whirl Islands 4\n",
      "Lavender Town 6\n",
      "Mt. Silver 14\n",
      "Tohjo Falls 9\n",
      "Saffron City 5\n",
      "Cherrygrove City 9\n",
      "Pallet Town 6\n",
      "Pewter City 6\n",
      "Cinnabar Island 12\n",
      "Power Plant 7\n",
      "Vermillion City 10\n",
      "Blackthorn City 10\n",
      "Azalea Town 8\n",
      "Viridian City 6\n",
      "Ecruteak City 10\n",
      "New Bark Town 11\n",
      "Celadon City 16\n",
      "Safari Zone 13\n",
      "Fuchsia City 6\n",
      "Lake of Rage 18\n",
      "Violet City 8\n",
      "National Park 7\n"
     ]
    }
   ],
   "source": [
    "diffs=[]\n",
    "for area in areas:\n",
    "    diff = getDiff(area)\n",
    "    diffs.append(diff)\n",
    "    print(area, diff)"
   ]
  },
  {
   "cell_type": "code",
   "execution_count": 55,
   "metadata": {},
   "outputs": [
    {
     "data": {
      "text/plain": [
       "[4,\n",
       " 5,\n",
       " 6,\n",
       " 6,\n",
       " 6,\n",
       " 6,\n",
       " 6,\n",
       " 6,\n",
       " 6,\n",
       " 6,\n",
       " 6,\n",
       " 7,\n",
       " 7,\n",
       " 8,\n",
       " 8,\n",
       " 8,\n",
       " 8,\n",
       " 9,\n",
       " 9,\n",
       " 9,\n",
       " 9,\n",
       " 10,\n",
       " 10,\n",
       " 10,\n",
       " 10,\n",
       " 11,\n",
       " 11,\n",
       " 12,\n",
       " 13,\n",
       " 14,\n",
       " 16,\n",
       " 18]"
      ]
     },
     "execution_count": 55,
     "metadata": {},
     "output_type": "execute_result"
    }
   ],
   "source": [
    "diffs.sort()\n",
    "diffs"
   ]
  },
  {
   "cell_type": "raw",
   "metadata": {},
   "source": [
    "answer = 18"
   ]
  },
  {
   "cell_type": "code",
   "execution_count": 56,
   "metadata": {},
   "outputs": [],
   "source": [
    "from sklearn.cluster import KMeans\n",
    "from sklearn.preprocessing import StandardScaler\n",
    "random_state=229"
   ]
  },
  {
   "cell_type": "code",
   "execution_count": 66,
   "metadata": {},
   "outputs": [
    {
     "data": {
      "text/html": [
       "<div>\n",
       "<style scoped>\n",
       "    .dataframe tbody tr th:only-of-type {\n",
       "        vertical-align: middle;\n",
       "    }\n",
       "\n",
       "    .dataframe tbody tr th {\n",
       "        vertical-align: top;\n",
       "    }\n",
       "\n",
       "    .dataframe thead th {\n",
       "        text-align: right;\n",
       "    }\n",
       "</style>\n",
       "<table border=\"1\" class=\"dataframe\">\n",
       "  <thead>\n",
       "    <tr style=\"text-align: right;\">\n",
       "      <th></th>\n",
       "      <th>date</th>\n",
       "      <th>area</th>\n",
       "      <th>temp</th>\n",
       "      <th>atemp</th>\n",
       "      <th>humidity</th>\n",
       "      <th>windspeed</th>\n",
       "      <th>rain</th>\n",
       "    </tr>\n",
       "  </thead>\n",
       "  <tbody>\n",
       "    <tr>\n",
       "      <td>0</td>\n",
       "      <td>2023-01-13</td>\n",
       "      <td>Cerulean City</td>\n",
       "      <td>26.869606</td>\n",
       "      <td>-8.894446</td>\n",
       "      <td>43.138450</td>\n",
       "      <td>6.009597</td>\n",
       "      <td>1</td>\n",
       "    </tr>\n",
       "    <tr>\n",
       "      <td>1</td>\n",
       "      <td>2023-01-17</td>\n",
       "      <td>Cerulean City</td>\n",
       "      <td>18.385474</td>\n",
       "      <td>-4.988309</td>\n",
       "      <td>88.427747</td>\n",
       "      <td>20.864357</td>\n",
       "      <td>1</td>\n",
       "    </tr>\n",
       "    <tr>\n",
       "      <td>2</td>\n",
       "      <td>2023-01-31</td>\n",
       "      <td>Seafoam Islands</td>\n",
       "      <td>26.867670</td>\n",
       "      <td>0.659525</td>\n",
       "      <td>30.940357</td>\n",
       "      <td>30.733466</td>\n",
       "      <td>1</td>\n",
       "    </tr>\n",
       "    <tr>\n",
       "      <td>3</td>\n",
       "      <td>2023-01-31</td>\n",
       "      <td>Goldenrod City</td>\n",
       "      <td>24.329853</td>\n",
       "      <td>107.903405</td>\n",
       "      <td>64.554282</td>\n",
       "      <td>8.618055</td>\n",
       "      <td>0</td>\n",
       "    </tr>\n",
       "    <tr>\n",
       "      <td>4</td>\n",
       "      <td>2023-01-23</td>\n",
       "      <td>Cianwood City</td>\n",
       "      <td>30.726903</td>\n",
       "      <td>75.236753</td>\n",
       "      <td>51.298311</td>\n",
       "      <td>13.717975</td>\n",
       "      <td>0</td>\n",
       "    </tr>\n",
       "  </tbody>\n",
       "</table>\n",
       "</div>"
      ],
      "text/plain": [
       "         date             area       temp       atemp   humidity  windspeed  \\\n",
       "0  2023-01-13    Cerulean City  26.869606   -8.894446  43.138450   6.009597   \n",
       "1  2023-01-17    Cerulean City  18.385474   -4.988309  88.427747  20.864357   \n",
       "2  2023-01-31  Seafoam Islands  26.867670    0.659525  30.940357  30.733466   \n",
       "3  2023-01-31   Goldenrod City  24.329853  107.903405  64.554282   8.618055   \n",
       "4  2023-01-23    Cianwood City  30.726903   75.236753  51.298311  13.717975   \n",
       "\n",
       "   rain  \n",
       "0     1  \n",
       "1     1  \n",
       "2     1  \n",
       "3     0  \n",
       "4     0  "
      ]
     },
     "execution_count": 66,
     "metadata": {},
     "output_type": "execute_result"
    }
   ],
   "source": [
    "df_sub3 = df.copy()\n",
    "df_sub3.head()"
   ]
  },
  {
   "cell_type": "code",
   "execution_count": 58,
   "metadata": {},
   "outputs": [
    {
     "data": {
      "text/plain": [
       "Index(['date', 'area', 'temp', 'atemp', 'humidity', 'windspeed', 'rain'], dtype='object')"
      ]
     },
     "execution_count": 58,
     "metadata": {},
     "output_type": "execute_result"
    }
   ],
   "source": [
    "df_sub3.columns"
   ]
  },
  {
   "cell_type": "code",
   "execution_count": 67,
   "metadata": {},
   "outputs": [],
   "source": [
    "scaler = StandardScaler().fit(df_sub3[['temp', 'atemp', 'humidity', 'windspeed']])\n",
    "df_sub3[['temp', 'atemp', 'humidity', 'windspeed']]=scaler.transform(df_sub3[['temp', 'atemp', 'humidity', 'windspeed']])"
   ]
  },
  {
   "cell_type": "code",
   "execution_count": 68,
   "metadata": {},
   "outputs": [
    {
     "data": {
      "text/html": [
       "<div>\n",
       "<style scoped>\n",
       "    .dataframe tbody tr th:only-of-type {\n",
       "        vertical-align: middle;\n",
       "    }\n",
       "\n",
       "    .dataframe tbody tr th {\n",
       "        vertical-align: top;\n",
       "    }\n",
       "\n",
       "    .dataframe thead th {\n",
       "        text-align: right;\n",
       "    }\n",
       "</style>\n",
       "<table border=\"1\" class=\"dataframe\">\n",
       "  <thead>\n",
       "    <tr style=\"text-align: right;\">\n",
       "      <th></th>\n",
       "      <th>date</th>\n",
       "      <th>area</th>\n",
       "      <th>temp</th>\n",
       "      <th>atemp</th>\n",
       "      <th>humidity</th>\n",
       "      <th>windspeed</th>\n",
       "      <th>rain</th>\n",
       "    </tr>\n",
       "  </thead>\n",
       "  <tbody>\n",
       "    <tr>\n",
       "      <td>0</td>\n",
       "      <td>2023-01-13</td>\n",
       "      <td>Cerulean City</td>\n",
       "      <td>0.524821</td>\n",
       "      <td>-0.604300</td>\n",
       "      <td>-1.250768</td>\n",
       "      <td>-0.859196</td>\n",
       "      <td>1</td>\n",
       "    </tr>\n",
       "    <tr>\n",
       "      <td>1</td>\n",
       "      <td>2023-01-17</td>\n",
       "      <td>Cerulean City</td>\n",
       "      <td>-0.895741</td>\n",
       "      <td>-0.524980</td>\n",
       "      <td>1.413644</td>\n",
       "      <td>0.740058</td>\n",
       "      <td>1</td>\n",
       "    </tr>\n",
       "    <tr>\n",
       "      <td>2</td>\n",
       "      <td>2023-01-31</td>\n",
       "      <td>Seafoam Islands</td>\n",
       "      <td>0.524496</td>\n",
       "      <td>-0.410293</td>\n",
       "      <td>-1.968393</td>\n",
       "      <td>1.802559</td>\n",
       "      <td>1</td>\n",
       "    </tr>\n",
       "    <tr>\n",
       "      <td>3</td>\n",
       "      <td>2023-01-31</td>\n",
       "      <td>Goldenrod City</td>\n",
       "      <td>0.099571</td>\n",
       "      <td>1.767447</td>\n",
       "      <td>0.009146</td>\n",
       "      <td>-0.578371</td>\n",
       "      <td>0</td>\n",
       "    </tr>\n",
       "    <tr>\n",
       "      <td>4</td>\n",
       "      <td>2023-01-23</td>\n",
       "      <td>Cianwood City</td>\n",
       "      <td>1.170677</td>\n",
       "      <td>1.104104</td>\n",
       "      <td>-0.770716</td>\n",
       "      <td>-0.029317</td>\n",
       "      <td>0</td>\n",
       "    </tr>\n",
       "  </tbody>\n",
       "</table>\n",
       "</div>"
      ],
      "text/plain": [
       "         date             area      temp     atemp  humidity  windspeed  rain\n",
       "0  2023-01-13    Cerulean City  0.524821 -0.604300 -1.250768  -0.859196     1\n",
       "1  2023-01-17    Cerulean City -0.895741 -0.524980  1.413644   0.740058     1\n",
       "2  2023-01-31  Seafoam Islands  0.524496 -0.410293 -1.968393   1.802559     1\n",
       "3  2023-01-31   Goldenrod City  0.099571  1.767447  0.009146  -0.578371     0\n",
       "4  2023-01-23    Cianwood City  1.170677  1.104104 -0.770716  -0.029317     0"
      ]
     },
     "execution_count": 68,
     "metadata": {},
     "output_type": "execute_result"
    }
   ],
   "source": [
    "df_sub3.head()"
   ]
  },
  {
   "cell_type": "code",
   "execution_count": 69,
   "metadata": {},
   "outputs": [],
   "source": [
    "col = ['temp', 'atemp', 'humidity', 'windspeed', 'rain']\n",
    "model = KMeans(n_clusters=2, random_state=random_state).fit(df_sub3[col])"
   ]
  },
  {
   "cell_type": "code",
   "execution_count": 79,
   "metadata": {},
   "outputs": [
    {
     "data": {
      "text/html": [
       "<div>\n",
       "<style scoped>\n",
       "    .dataframe tbody tr th:only-of-type {\n",
       "        vertical-align: middle;\n",
       "    }\n",
       "\n",
       "    .dataframe tbody tr th {\n",
       "        vertical-align: top;\n",
       "    }\n",
       "\n",
       "    .dataframe thead th {\n",
       "        text-align: right;\n",
       "    }\n",
       "</style>\n",
       "<table border=\"1\" class=\"dataframe\">\n",
       "  <thead>\n",
       "    <tr style=\"text-align: right;\">\n",
       "      <th></th>\n",
       "      <th>date</th>\n",
       "      <th>area</th>\n",
       "      <th>temp</th>\n",
       "      <th>atemp</th>\n",
       "      <th>humidity</th>\n",
       "      <th>windspeed</th>\n",
       "      <th>rain</th>\n",
       "      <th>label</th>\n",
       "      <th>temp_orig</th>\n",
       "      <th>atemp_orig</th>\n",
       "    </tr>\n",
       "  </thead>\n",
       "  <tbody>\n",
       "    <tr>\n",
       "      <td>0</td>\n",
       "      <td>2023-01-13</td>\n",
       "      <td>Cerulean City</td>\n",
       "      <td>0.524821</td>\n",
       "      <td>-0.604300</td>\n",
       "      <td>-1.250768</td>\n",
       "      <td>-0.859196</td>\n",
       "      <td>1</td>\n",
       "      <td>1</td>\n",
       "      <td>26.869606</td>\n",
       "      <td>-8.894446</td>\n",
       "    </tr>\n",
       "    <tr>\n",
       "      <td>1</td>\n",
       "      <td>2023-01-17</td>\n",
       "      <td>Cerulean City</td>\n",
       "      <td>-0.895741</td>\n",
       "      <td>-0.524980</td>\n",
       "      <td>1.413644</td>\n",
       "      <td>0.740058</td>\n",
       "      <td>1</td>\n",
       "      <td>1</td>\n",
       "      <td>18.385474</td>\n",
       "      <td>-4.988309</td>\n",
       "    </tr>\n",
       "    <tr>\n",
       "      <td>2</td>\n",
       "      <td>2023-01-31</td>\n",
       "      <td>Seafoam Islands</td>\n",
       "      <td>0.524496</td>\n",
       "      <td>-0.410293</td>\n",
       "      <td>-1.968393</td>\n",
       "      <td>1.802559</td>\n",
       "      <td>1</td>\n",
       "      <td>1</td>\n",
       "      <td>26.867670</td>\n",
       "      <td>0.659525</td>\n",
       "    </tr>\n",
       "    <tr>\n",
       "      <td>3</td>\n",
       "      <td>2023-01-31</td>\n",
       "      <td>Goldenrod City</td>\n",
       "      <td>0.099571</td>\n",
       "      <td>1.767447</td>\n",
       "      <td>0.009146</td>\n",
       "      <td>-0.578371</td>\n",
       "      <td>0</td>\n",
       "      <td>0</td>\n",
       "      <td>24.329853</td>\n",
       "      <td>107.903405</td>\n",
       "    </tr>\n",
       "    <tr>\n",
       "      <td>4</td>\n",
       "      <td>2023-01-23</td>\n",
       "      <td>Cianwood City</td>\n",
       "      <td>1.170677</td>\n",
       "      <td>1.104104</td>\n",
       "      <td>-0.770716</td>\n",
       "      <td>-0.029317</td>\n",
       "      <td>0</td>\n",
       "      <td>0</td>\n",
       "      <td>30.726903</td>\n",
       "      <td>75.236753</td>\n",
       "    </tr>\n",
       "  </tbody>\n",
       "</table>\n",
       "</div>"
      ],
      "text/plain": [
       "         date             area      temp     atemp  humidity  windspeed  rain  \\\n",
       "0  2023-01-13    Cerulean City  0.524821 -0.604300 -1.250768  -0.859196     1   \n",
       "1  2023-01-17    Cerulean City -0.895741 -0.524980  1.413644   0.740058     1   \n",
       "2  2023-01-31  Seafoam Islands  0.524496 -0.410293 -1.968393   1.802559     1   \n",
       "3  2023-01-31   Goldenrod City  0.099571  1.767447  0.009146  -0.578371     0   \n",
       "4  2023-01-23    Cianwood City  1.170677  1.104104 -0.770716  -0.029317     0   \n",
       "\n",
       "   label  temp_orig  atemp_orig  \n",
       "0      1  26.869606   -8.894446  \n",
       "1      1  18.385474   -4.988309  \n",
       "2      1  26.867670    0.659525  \n",
       "3      0  24.329853  107.903405  \n",
       "4      0  30.726903   75.236753  "
      ]
     },
     "execution_count": 79,
     "metadata": {},
     "output_type": "execute_result"
    }
   ],
   "source": [
    "df_sub3['label'] = model.labels_\n",
    "df_sub3['atemp_orig'] = df['atemp']\n",
    "df_sub3.head()"
   ]
  },
  {
   "cell_type": "code",
   "execution_count": 80,
   "metadata": {},
   "outputs": [
    {
     "data": {
      "text/plain": [
       "label\n",
       "0    63.328541\n",
       "1   -12.434458\n",
       "Name: atemp_orig, dtype: float64"
      ]
     },
     "execution_count": 80,
     "metadata": {},
     "output_type": "execute_result"
    }
   ],
   "source": [
    "df_sub3.groupby('label')['atemp_orig'].mean()"
   ]
  },
  {
   "cell_type": "code",
   "execution_count": 81,
   "metadata": {},
   "outputs": [],
   "source": [
    "answer = df_sub3.groupby('label')['atemp_orig'].mean().sum()"
   ]
  },
  {
   "cell_type": "code",
   "execution_count": 82,
   "metadata": {},
   "outputs": [
    {
     "data": {
      "text/plain": [
       "50.89408263555124"
      ]
     },
     "execution_count": 82,
     "metadata": {},
     "output_type": "execute_result"
    }
   ],
   "source": [
    "answer"
   ]
  },
  {
   "cell_type": "code",
   "execution_count": 83,
   "metadata": {},
   "outputs": [],
   "source": [
    "answer = 50.89"
   ]
  },
  {
   "cell_type": "code",
   "execution_count": null,
   "metadata": {},
   "outputs": [],
   "source": []
  }
 ],
 "metadata": {
  "kernelspec": {
   "display_name": "Python 3",
   "language": "python",
   "name": "python3"
  },
  "language_info": {
   "codemirror_mode": {
    "name": "ipython",
    "version": 3
   },
   "file_extension": ".py",
   "mimetype": "text/x-python",
   "name": "python",
   "nbconvert_exporter": "python",
   "pygments_lexer": "ipython3",
   "version": "3.7.4"
  }
 },
 "nbformat": 4,
 "nbformat_minor": 2
}
